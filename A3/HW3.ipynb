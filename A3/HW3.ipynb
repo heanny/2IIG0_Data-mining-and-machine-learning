{
 "cells": [
  {
   "cell_type": "markdown",
   "metadata": {
    "id": "IefLcgrL7FDv"
   },
   "source": [
    "# Exercise : Convolution Neural Network"
   ]
  },
  {
   "cell_type": "code",
   "execution_count": 1,
   "metadata": {
    "id": "r2Y4D6z77EUJ"
   },
   "outputs": [],
   "source": [
    "from __future__ import print_function\n",
    "import argparse\n",
    "import torch\n",
    "import torch.nn as nn\n",
    "import torch.nn.functional as F\n",
    "import torch.optim as optim\n",
    "from torchvision import datasets, transforms\n",
    "from torch.utils.data import random_split\n",
    "from torch.autograd import Variable\n",
    "import matplotlib.pyplot as plt\n",
    "import torchvision\n",
    "import numpy as np\n",
    "import os\n",
    "import random"
   ]
  },
  {
   "cell_type": "code",
   "execution_count": 2,
   "metadata": {
    "id": "L44aohWh75iz"
   },
   "outputs": [],
   "source": [
    "def seed_everything(seed=42):\n",
    "    random.seed(seed)\n",
    "    os.environ['PYTHONHASHSEED'] = str(seed)\n",
    "    torch.manual_seed(seed)\n",
    "    torch.cuda.manual_seed(seed)\n",
    "    np.random.seed(seed)\n",
    "    torch.backends.cudnn.benchmark = False\n",
    "    torch.backends.cudnn.deterministic = True"
   ]
  },
  {
   "cell_type": "code",
   "execution_count": 3,
   "metadata": {
    "id": "ljjs72kp7Oh2"
   },
   "outputs": [],
   "source": [
    "# Download data and define the transformer (data normalization)\n",
    "# Do not change this function\n",
    "def load_data(seed_value=42):\n",
    "  MNIST_normalize = transforms.Normalize((0.1307,), (0.3081,))\n",
    "  MNIST_transform = transforms.Compose([\n",
    "      transforms.ToTensor(),\n",
    "      MNIST_normalize\n",
    "  ])\n",
    "\n",
    "  # MNIST Dataset\n",
    "  train = datasets.MNIST(root='./data/',\n",
    "                                train=True,\n",
    "                                transform=MNIST_transform,\n",
    "                                download=True)\n",
    "\n",
    "  test = datasets.MNIST(root='./data/',\n",
    "                                train=False,\n",
    "                                transform=MNIST_transform)\n",
    "\n",
    "  #print(valid.dataset.data.shape)\n",
    "  train_subset_size = 5000\n",
    "  train.data = train.data[0:train_subset_size]\n",
    "  train.targets = train.targets[0:train_subset_size]\n",
    "\n",
    "  train_size = int(0.9 * train_subset_size)\n",
    "  val_size =  int(0.1 * train_subset_size)\n",
    "  print(\"train_set_size:\", train_size)\n",
    "  print(\"val_set_size:\", val_size)\n",
    "\n",
    "  train, valid = random_split(train, [train_size, val_size], generator=torch.Generator().manual_seed(seed_value))\n",
    "\n",
    "  return train, valid, test"
   ]
  },
  {
   "cell_type": "code",
   "execution_count": 4,
   "metadata": {
    "id": "pk9alc9U7YtS"
   },
   "outputs": [],
   "source": [
    "# function to show data\n",
    "def imshow(img):\n",
    "    npimg = img.numpy()\n",
    "    plt.imshow(np.transpose(npimg, (1, 2, 0)))\n",
    "    plt.show()"
   ]
  },
  {
   "cell_type": "code",
   "execution_count": 5,
   "metadata": {
    "id": "a3QAP2Ri8IOX"
   },
   "outputs": [],
   "source": [
    "# Data Loader \n",
    "def get_data_loaders(dataset, batch_size, shuffle=True):\n",
    "  loader = torch.utils.data.DataLoader(dataset=dataset,\n",
    "                                            batch_size=batch_size,\n",
    "                                            shuffle=shuffle)\n",
    "  return loader"
   ]
  },
  {
   "cell_type": "code",
   "execution_count": 6,
   "metadata": {
    "id": "gtnyCSi-7cAT"
   },
   "outputs": [],
   "source": [
    "# Model\n",
    "class Conv_Net(nn.Module):\n",
    "    def __init__(self, dropout_value=0.5):\n",
    "        super(Conv_Net, self).__init__()\n",
    "        self.conv1 = nn.Conv2d(1, 128, kernel_size=3)\n",
    "        self.conv2 = nn.Conv2d(128, 256, kernel_size=3)\n",
    "        self.mp = nn.MaxPool2d(2)\n",
    "        self.drop = nn.Dropout(dropout_value)\n",
    "        self.fc = nn.Linear(6400, 10)\n",
    "\n",
    "    def forward(self, x):\n",
    "        in_size = x.size(0)\n",
    "        x = F.relu(self.mp(self.conv1(x)))\n",
    "        x = F.relu(self.mp(self.conv2(x)))\n",
    "        x = x.view(in_size, -1)  # flatten the tensor\n",
    "        x = self.drop(x)\n",
    "        x = self.fc(x)\n",
    "        return F.log_softmax(x)"
   ]
  },
  {
   "cell_type": "code",
   "execution_count": 7,
   "metadata": {
    "id": "WHsS44Mw7hVY"
   },
   "outputs": [],
   "source": [
    "def train(epoch, train_loader, device):\n",
    "    model.train()\n",
    "    for batch_idx, (data, target) in enumerate(train_loader):\n",
    "        data, target = Variable(data).to(device), Variable(target).to(device)\n",
    "        optimizer.zero_grad()\n",
    "        output = model(data)\n",
    "        loss = F.nll_loss(output, target)\n",
    "        loss.backward()\n",
    "        optimizer.step()\n",
    "        if batch_idx % 10 == 0:\n",
    "            print('Train Epoch: {} [{}/{} ({:.0f}%)]\\tLoss: {:.6f}'.format(\n",
    "                epoch, batch_idx * len(data), len(train_loader.dataset),\n",
    "                100. * batch_idx / len(train_loader), loss.data))\n"
   ]
  },
  {
   "cell_type": "code",
   "execution_count": 8,
   "metadata": {
    "id": "zK5EQlU47lcp"
   },
   "outputs": [],
   "source": [
    "def test(test_loader, device, is_train_set=True):\n",
    "    model.eval()\n",
    "    test_loss = 0\n",
    "    correct = 0\n",
    "    with torch.no_grad():\n",
    "      for data, target in test_loader:\n",
    "          data, target = Variable(data).to(device), Variable(target).to(device)\n",
    "          output = model(data)\n",
    "          # sum up batch loss\n",
    "          test_loss += F.nll_loss(output, target, size_average=False).data\n",
    "          # get the index of the max log-probability\n",
    "          pred = output.data.max(1, keepdim=True)[1]\n",
    "          correct += pred.eq(target.data.view_as(pred)).cpu().sum()\n",
    "\n",
    "    test_loss /= len(test_loader.dataset)\n",
    "    print('\\n{}: Average loss: {:.4f}, Accuracy: {}/{} ({:.0f}%)\\n'.format(\n",
    "        'Train evaluation' if is_train_set else 'Val/Test evaluation', test_loss, correct, len(test_loader.dataset),\n",
    "        100. * correct / len(test_loader.dataset)))"
   ]
  },
  {
   "cell_type": "markdown",
   "metadata": {},
   "source": [
    "# Model for answering questions A & B"
   ]
  },
  {
   "cell_type": "code",
   "execution_count": 9,
   "metadata": {
    "id": "-Occ6URz8cL6"
   },
   "outputs": [
    {
     "name": "stdout",
     "output_type": "stream",
     "text": [
      "train_set_size: 4500\n",
      "val_set_size: 500\n"
     ]
    },
    {
     "name": "stderr",
     "output_type": "stream",
     "text": [
      "<ipython-input-6-5823d334e1cc>:18: UserWarning: Implicit dimension choice for log_softmax has been deprecated. Change the call to include dim=X as an argument.\n",
      "  return F.log_softmax(x)\n"
     ]
    },
    {
     "name": "stdout",
     "output_type": "stream",
     "text": [
      "Train Epoch: 1 [0/4500 (0%)]\tLoss: 2.289669\n",
      "Train Epoch: 1 [1280/4500 (28%)]\tLoss: 0.649360\n",
      "Train Epoch: 1 [2560/4500 (56%)]\tLoss: 0.240182\n",
      "Train Epoch: 1 [3840/4500 (83%)]\tLoss: 0.378277\n"
     ]
    },
    {
     "name": "stderr",
     "output_type": "stream",
     "text": [
      "/home/bas/.local/lib/python3.8/site-packages/torch/nn/_reduction.py:42: UserWarning: size_average and reduce args will be deprecated, please use reduction='sum' instead.\n",
      "  warnings.warn(warning.format(ret))\n"
     ]
    },
    {
     "name": "stdout",
     "output_type": "stream",
     "text": [
      "\n",
      "Train evaluation: Average loss: 0.1670, Accuracy: 4280/4500 (95%)\n",
      "\n",
      "\n",
      "Val/Test evaluation: Average loss: 0.1903, Accuracy: 473/500 (95%)\n",
      "\n",
      "Train Epoch: 2 [0/4500 (0%)]\tLoss: 0.158392\n",
      "Train Epoch: 2 [1280/4500 (28%)]\tLoss: 0.346545\n",
      "Train Epoch: 2 [2560/4500 (56%)]\tLoss: 0.199414\n",
      "Train Epoch: 2 [3840/4500 (83%)]\tLoss: 0.064264\n",
      "\n",
      "Train evaluation: Average loss: 0.0885, Accuracy: 4380/4500 (97%)\n",
      "\n",
      "\n",
      "Val/Test evaluation: Average loss: 0.1062, Accuracy: 482/500 (96%)\n",
      "\n",
      "Train Epoch: 3 [0/4500 (0%)]\tLoss: 0.098561\n",
      "Train Epoch: 3 [1280/4500 (28%)]\tLoss: 0.036250\n",
      "Train Epoch: 3 [2560/4500 (56%)]\tLoss: 0.119853\n",
      "Train Epoch: 3 [3840/4500 (83%)]\tLoss: 0.126679\n",
      "\n",
      "Train evaluation: Average loss: 0.0748, Accuracy: 4391/4500 (98%)\n",
      "\n",
      "\n",
      "Val/Test evaluation: Average loss: 0.1069, Accuracy: 483/500 (97%)\n",
      "\n",
      "Train Epoch: 4 [0/4500 (0%)]\tLoss: 0.053599\n",
      "Train Epoch: 4 [1280/4500 (28%)]\tLoss: 0.114285\n",
      "Train Epoch: 4 [2560/4500 (56%)]\tLoss: 0.025519\n",
      "Train Epoch: 4 [3840/4500 (83%)]\tLoss: 0.020782\n",
      "\n",
      "Train evaluation: Average loss: 0.0373, Accuracy: 4446/4500 (99%)\n",
      "\n",
      "\n",
      "Val/Test evaluation: Average loss: 0.1016, Accuracy: 485/500 (97%)\n",
      "\n",
      "Train Epoch: 5 [0/4500 (0%)]\tLoss: 0.022979\n",
      "Train Epoch: 5 [1280/4500 (28%)]\tLoss: 0.027228\n",
      "Train Epoch: 5 [2560/4500 (56%)]\tLoss: 0.086626\n",
      "Train Epoch: 5 [3840/4500 (83%)]\tLoss: 0.042537\n",
      "\n",
      "Train evaluation: Average loss: 0.0343, Accuracy: 4450/4500 (99%)\n",
      "\n",
      "\n",
      "Val/Test evaluation: Average loss: 0.1182, Accuracy: 484/500 (97%)\n",
      "\n",
      "Train Epoch: 6 [0/4500 (0%)]\tLoss: 0.017942\n",
      "Train Epoch: 6 [1280/4500 (28%)]\tLoss: 0.022643\n",
      "Train Epoch: 6 [2560/4500 (56%)]\tLoss: 0.015215\n",
      "Train Epoch: 6 [3840/4500 (83%)]\tLoss: 0.051477\n",
      "\n",
      "Train evaluation: Average loss: 0.0100, Accuracy: 4489/4500 (100%)\n",
      "\n",
      "\n",
      "Val/Test evaluation: Average loss: 0.0611, Accuracy: 489/500 (98%)\n",
      "\n",
      "Train Epoch: 7 [0/4500 (0%)]\tLoss: 0.011290\n",
      "Train Epoch: 7 [1280/4500 (28%)]\tLoss: 0.002848\n",
      "Train Epoch: 7 [2560/4500 (56%)]\tLoss: 0.026588\n",
      "Train Epoch: 7 [3840/4500 (83%)]\tLoss: 0.012431\n",
      "\n",
      "Train evaluation: Average loss: 0.0104, Accuracy: 4486/4500 (100%)\n",
      "\n",
      "\n",
      "Val/Test evaluation: Average loss: 0.1095, Accuracy: 486/500 (97%)\n",
      "\n",
      "Train Epoch: 8 [0/4500 (0%)]\tLoss: 0.001734\n",
      "Train Epoch: 8 [1280/4500 (28%)]\tLoss: 0.009044\n",
      "Train Epoch: 8 [2560/4500 (56%)]\tLoss: 0.005654\n",
      "Train Epoch: 8 [3840/4500 (83%)]\tLoss: 0.025441\n",
      "\n",
      "Train evaluation: Average loss: 0.0118, Accuracy: 4483/4500 (100%)\n",
      "\n",
      "\n",
      "Val/Test evaluation: Average loss: 0.0875, Accuracy: 489/500 (98%)\n",
      "\n",
      "Train Epoch: 9 [0/4500 (0%)]\tLoss: 0.002213\n",
      "Train Epoch: 9 [1280/4500 (28%)]\tLoss: 0.006153\n",
      "Train Epoch: 9 [2560/4500 (56%)]\tLoss: 0.011576\n",
      "Train Epoch: 9 [3840/4500 (83%)]\tLoss: 0.000295\n",
      "\n",
      "Train evaluation: Average loss: 0.0037, Accuracy: 4495/4500 (100%)\n",
      "\n",
      "\n",
      "Val/Test evaluation: Average loss: 0.0766, Accuracy: 492/500 (98%)\n",
      "\n",
      "Train Epoch: 10 [0/4500 (0%)]\tLoss: 0.001065\n",
      "Train Epoch: 10 [1280/4500 (28%)]\tLoss: 0.067840\n",
      "Train Epoch: 10 [2560/4500 (56%)]\tLoss: 0.041553\n",
      "Train Epoch: 10 [3840/4500 (83%)]\tLoss: 0.047509\n",
      "\n",
      "Train evaluation: Average loss: 0.0074, Accuracy: 4491/4500 (100%)\n",
      "\n",
      "\n",
      "Val/Test evaluation: Average loss: 0.0685, Accuracy: 490/500 (98%)\n",
      "\n",
      "Train Epoch: 11 [0/4500 (0%)]\tLoss: 0.002553\n",
      "Train Epoch: 11 [1280/4500 (28%)]\tLoss: 0.005821\n",
      "Train Epoch: 11 [2560/4500 (56%)]\tLoss: 0.016075\n",
      "Train Epoch: 11 [3840/4500 (83%)]\tLoss: 0.009344\n",
      "\n",
      "Train evaluation: Average loss: 0.0041, Accuracy: 4493/4500 (100%)\n",
      "\n",
      "\n",
      "Val/Test evaluation: Average loss: 0.0888, Accuracy: 491/500 (98%)\n",
      "\n",
      "Train Epoch: 12 [0/4500 (0%)]\tLoss: 0.000448\n",
      "Train Epoch: 12 [1280/4500 (28%)]\tLoss: 0.000310\n",
      "Train Epoch: 12 [2560/4500 (56%)]\tLoss: 0.001197\n",
      "Train Epoch: 12 [3840/4500 (83%)]\tLoss: 0.000736\n",
      "\n",
      "Train evaluation: Average loss: 0.0021, Accuracy: 4497/4500 (100%)\n",
      "\n",
      "\n",
      "Val/Test evaluation: Average loss: 0.0762, Accuracy: 491/500 (98%)\n",
      "\n",
      "Train Epoch: 13 [0/4500 (0%)]\tLoss: 0.000176\n",
      "Train Epoch: 13 [1280/4500 (28%)]\tLoss: 0.000389\n",
      "Train Epoch: 13 [2560/4500 (56%)]\tLoss: 0.002245\n",
      "Train Epoch: 13 [3840/4500 (83%)]\tLoss: 0.001556\n",
      "\n",
      "Train evaluation: Average loss: 0.0009, Accuracy: 4499/4500 (100%)\n",
      "\n",
      "\n",
      "Val/Test evaluation: Average loss: 0.0903, Accuracy: 492/500 (98%)\n",
      "\n",
      "Train Epoch: 14 [0/4500 (0%)]\tLoss: 0.000212\n",
      "Train Epoch: 14 [1280/4500 (28%)]\tLoss: 0.004784\n",
      "Train Epoch: 14 [2560/4500 (56%)]\tLoss: 0.000720\n",
      "Train Epoch: 14 [3840/4500 (83%)]\tLoss: 0.000366\n",
      "\n",
      "Train evaluation: Average loss: 0.0006, Accuracy: 4500/4500 (100%)\n",
      "\n",
      "\n",
      "Val/Test evaluation: Average loss: 0.0912, Accuracy: 491/500 (98%)\n",
      "\n",
      "\n",
      "Val/Test evaluation: Average loss: 0.1122, Accuracy: 9767/10000 (98%)\n",
      "\n"
     ]
    }
   ],
   "source": [
    "seed_everything(seed=42)\n",
    "# Training settings\n",
    "batch_size = 128\n",
    "lr = 0.1\n",
    "momentum = 0.9 \n",
    "l2 = 0.0\n",
    "dropout_value = 0.0\n",
    "num_epochs = 15\n",
    "device = 'cpu'\n",
    "\n",
    "# define the network\n",
    "model = Conv_Net(dropout_value).to(device)\n",
    "\n",
    "# define the optimizer \n",
    "optimizer = optim.SGD(model.parameters(), lr=lr, momentum=momentum, weight_decay= l2)\n",
    "\n",
    "train_dataset, val_dataset, test_dataset = load_data()\n",
    "\n",
    "#divide data to train and val\n",
    "train_loader = get_data_loaders(train_dataset, batch_size, shuffle=True)\n",
    "val_loader = get_data_loaders(val_dataset, batch_size, shuffle=False)\n",
    "test_loader = get_data_loaders(test_dataset, batch_size, shuffle=False)\n",
    "\n",
    "\n",
    "for epoch in range(1, num_epochs):\n",
    "    train(epoch, train_loader, device)\n",
    "    test(train_loader, device, is_train_set=True)\n",
    "    test(val_loader, device, is_train_set=False)\n",
    "\n",
    "\n",
    "test(test_loader, device, is_train_set=False)"
   ]
  },
  {
   "cell_type": "markdown",
   "metadata": {},
   "source": [
    "# Model for answering option C"
   ]
  },
  {
   "cell_type": "code",
   "execution_count": 10,
   "metadata": {
    "id": "-Occ6URz8cL6"
   },
   "outputs": [
    {
     "name": "stdout",
     "output_type": "stream",
     "text": [
      "train_set_size: 4500\n",
      "val_set_size: 500\n"
     ]
    },
    {
     "name": "stderr",
     "output_type": "stream",
     "text": [
      "<ipython-input-6-5823d334e1cc>:18: UserWarning: Implicit dimension choice for log_softmax has been deprecated. Change the call to include dim=X as an argument.\n",
      "  return F.log_softmax(x)\n"
     ]
    },
    {
     "name": "stdout",
     "output_type": "stream",
     "text": [
      "Train Epoch: 1 [0/4500 (0%)]\tLoss: 2.298145\n",
      "Train Epoch: 1 [1280/4500 (28%)]\tLoss: 0.803176\n",
      "Train Epoch: 1 [2560/4500 (56%)]\tLoss: 0.302769\n",
      "Train Epoch: 1 [3840/4500 (83%)]\tLoss: 0.403279\n",
      "\n",
      "Train evaluation: Average loss: 0.1545, Accuracy: 4281/4500 (95%)\n",
      "\n",
      "\n",
      "Val/Test evaluation: Average loss: 0.1650, Accuracy: 470/500 (94%)\n",
      "\n",
      "Train Epoch: 2 [0/4500 (0%)]\tLoss: 0.168231\n",
      "Train Epoch: 2 [1280/4500 (28%)]\tLoss: 0.318939\n",
      "Train Epoch: 2 [2560/4500 (56%)]\tLoss: 0.316243\n",
      "Train Epoch: 2 [3840/4500 (83%)]\tLoss: 0.285534\n",
      "\n",
      "Train evaluation: Average loss: 0.1026, Accuracy: 4354/4500 (97%)\n",
      "\n",
      "\n",
      "Val/Test evaluation: Average loss: 0.1430, Accuracy: 479/500 (96%)\n",
      "\n",
      "Train Epoch: 3 [0/4500 (0%)]\tLoss: 0.133969\n",
      "Train Epoch: 3 [1280/4500 (28%)]\tLoss: 0.162919\n",
      "Train Epoch: 3 [2560/4500 (56%)]\tLoss: 0.177316\n",
      "Train Epoch: 3 [3840/4500 (83%)]\tLoss: 0.186778\n",
      "\n",
      "Train evaluation: Average loss: 0.0753, Accuracy: 4392/4500 (98%)\n",
      "\n",
      "\n",
      "Val/Test evaluation: Average loss: 0.1338, Accuracy: 478/500 (96%)\n",
      "\n",
      "Train Epoch: 4 [0/4500 (0%)]\tLoss: 0.158753\n",
      "Train Epoch: 4 [1280/4500 (28%)]\tLoss: 0.216619\n",
      "Train Epoch: 4 [2560/4500 (56%)]\tLoss: 0.080697\n",
      "Train Epoch: 4 [3840/4500 (83%)]\tLoss: 0.295555\n",
      "\n",
      "Train evaluation: Average loss: 0.0923, Accuracy: 4376/4500 (97%)\n",
      "\n",
      "\n",
      "Val/Test evaluation: Average loss: 0.1286, Accuracy: 481/500 (96%)\n",
      "\n",
      "Train Epoch: 5 [0/4500 (0%)]\tLoss: 0.111174\n",
      "Train Epoch: 5 [1280/4500 (28%)]\tLoss: 0.150419\n",
      "Train Epoch: 5 [2560/4500 (56%)]\tLoss: 0.107025\n",
      "Train Epoch: 5 [3840/4500 (83%)]\tLoss: 0.075272\n",
      "\n",
      "Train evaluation: Average loss: 0.0384, Accuracy: 4457/4500 (99%)\n",
      "\n",
      "\n",
      "Val/Test evaluation: Average loss: 0.0811, Accuracy: 488/500 (98%)\n",
      "\n",
      "Train Epoch: 6 [0/4500 (0%)]\tLoss: 0.103541\n",
      "Train Epoch: 6 [1280/4500 (28%)]\tLoss: 0.033953\n",
      "Train Epoch: 6 [2560/4500 (56%)]\tLoss: 0.137144\n",
      "Train Epoch: 6 [3840/4500 (83%)]\tLoss: 0.128973\n",
      "\n",
      "Train evaluation: Average loss: 0.0348, Accuracy: 4457/4500 (99%)\n",
      "\n",
      "\n",
      "Val/Test evaluation: Average loss: 0.0781, Accuracy: 490/500 (98%)\n",
      "\n",
      "Train Epoch: 7 [0/4500 (0%)]\tLoss: 0.069226\n",
      "Train Epoch: 7 [1280/4500 (28%)]\tLoss: 0.130104\n",
      "Train Epoch: 7 [2560/4500 (56%)]\tLoss: 0.118726\n",
      "Train Epoch: 7 [3840/4500 (83%)]\tLoss: 0.087988\n",
      "\n",
      "Train evaluation: Average loss: 0.0347, Accuracy: 4452/4500 (99%)\n",
      "\n",
      "\n",
      "Val/Test evaluation: Average loss: 0.0610, Accuracy: 489/500 (98%)\n",
      "\n",
      "Train Epoch: 8 [0/4500 (0%)]\tLoss: 0.093757\n",
      "Train Epoch: 8 [1280/4500 (28%)]\tLoss: 0.058537\n",
      "Train Epoch: 8 [2560/4500 (56%)]\tLoss: 0.025597\n",
      "Train Epoch: 8 [3840/4500 (83%)]\tLoss: 0.088694\n",
      "\n",
      "Train evaluation: Average loss: 0.0293, Accuracy: 4459/4500 (99%)\n",
      "\n",
      "\n",
      "Val/Test evaluation: Average loss: 0.0561, Accuracy: 493/500 (99%)\n",
      "\n",
      "Train Epoch: 9 [0/4500 (0%)]\tLoss: 0.077705\n",
      "Train Epoch: 9 [1280/4500 (28%)]\tLoss: 0.094235\n",
      "Train Epoch: 9 [2560/4500 (56%)]\tLoss: 0.081832\n",
      "Train Epoch: 9 [3840/4500 (83%)]\tLoss: 0.076991\n",
      "\n",
      "Train evaluation: Average loss: 0.0225, Accuracy: 4469/4500 (99%)\n",
      "\n",
      "\n",
      "Val/Test evaluation: Average loss: 0.0630, Accuracy: 493/500 (99%)\n",
      "\n",
      "Train Epoch: 10 [0/4500 (0%)]\tLoss: 0.084479\n",
      "Train Epoch: 10 [1280/4500 (28%)]\tLoss: 0.054942\n",
      "Train Epoch: 10 [2560/4500 (56%)]\tLoss: 0.093504\n",
      "Train Epoch: 10 [3840/4500 (83%)]\tLoss: 0.043089\n",
      "\n",
      "Train evaluation: Average loss: 0.0324, Accuracy: 4458/4500 (99%)\n",
      "\n",
      "\n",
      "Val/Test evaluation: Average loss: 0.0701, Accuracy: 489/500 (98%)\n",
      "\n",
      "Train Epoch: 11 [0/4500 (0%)]\tLoss: 0.057553\n",
      "Train Epoch: 11 [1280/4500 (28%)]\tLoss: 0.032642\n",
      "Train Epoch: 11 [2560/4500 (56%)]\tLoss: 0.124257\n",
      "Train Epoch: 11 [3840/4500 (83%)]\tLoss: 0.082066\n",
      "\n",
      "Train evaluation: Average loss: 0.0188, Accuracy: 4478/4500 (100%)\n",
      "\n",
      "\n",
      "Val/Test evaluation: Average loss: 0.0621, Accuracy: 493/500 (99%)\n",
      "\n",
      "Train Epoch: 12 [0/4500 (0%)]\tLoss: 0.083321\n",
      "Train Epoch: 12 [1280/4500 (28%)]\tLoss: 0.033313\n",
      "Train Epoch: 12 [2560/4500 (56%)]\tLoss: 0.049800\n",
      "Train Epoch: 12 [3840/4500 (83%)]\tLoss: 0.078638\n",
      "\n",
      "Train evaluation: Average loss: 0.0173, Accuracy: 4478/4500 (100%)\n",
      "\n",
      "\n",
      "Val/Test evaluation: Average loss: 0.0498, Accuracy: 491/500 (98%)\n",
      "\n",
      "Train Epoch: 13 [0/4500 (0%)]\tLoss: 0.086280\n",
      "Train Epoch: 13 [1280/4500 (28%)]\tLoss: 0.043160\n",
      "Train Epoch: 13 [2560/4500 (56%)]\tLoss: 0.063610\n",
      "Train Epoch: 13 [3840/4500 (83%)]\tLoss: 0.020813\n",
      "\n",
      "Train evaluation: Average loss: 0.0167, Accuracy: 4476/4500 (99%)\n",
      "\n",
      "\n",
      "Val/Test evaluation: Average loss: 0.0570, Accuracy: 493/500 (99%)\n",
      "\n",
      "Train Epoch: 14 [0/4500 (0%)]\tLoss: 0.133954\n",
      "Train Epoch: 14 [1280/4500 (28%)]\tLoss: 0.157271\n",
      "Train Epoch: 14 [2560/4500 (56%)]\tLoss: 0.023780\n",
      "Train Epoch: 14 [3840/4500 (83%)]\tLoss: 0.044954\n",
      "\n",
      "Train evaluation: Average loss: 0.0125, Accuracy: 4483/4500 (100%)\n",
      "\n",
      "\n",
      "Val/Test evaluation: Average loss: 0.0485, Accuracy: 493/500 (99%)\n",
      "\n",
      "\n",
      "Val/Test evaluation: Average loss: 0.0795, Accuracy: 9773/10000 (98%)\n",
      "\n"
     ]
    }
   ],
   "source": [
    "seed_everything(seed=42)\n",
    "# Training settings\n",
    "batch_size = 128\n",
    "lr = 0.1\n",
    "momentum = 0.9\n",
    "l2 = 0.0\n",
    "dropout_value = 0.5\n",
    "num_epochs = 15\n",
    "device = 'cpu'\n",
    "\n",
    "# define the network\n",
    "model = Conv_Net(dropout_value).to(device)\n",
    "\n",
    "# define the optimizer \n",
    "optimizer = optim.SGD(model.parameters(), lr=lr, momentum=momentum, weight_decay= l2)\n",
    "\n",
    "train_dataset, val_dataset, test_dataset = load_data()\n",
    "\n",
    "#divide data to train and val\n",
    "train_loader = get_data_loaders(train_dataset, batch_size, shuffle=True)\n",
    "val_loader = get_data_loaders(val_dataset, batch_size, shuffle=False)\n",
    "test_loader = get_data_loaders(test_dataset, batch_size, shuffle=False)\n",
    "\n",
    "\n",
    "for epoch in range(1, num_epochs):\n",
    "    train(epoch, train_loader, device)\n",
    "    test(train_loader, device, is_train_set=True)\n",
    "    test(val_loader, device, is_train_set=False)\n",
    "\n",
    "\n",
    "test(test_loader, device, is_train_set=False)"
   ]
  },
  {
   "cell_type": "markdown",
   "metadata": {},
   "source": [
    "# Model for answering option D"
   ]
  },
  {
   "cell_type": "code",
   "execution_count": 11,
   "metadata": {
    "id": "-Occ6URz8cL6"
   },
   "outputs": [
    {
     "name": "stdout",
     "output_type": "stream",
     "text": [
      "train_set_size: 4500\n",
      "val_set_size: 500\n"
     ]
    },
    {
     "name": "stderr",
     "output_type": "stream",
     "text": [
      "<ipython-input-6-5823d334e1cc>:18: UserWarning: Implicit dimension choice for log_softmax has been deprecated. Change the call to include dim=X as an argument.\n",
      "  return F.log_softmax(x)\n"
     ]
    },
    {
     "name": "stdout",
     "output_type": "stream",
     "text": [
      "Train Epoch: 1 [0/4500 (0%)]\tLoss: 2.289669\n",
      "Train Epoch: 1 [1280/4500 (28%)]\tLoss: 0.427784\n",
      "Train Epoch: 1 [2560/4500 (56%)]\tLoss: 0.211098\n",
      "Train Epoch: 1 [3840/4500 (83%)]\tLoss: 0.308220\n",
      "\n",
      "Train evaluation: Average loss: 0.2437, Accuracy: 4151/4500 (92%)\n",
      "\n",
      "\n",
      "Val/Test evaluation: Average loss: 0.2647, Accuracy: 462/500 (92%)\n",
      "\n",
      "Train Epoch: 2 [0/4500 (0%)]\tLoss: 0.184595\n",
      "Train Epoch: 2 [1280/4500 (28%)]\tLoss: 0.274580\n",
      "Train Epoch: 2 [2560/4500 (56%)]\tLoss: 0.350785\n",
      "Train Epoch: 2 [3840/4500 (83%)]\tLoss: 0.289892\n",
      "\n",
      "Train evaluation: Average loss: 0.2503, Accuracy: 4165/4500 (93%)\n",
      "\n",
      "\n",
      "Val/Test evaluation: Average loss: 0.2618, Accuracy: 460/500 (92%)\n",
      "\n",
      "Train Epoch: 3 [0/4500 (0%)]\tLoss: 0.230139\n",
      "Train Epoch: 3 [1280/4500 (28%)]\tLoss: 0.235649\n",
      "Train Epoch: 3 [2560/4500 (56%)]\tLoss: 0.189001\n",
      "Train Epoch: 3 [3840/4500 (83%)]\tLoss: 0.276287\n",
      "\n",
      "Train evaluation: Average loss: 0.2366, Accuracy: 4198/4500 (93%)\n",
      "\n",
      "\n",
      "Val/Test evaluation: Average loss: 0.2471, Accuracy: 461/500 (92%)\n",
      "\n",
      "Train Epoch: 4 [0/4500 (0%)]\tLoss: 0.171554\n",
      "Train Epoch: 4 [1280/4500 (28%)]\tLoss: 0.281209\n",
      "Train Epoch: 4 [2560/4500 (56%)]\tLoss: 0.321317\n",
      "Train Epoch: 4 [3840/4500 (83%)]\tLoss: 0.413346\n",
      "\n",
      "Train evaluation: Average loss: 0.2194, Accuracy: 4236/4500 (94%)\n",
      "\n",
      "\n",
      "Val/Test evaluation: Average loss: 0.2289, Accuracy: 469/500 (94%)\n",
      "\n",
      "Train Epoch: 5 [0/4500 (0%)]\tLoss: 0.212524\n",
      "Train Epoch: 5 [1280/4500 (28%)]\tLoss: 0.262466\n",
      "Train Epoch: 5 [2560/4500 (56%)]\tLoss: 0.233215\n",
      "Train Epoch: 5 [3840/4500 (83%)]\tLoss: 0.284082\n",
      "\n",
      "Train evaluation: Average loss: 0.2190, Accuracy: 4200/4500 (93%)\n",
      "\n",
      "\n",
      "Val/Test evaluation: Average loss: 0.2668, Accuracy: 454/500 (91%)\n",
      "\n",
      "Train Epoch: 6 [0/4500 (0%)]\tLoss: 0.232206\n",
      "Train Epoch: 6 [1280/4500 (28%)]\tLoss: 0.361426\n",
      "Train Epoch: 6 [2560/4500 (56%)]\tLoss: 0.318603\n",
      "Train Epoch: 6 [3840/4500 (83%)]\tLoss: 0.287619\n",
      "\n",
      "Train evaluation: Average loss: 0.3048, Accuracy: 4060/4500 (90%)\n",
      "\n",
      "\n",
      "Val/Test evaluation: Average loss: 0.3638, Accuracy: 440/500 (88%)\n",
      "\n",
      "Train Epoch: 7 [0/4500 (0%)]\tLoss: 0.408798\n",
      "Train Epoch: 7 [1280/4500 (28%)]\tLoss: 0.217174\n",
      "Train Epoch: 7 [2560/4500 (56%)]\tLoss: 0.269268\n",
      "Train Epoch: 7 [3840/4500 (83%)]\tLoss: 0.344088\n",
      "\n",
      "Train evaluation: Average loss: 0.3468, Accuracy: 3999/4500 (89%)\n",
      "\n",
      "\n",
      "Val/Test evaluation: Average loss: 0.4299, Accuracy: 433/500 (87%)\n",
      "\n",
      "Train Epoch: 8 [0/4500 (0%)]\tLoss: 0.365279\n",
      "Train Epoch: 8 [1280/4500 (28%)]\tLoss: 0.246674\n",
      "Train Epoch: 8 [2560/4500 (56%)]\tLoss: 0.193700\n",
      "Train Epoch: 8 [3840/4500 (83%)]\tLoss: 0.185852\n",
      "\n",
      "Train evaluation: Average loss: 0.3573, Accuracy: 3989/4500 (89%)\n",
      "\n",
      "\n",
      "Val/Test evaluation: Average loss: 0.3745, Accuracy: 446/500 (89%)\n",
      "\n",
      "Train Epoch: 9 [0/4500 (0%)]\tLoss: 0.357858\n",
      "Train Epoch: 9 [1280/4500 (28%)]\tLoss: 0.247984\n",
      "Train Epoch: 9 [2560/4500 (56%)]\tLoss: 0.264926\n",
      "Train Epoch: 9 [3840/4500 (83%)]\tLoss: 0.160792\n",
      "\n",
      "Train evaluation: Average loss: 0.2527, Accuracy: 4184/4500 (93%)\n",
      "\n",
      "\n",
      "Val/Test evaluation: Average loss: 0.2771, Accuracy: 467/500 (93%)\n",
      "\n",
      "Train Epoch: 10 [0/4500 (0%)]\tLoss: 0.243620\n",
      "Train Epoch: 10 [1280/4500 (28%)]\tLoss: 0.222720\n",
      "Train Epoch: 10 [2560/4500 (56%)]\tLoss: 0.360596\n",
      "Train Epoch: 10 [3840/4500 (83%)]\tLoss: 0.350144\n",
      "\n",
      "Train evaluation: Average loss: 0.3419, Accuracy: 4041/4500 (90%)\n",
      "\n",
      "\n",
      "Val/Test evaluation: Average loss: 0.3304, Accuracy: 455/500 (91%)\n",
      "\n",
      "Train Epoch: 11 [0/4500 (0%)]\tLoss: 0.276185\n",
      "Train Epoch: 11 [1280/4500 (28%)]\tLoss: 0.233512\n",
      "Train Epoch: 11 [2560/4500 (56%)]\tLoss: 0.335020\n",
      "Train Epoch: 11 [3840/4500 (83%)]\tLoss: 0.367248\n",
      "\n",
      "Train evaluation: Average loss: 0.2566, Accuracy: 4221/4500 (94%)\n",
      "\n",
      "\n",
      "Val/Test evaluation: Average loss: 0.2896, Accuracy: 457/500 (91%)\n",
      "\n",
      "Train Epoch: 12 [0/4500 (0%)]\tLoss: 0.228674\n",
      "Train Epoch: 12 [1280/4500 (28%)]\tLoss: 0.275868\n",
      "Train Epoch: 12 [2560/4500 (56%)]\tLoss: 0.355340\n",
      "Train Epoch: 12 [3840/4500 (83%)]\tLoss: 0.231395\n",
      "\n",
      "Train evaluation: Average loss: 0.3365, Accuracy: 4058/4500 (90%)\n",
      "\n",
      "\n",
      "Val/Test evaluation: Average loss: 0.3927, Accuracy: 444/500 (89%)\n",
      "\n",
      "Train Epoch: 13 [0/4500 (0%)]\tLoss: 0.304455\n",
      "Train Epoch: 13 [1280/4500 (28%)]\tLoss: 0.205912\n",
      "Train Epoch: 13 [2560/4500 (56%)]\tLoss: 0.224338\n",
      "Train Epoch: 13 [3840/4500 (83%)]\tLoss: 0.387177\n",
      "\n",
      "Train evaluation: Average loss: 0.5194, Accuracy: 3654/4500 (81%)\n",
      "\n",
      "\n",
      "Val/Test evaluation: Average loss: 0.5569, Accuracy: 408/500 (82%)\n",
      "\n",
      "Train Epoch: 14 [0/4500 (0%)]\tLoss: 0.423273\n",
      "Train Epoch: 14 [1280/4500 (28%)]\tLoss: 0.153925\n",
      "Train Epoch: 14 [2560/4500 (56%)]\tLoss: 0.140904\n",
      "Train Epoch: 14 [3840/4500 (83%)]\tLoss: 0.263618\n",
      "\n",
      "Train evaluation: Average loss: 0.2341, Accuracy: 4190/4500 (93%)\n",
      "\n",
      "\n",
      "Val/Test evaluation: Average loss: 0.2901, Accuracy: 460/500 (92%)\n",
      "\n",
      "\n",
      "Val/Test evaluation: Average loss: 0.2674, Accuracy: 9204/10000 (92%)\n",
      "\n"
     ]
    }
   ],
   "source": [
    "seed_everything(seed=42)\n",
    "# Training settings\n",
    "batch_size = 128\n",
    "lr = 0.1\n",
    "momentum = 0.9 \n",
    "l2 = 0.05\n",
    "dropout_value = 0.0\n",
    "num_epochs = 15\n",
    "device = 'cpu'\n",
    "\n",
    "# define the network\n",
    "model = Conv_Net(dropout_value).to(device)\n",
    "\n",
    "# define the optimizer \n",
    "optimizer = optim.SGD(model.parameters(), lr=lr, momentum=momentum, weight_decay= l2)\n",
    "\n",
    "train_dataset, val_dataset, test_dataset = load_data()\n",
    "\n",
    "#divide data to train and val\n",
    "train_loader = get_data_loaders(train_dataset, batch_size, shuffle=True)\n",
    "val_loader = get_data_loaders(val_dataset, batch_size, shuffle=False)\n",
    "test_loader = get_data_loaders(test_dataset, batch_size, shuffle=False)\n",
    "\n",
    "\n",
    "for epoch in range(1, num_epochs):\n",
    "    train(epoch, train_loader, device)\n",
    "    test(train_loader, device, is_train_set=True)\n",
    "    test(val_loader, device, is_train_set=False)\n",
    "\n",
    "\n",
    "test(test_loader, device, is_train_set=False)"
   ]
  },
  {
   "attachments": {
    "Q1values.png": {
     "image/png": "[encoded data removed]"
    }
   },
   "cell_type": "markdown",
   "metadata": {},
   "source": [
    "# Question 1 - C\n",
    "\n",
    "<div>\n",
    "    <img src=\"attachment:Q1values.png\" alt=\"Drawing\" style=\"width: 650px\"/>\n",
    "</div>\n",
    "\n",
    "**Option A: Untrue**, the accuracy on the validation set after the last epoch is higher than on the test set.\n",
    "\n",
    "**Option B: Untrue**, a model that achieves 100% train accuracy and >95% validation and test accuracy is not underfitting.\n",
    "\n",
    "**Option C: True!** The validation accuracy does increase, if only slightly. Throughout training we also see that validation accu\n",
    "\n",
    "**Option D: Untrue**, performance on all data subsets gets worse so it just makes the model as a whole worse here."
   ]
  },
  {
   "cell_type": "markdown",
   "metadata": {
    "id": "SPY04f1o8dYO"
   },
   "source": [
    "--------------------------------"
   ]
  },
  {
   "cell_type": "code",
   "execution_count": 12,
   "metadata": {
    "id": "PVHRdHz6682k"
   },
   "outputs": [
    {
     "name": "stdout",
     "output_type": "stream",
     "text": [
      "Requirement already satisfied: JSAnimation in /home/bas/.local/lib/python3.8/site-packages (0.1)\r\n"
     ]
    }
   ],
   "source": [
    "!pip3 install JSAnimation"
   ]
  },
  {
   "cell_type": "code",
   "execution_count": 13,
   "metadata": {
    "id": "zxfcNSEb682n"
   },
   "outputs": [],
   "source": [
    "import pandas as pd # pandas is a data manipulation library\n",
    "import numpy as np #provides numerical arrays and functions to manipulate the arrays efficiently\n",
    "import matplotlib.pyplot as plt # data visualization library\n",
    "from copy import deepcopy\n",
    "from sklearn.preprocessing import MinMaxScaler\n",
    "from sklearn import datasets\n",
    "from sklearn.datasets import fetch_olivetti_faces\n",
    "from sklearn.utils.extmath import randomized_svd\n",
    "from sklearn.decomposition import PCA\n",
    "from sklearn.decomposition import TruncatedSVD\n",
    "from sklearn.cluster import KMeans\n",
    "from JSAnimation import IPython_display\n",
    "from matplotlib import animation\n",
    "from IPython.display import HTML"
   ]
  },
  {
   "cell_type": "markdown",
   "metadata": {
    "id": "0R7reCL6682o"
   },
   "source": [
    "# Exercise : MF Faces"
   ]
  },
  {
   "cell_type": "code",
   "execution_count": 14,
   "metadata": {
    "id": "E6X_5p8t6823",
    "outputId": "ac39f54a-2203-493c-d021-d880aab5bd14"
   },
   "outputs": [
    {
     "name": "stdout",
     "output_type": "stream",
     "text": [
      ".. _olivetti_faces_dataset:\n",
      "\n",
      "The Olivetti faces dataset\n",
      "--------------------------\n",
      "\n",
      "`This dataset contains a set of face images`_ taken between April 1992 and \n",
      "April 1994 at AT&T Laboratories Cambridge. The\n",
      ":func:`sklearn.datasets.fetch_olivetti_faces` function is the data\n",
      "fetching / caching function that downloads the data\n",
      "archive from AT&T.\n",
      "\n",
      ".. _This dataset contains a set of face images: http://www.cl.cam.ac.uk/research/dtg/attarchive/facedatabase.html\n",
      "\n",
      "As described on the original website:\n",
      "\n",
      "    There are ten different images of each of 40 distinct subjects. For some\n",
      "    subjects, the images were taken at different times, varying the lighting,\n",
      "    facial expressions (open / closed eyes, smiling / not smiling) and facial\n",
      "    details (glasses / no glasses). All the images were taken against a dark\n",
      "    homogeneous background with the subjects in an upright, frontal position \n",
      "    (with tolerance for some side movement).\n",
      "\n",
      "**Data Set Characteristics:**\n",
      "\n",
      "    =================   =====================\n",
      "    Classes                                40\n",
      "    Samples total                         400\n",
      "    Dimensionality                       4096\n",
      "    Features            real, between 0 and 1\n",
      "    =================   =====================\n",
      "\n",
      "The image is quantized to 256 grey levels and stored as unsigned 8-bit \n",
      "integers; the loader will convert these to floating point values on the \n",
      "interval [0, 1], which are easier to work with for many algorithms.\n",
      "\n",
      "The \"target\" for this database is an integer from 0 to 39 indicating the\n",
      "identity of the person pictured; however, with only 10 examples per class, this\n",
      "relatively small dataset is more interesting from an unsupervised or\n",
      "semi-supervised perspective.\n",
      "\n",
      "The original dataset consisted of 92 x 112, while the version available here\n",
      "consists of 64x64 images.\n",
      "\n",
      "When using these images, please give credit to AT&T Laboratories Cambridge.\n",
      "\n"
     ]
    }
   ],
   "source": [
    "faces = fetch_olivetti_faces()\n",
    "print(faces.DESCR)"
   ]
  },
  {
   "cell_type": "markdown",
   "metadata": {
    "id": "dvyUbT476825"
   },
   "source": [
    "Definition of the data matrix:"
   ]
  },
  {
   "cell_type": "code",
   "execution_count": 15,
   "metadata": {
    "id": "Y8-ODuZY6826"
   },
   "outputs": [],
   "source": [
    "D = faces.data"
   ]
  },
  {
   "cell_type": "markdown",
   "metadata": {
    "id": "oG0xBQoh6826"
   },
   "source": [
    "The observations/rows pf the data matrix can be visualized as pictures. 10 consecutive pictures are taken from one person. This are the first 30 pictutres."
   ]
  },
  {
   "cell_type": "code",
   "execution_count": 16,
   "metadata": {
    "id": "n_oyzY9a6827",
    "outputId": "92f03ddc-ee26-4f01-df98-59091f736ff5"
   },
   "outputs": [
    {
     "data": {
      "image/png": "[encoded data removed]",
      "text/plain": [
       "<Figure size 720x216 with 30 Axes>"
      ]
     },
     "metadata": {
      "needs_background": "light"
     },
     "output_type": "display_data"
    }
   ],
   "source": [
    "# Here are the first ten guys of the dataset\n",
    "fig = plt.figure(figsize=(10, 3))\n",
    "for i in range(30):\n",
    "    ax = plt.subplot2grid((3, 10), (int(i/10), i-int(i/10)*10))\n",
    "    \n",
    "    ax.imshow(D[i,:].reshape(64, 64), cmap=plt.cm.gray)\n",
    "    ax.axis('off')"
   ]
  },
  {
   "cell_type": "markdown",
   "metadata": {},
   "source": [
    "# Exercise 2 - PCA implementation - C"
   ]
  },
  {
   "cell_type": "code",
   "execution_count": 17,
   "metadata": {},
   "outputs": [],
   "source": [
    "# D = data matrix\n",
    "def PCA(D,r):\n",
    "    # For each row, collect the means and subtract them from their respective rows\n",
    "    mu_F = D.mean(axis=1).reshape(-1, 1)\n",
    "    C = D-mu_F\n",
    "    # Randomized SVD functions returns a transposed V\n",
    "    U, Sigma, V_T = randomized_svd(D, r)\n",
    "    svd_dict = {'U': U, \"Sigma\": Sigma, \"V_T\": V_T}\n",
    "    return C@V_T.T, svd_dict, mu_F"
   ]
  },
  {
   "cell_type": "code",
   "execution_count": 18,
   "metadata": {},
   "outputs": [],
   "source": [
    "#D.mean(axis=1)"
   ]
  },
  {
   "cell_type": "code",
   "execution_count": 19,
   "metadata": {},
   "outputs": [
    {
     "name": "stderr",
     "output_type": "stream",
     "text": [
      "/home/bas/.local/lib/python3.8/site-packages/sklearn/utils/extmath.py:368: FutureWarning: If 'random_state' is not supplied, the current default is to use 0 as a fixed seed. This will change to  None in version 1.2 leading to non-deterministic results that better reflect nature of the randomized_svd solver. If you want to silence this warning, set 'random_state' to an integer seed or to None explicitly depending if you want your code to be deterministic or not.\n",
      "  warnings.warn(\n"
     ]
    }
   ],
   "source": [
    "pca_25, tr_svd_25, mu_F = PCA(D,25)\n",
    "pca_50, tr_svd_50, mu_F = PCA(D,50)\n",
    "pca_100, tr_svd_100, mu_F = PCA(D,100)"
   ]
  },
  {
   "cell_type": "markdown",
   "metadata": {},
   "source": [
    "## Option A"
   ]
  },
  {
   "cell_type": "code",
   "execution_count": 20,
   "metadata": {},
   "outputs": [
    {
     "name": "stdout",
     "output_type": "stream",
     "text": [
      "Option A: does this look like the image in the question pdf?\n",
      "TRUE: It does indeed look exactly like it.\n"
     ]
    },
    {
     "data": {
      "image/png": "[encoded data removed]",
      "text/plain": [
       "<Figure size 432x288 with 1 Axes>"
      ]
     },
     "metadata": {
      "needs_background": "light"
     },
     "output_type": "display_data"
    }
   ],
   "source": [
    "print(\"Option A: does this look like the image in the question pdf?\")\n",
    "average_image = mu_F.T@D\n",
    "plt.imshow(average_image.reshape(64,64), cmap=plt.cm.gray)\n",
    "plt.axis('off')\n",
    "print(\"TRUE: It does indeed look exactly like it.\")"
   ]
  },
  {
   "cell_type": "markdown",
   "metadata": {},
   "source": [
    "## Option B"
   ]
  },
  {
   "cell_type": "code",
   "execution_count": 21,
   "metadata": {},
   "outputs": [
    {
     "name": "stdout",
     "output_type": "stream",
     "text": [
      "The original, just to be sure:\n"
     ]
    },
    {
     "data": {
      "text/plain": [
       "(-0.5, 63.5, 63.5, -0.5)"
      ]
     },
     "execution_count": 21,
     "metadata": {},
     "output_type": "execute_result"
    },
    {
     "data": {
      "image/png": "[encoded data removed]",
      "text/plain": [
       "<Figure size 432x288 with 1 Axes>"
      ]
     },
     "metadata": {
      "needs_background": "light"
     },
     "output_type": "display_data"
    }
   ],
   "source": [
    "print('The original, just to be sure:')\n",
    "plt.imshow(D[1].reshape(64,64), cmap=plt.cm.gray)\n",
    "plt.axis('off')"
   ]
  },
  {
   "cell_type": "code",
   "execution_count": 22,
   "metadata": {},
   "outputs": [
    {
     "data": {
      "text/plain": [
       "(-0.5, 63.5, 63.5, -0.5)"
      ]
     },
     "execution_count": 22,
     "metadata": {},
     "output_type": "execute_result"
    },
    {
     "data": {
      "image/png": "[encoded data removed]",
      "text/plain": [
       "<Figure size 720x216 with 3 Axes>"
      ]
     },
     "metadata": {
      "needs_background": "light"
     },
     "output_type": "display_data"
    }
   ],
   "source": [
    "image_25_pca = pca_25[1]@tr_svd_25[\"V_T\"] + mu_F[1]\n",
    "image_50_pca = pca_50[1]@tr_svd_50[\"V_T\"] + mu_F[1]\n",
    "image_100_pca = pca_100[1]@tr_svd_100[\"V_T\"] + mu_F[1]\n",
    "\n",
    "fig = plt.figure(figsize=(10, 3))\n",
    "ax = plt.subplot2grid((1,3), (0,0))\n",
    "ax.imshow(image_25_pca.reshape(64,64), cmap=plt.cm.gray)\n",
    "ax.axis('off')\n",
    "ax = plt.subplot2grid((1,3), (0,1))\n",
    "ax.imshow(image_50_pca.reshape(64,64), cmap=plt.cm.gray)\n",
    "ax.axis('off')\n",
    "ax = plt.subplot2grid((1,3), (0,2))\n",
    "ax.imshow(image_100_pca.reshape(64,64), cmap=plt.cm.gray)\n",
    "ax.axis('off')"
   ]
  },
  {
   "cell_type": "markdown",
   "metadata": {},
   "source": [
    "Well, it's not an exact match... But close enough! I'll take that as a **True.**"
   ]
  },
  {
   "cell_type": "markdown",
   "metadata": {},
   "source": [
    "### Option C"
   ]
  },
  {
   "cell_type": "code",
   "execution_count": 23,
   "metadata": {},
   "outputs": [
    {
     "data": {
      "image/png": "[encoded data removed]",
      "text/plain": [
       "<Figure size 720x216 with 4 Axes>"
      ]
     },
     "metadata": {
      "needs_background": "light"
     },
     "output_type": "display_data"
    }
   ],
   "source": [
    "fig = plt.figure(figsize=(10, 3))\n",
    "for i in range(4):\n",
    "    ax = plt.subplot2grid((1, 4), (int(i/4), i-int(i/4)*4))\n",
    "    ax.imshow(tr_svd_50[\"V_T\"][i+1].reshape(64, 64), cmap=plt.cm.gray)\n",
    "    ax.axis('off')"
   ]
  },
  {
   "cell_type": "markdown",
   "metadata": {},
   "source": [
    "The first one is rather different, and the fourth one also doesn't seem exactly the same. **Untrue.**"
   ]
  },
  {
   "cell_type": "markdown",
   "metadata": {},
   "source": [
    "### Option D\n",
    "Following exactly what D. says, try to recreate an image.\n",
    "Try to recreate image 0:"
   ]
  },
  {
   "cell_type": "code",
   "execution_count": 24,
   "metadata": {},
   "outputs": [
    {
     "name": "stdout",
     "output_type": "stream",
     "text": [
      "Original image:\n"
     ]
    },
    {
     "data": {
      "text/plain": [
       "(-0.5, 63.5, 63.5, -0.5)"
      ]
     },
     "execution_count": 24,
     "metadata": {},
     "output_type": "execute_result"
    },
    {
     "data": {
      "image/png": "[encoded data removed]",
      "text/plain": [
       "<Figure size 432x288 with 1 Axes>"
      ]
     },
     "metadata": {
      "needs_background": "light"
     },
     "output_type": "display_data"
    }
   ],
   "source": [
    "print(\"Original image:\")\n",
    "plt.imshow(D[0].reshape(64,64), cmap=plt.cm.gray)\n",
    "plt.axis('off')"
   ]
  },
  {
   "cell_type": "code",
   "execution_count": 25,
   "metadata": {},
   "outputs": [
    {
     "name": "stdout",
     "output_type": "stream",
     "text": [
      "PCA with r=100 reconstruction:\n"
     ]
    },
    {
     "data": {
      "text/plain": [
       "(-0.5, 63.5, 63.5, -0.5)"
      ]
     },
     "execution_count": 25,
     "metadata": {},
     "output_type": "execute_result"
    },
    {
     "data": {
      "image/png": "[encoded data removed]",
      "text/plain": [
       "<Figure size 432x288 with 1 Axes>"
      ]
     },
     "metadata": {
      "needs_background": "light"
     },
     "output_type": "display_data"
    }
   ],
   "source": [
    "print(\"PCA with r=100 reconstruction:\")\n",
    "reconstruction = pca_100[0]@tr_svd_100[\"V_T\"] + mu_F[0]\n",
    "plt.imshow(reconstruction.reshape(64,64), cmap=plt.cm.gray)\n",
    "plt.axis('off')"
   ]
  },
  {
   "cell_type": "markdown",
   "metadata": {},
   "source": [
    "Sure seems to be working as intended, so this is **True**!"
   ]
  },
  {
   "cell_type": "markdown",
   "metadata": {},
   "source": [
    "## Conclusion\n",
    "Option A: **True**, exactly the same image.\n",
    "\n",
    "Option B: **True**, more or less. It's not an exact match but it's close.\n",
    "\n",
    "Option C: **Untrue**, two of the images do not match those showed in the question PDF.\n",
    "\n",
    "Option D: **True**, this formula functions as intended (as one would expect)."
   ]
  },
  {
   "cell_type": "markdown",
   "metadata": {},
   "source": [
    "# Exercise 3: k-means and SVD Faces - B"
   ]
  },
  {
   "cell_type": "code",
   "execution_count": 26,
   "metadata": {},
   "outputs": [
    {
     "data": {
      "image/png": "[encoded data removed]",
      "text/plain": [
       "<Figure size 720x216 with 4 Axes>"
      ]
     },
     "metadata": {
      "needs_background": "light"
     },
     "output_type": "display_data"
    }
   ],
   "source": [
    "seed_everything(seed=42)\n",
    "# Option A - correct\n",
    "rank  = 4\n",
    "U, s, VT = np.linalg.svd(D, full_matrices=True)\n",
    "Y = U[:,0:rank]*np.sqrt([s[0:rank]])\n",
    "X = VT.T[:,0:rank]*np.sqrt(s[0:rank])\n",
    "\n",
    "# The results of option A, which are the same as the question gives. So A is True.\n",
    "fig = plt.figure(figsize=(10, 3))\n",
    "for i in range(4):\n",
    "    ax = plt.subplot2grid((3, 10), (int(i/10), i-int(i/10)*10))\n",
    "    ax.imshow(X.T[i,:].reshape(64, 64), cmap=plt.cm.gray)\n",
    "    ax.axis('off')"
   ]
  },
  {
   "cell_type": "code",
   "execution_count": 27,
   "metadata": {},
   "outputs": [],
   "source": [
    "# set r = 5 for option B with k means\n",
    "kmeans = KMeans(n_clusters=5).fit(D)\n",
    "option_B = kmeans.cluster_centers_"
   ]
  },
  {
   "cell_type": "code",
   "execution_count": 28,
   "metadata": {},
   "outputs": [
    {
     "data": {
      "image/png": "[encoded data removed]",
      "text/plain": [
       "<Figure size 720x216 with 5 Axes>"
      ]
     },
     "metadata": {
      "needs_background": "light"
     },
     "output_type": "display_data"
    }
   ],
   "source": [
    "# the results of option B, and the five centroids of k-means r=5 is correct\n",
    "fig = plt.figure(figsize=(10, 3))\n",
    "for i in range(5):\n",
    "    ax = plt.subplot2grid((3, 10), (int(i/10), i-int(i/10)*10))\n",
    "    \n",
    "    ax.imshow(option_B[i,:].reshape(64, 64), cmap=plt.cm.gray)\n",
    "    ax.axis('off')"
   ]
  },
  {
   "cell_type": "code",
   "execution_count": 29,
   "metadata": {},
   "outputs": [],
   "source": [
    "# reconstruct the second picture for option B, which is wrong.\n",
    "sec_guy = D[1][:].reshape(-1,1)\n",
    "x = [0.1, 0.2, 0.3, 2.4, -1.2]\n",
    "x = np.array(x).reshape(-1,1)\n",
    "y = option_B.T @ x"
   ]
  },
  {
   "cell_type": "code",
   "execution_count": 30,
   "metadata": {},
   "outputs": [
    {
     "data": {
      "text/plain": [
       "(-0.5, 63.5, 63.5, -0.5)"
      ]
     },
     "execution_count": 30,
     "metadata": {},
     "output_type": "execute_result"
    },
    {
     "data": {
      "image/png": "[encoded data removed]",
      "text/plain": [
       "<Figure size 720x216 with 1 Axes>"
      ]
     },
     "metadata": {
      "needs_background": "light"
     },
     "output_type": "display_data"
    }
   ],
   "source": [
    "plt.figure(figsize=(10, 3))\n",
    "plt.imshow(y.reshape(64, 64), cmap=plt.cm.gray)\n",
    "plt.axis('off')"
   ]
  },
  {
   "cell_type": "code",
   "execution_count": 31,
   "metadata": {},
   "outputs": [
    {
     "data": {
      "text/plain": [
       "array([[0.48581636, 0.5385973 , 0.59522   , ..., 0.22539648, 0.22412333,\n",
       "        0.22579852],\n",
       "       [0.34493482, 0.35639432, 0.38451052, ..., 0.38647014, 0.39878166,\n",
       "        0.39550143],\n",
       "       [0.31117803, 0.3346057 , 0.36524725, ..., 0.41847596, 0.38401738,\n",
       "        0.37326655]], dtype=float32)"
      ]
     },
     "execution_count": 31,
     "metadata": {},
     "output_type": "execute_result"
    }
   ],
   "source": [
    "# option c is correct, these are not a subset.\n",
    "kmeans_c = KMeans(n_clusters=3).fit(D)\n",
    "kmeans_c.cluster_centers_"
   ]
  },
  {
   "cell_type": "code",
   "execution_count": 32,
   "metadata": {},
   "outputs": [
    {
     "data": {
      "text/plain": [
       "array([[0.40222844, 0.4498967 , 0.49535125, ..., 0.35219896, 0.30903187,\n",
       "        0.3059327 ],\n",
       "       [0.32122022, 0.3344069 , 0.35075355, ..., 0.40301412, 0.4179023 ,\n",
       "        0.40866554],\n",
       "       [0.446281  , 0.4796897 , 0.5261188 , ..., 0.27974427, 0.282746  ,\n",
       "        0.29284266],\n",
       "       [0.50549453, 0.56198347, 0.632958  , ..., 0.19271639, 0.1918082 ,\n",
       "        0.187903  ],\n",
       "       [0.28329325, 0.3009206 , 0.3234648 , ..., 0.43351814, 0.40898633,\n",
       "        0.39392197]], dtype=float32)"
      ]
     },
     "execution_count": 32,
     "metadata": {},
     "output_type": "execute_result"
    }
   ],
   "source": [
    "kmeans.cluster_centers_"
   ]
  },
  {
   "cell_type": "code",
   "execution_count": 33,
   "metadata": {},
   "outputs": [
    {
     "data": {
      "text/plain": [
       "TruncatedSVD(n_components=5, n_iter=7, random_state=42)"
      ]
     },
     "execution_count": 33,
     "metadata": {},
     "output_type": "execute_result"
    }
   ],
   "source": [
    "# And option D is also correct.\n",
    "svd_d1 = TruncatedSVD(n_components=3, n_iter=7, random_state=42)\n",
    "svd_d1.fit(D)\n",
    "svd_d2 = TruncatedSVD(n_components=5, n_iter=7, random_state=42)\n",
    "svd_d2.fit(D)"
   ]
  },
  {
   "cell_type": "code",
   "execution_count": 34,
   "metadata": {},
   "outputs": [
    {
     "data": {
      "text/plain": [
       "array([[ 0.01119387,  0.01218334,  0.0133833 , ...,  0.00887096,\n",
       "         0.00861543,  0.00853279],\n",
       "       [-0.02742555, -0.03091404, -0.03455596, ...,  0.0263079 ,\n",
       "         0.02292719,  0.0208091 ],\n",
       "       [ 0.00035914, -0.00241208, -0.00326784, ..., -0.00912464,\n",
       "        -0.00693866, -0.00549368]], dtype=float32)"
      ]
     },
     "execution_count": 34,
     "metadata": {},
     "output_type": "execute_result"
    }
   ],
   "source": [
    "svd_d1.components_"
   ]
  },
  {
   "cell_type": "code",
   "execution_count": 35,
   "metadata": {},
   "outputs": [
    {
     "data": {
      "image/png": "[encoded data removed]",
      "text/plain": [
       "<Figure size 720x216 with 3 Axes>"
      ]
     },
     "metadata": {
      "needs_background": "light"
     },
     "output_type": "display_data"
    }
   ],
   "source": [
    "fig = plt.figure(figsize=(10, 3))\n",
    "for i in range(3):\n",
    "    ax = plt.subplot2grid((3, 10), (int(i/10), i-int(i/10)*10))\n",
    "    \n",
    "    ax.imshow(svd_d1.components_[i,:].reshape(64, 64), cmap=plt.cm.gray)\n",
    "    ax.axis('off')"
   ]
  },
  {
   "cell_type": "code",
   "execution_count": 36,
   "metadata": {},
   "outputs": [
    {
     "data": {
      "text/plain": [
       "array([[ 0.01119387,  0.01218334,  0.0133833 , ...,  0.00887096,\n",
       "         0.00861543,  0.00853279],\n",
       "       [-0.02742603, -0.03091408, -0.03455591, ...,  0.0263079 ,\n",
       "         0.02292719,  0.02080911],\n",
       "       [ 0.0003626 , -0.0024121 , -0.00326789, ..., -0.00912459,\n",
       "        -0.00693866, -0.00549366],\n",
       "       [ 0.00301318, -0.00155796, -0.01236946, ...,  0.04344533,\n",
       "         0.04258889,  0.03948982],\n",
       "       [-0.01614618, -0.01276133, -0.01184902, ..., -0.04578868,\n",
       "        -0.04652273, -0.0463223 ]], dtype=float32)"
      ]
     },
     "execution_count": 36,
     "metadata": {},
     "output_type": "execute_result"
    }
   ],
   "source": [
    "svd_d2.components_"
   ]
  },
  {
   "cell_type": "code",
   "execution_count": 37,
   "metadata": {},
   "outputs": [
    {
     "data": {
      "image/png": "[encoded data removed]",
      "text/plain": [
       "<Figure size 720x216 with 4 Axes>"
      ]
     },
     "metadata": {
      "needs_background": "light"
     },
     "output_type": "display_data"
    }
   ],
   "source": [
    "fig = plt.figure(figsize=(10, 3))\n",
    "for i in range(4):\n",
    "    ax = plt.subplot2grid((3, 10), (int(i/10), i-int(i/10)*10))\n",
    "    \n",
    "    ax.imshow(svd_d2.components_[i,:].reshape(64, 64), cmap=plt.cm.gray)\n",
    "    ax.axis('off')"
   ]
  },
  {
   "cell_type": "markdown",
   "metadata": {},
   "source": [
    "## Conclusion\n",
    "Option A: **True**, we indeed get those features for $r=4$.\n",
    "\n",
    "Option B: **Untrue**, the linear combination of these faces looks nothing like what the question says it should look like.\n",
    "\n",
    "Option C: **True**, nothing about the centroids that are shown for $r=3$ suggests that they are a subset of those for $r=5$.\n",
    "\n",
    "Option D: **True**, they are a subset as they should be according to the question."
   ]
  },
  {
   "cell_type": "markdown",
   "metadata": {
    "id": "uEwqfGL56827"
   },
   "source": [
    "# Exercise 4: k-means Initialization - D"
   ]
  },
  {
   "cell_type": "markdown",
   "metadata": {
    "id": "dVbAyNTv6828"
   },
   "source": [
    "The functions generating the datasets are given here. Every function gets as input the noise parameter ``epsilon`` and the number of points ``n`` to be sampled. It returns a tuple of the shape of clusters being generated, the dataset and the true cluster labels. "
   ]
  },
  {
   "cell_type": "code",
   "execution_count": 38,
   "metadata": {
    "id": "-hKIYhZ66829"
   },
   "outputs": [],
   "source": [
    "def generateMoons(epsilon, n):\n",
    "    scaler = MinMaxScaler(feature_range=(0, 3))\n",
    "    moons, labels = datasets.make_moons(n_samples=n, noise=epsilon, random_state=7)\n",
    "    scaler.fit(moons)\n",
    "    return \"moons\", scaler.transform(moons), labels, 2\n",
    "def generateBlobs(epsilon, n):\n",
    "    scaler = MinMaxScaler(feature_range=(0, 3))\n",
    "    blobs, labels = datasets.make_blobs(n_samples=n,centers=3, cluster_std=[epsilon + 1, epsilon + 2.5, epsilon + 0.5], random_state=17)\n",
    "    scaler.fit(blobs)\n",
    "    return \"blobs\", scaler.transform(blobs), labels, 3\n",
    "def generateCircles(epsilon, n):\n",
    "    scaler = MinMaxScaler(feature_range=(0, 3))\n",
    "    circles, labels = datasets.make_circles(n_samples=n, factor=.5, noise=epsilon, random_state=27)\n",
    "    scaler.fit(circles)\n",
    "    return \"circ\", scaler.transform(circles), labels, 2\n",
    "def generateAniso(epsilon,n):\n",
    "    scaler = MinMaxScaler(feature_range=(0, 3))\n",
    "    A, labels = datasets.make_blobs(n_samples=n, random_state=170)\n",
    "    transformation = [[0.6, -0.6], [-0.4, 0.8]]\n",
    "    aniso = np.dot(A, transformation)\n",
    "    scaler.fit(aniso)\n",
    "    return \"ani\", scaler.transform(aniso), labels, 3"
   ]
  },
  {
   "cell_type": "markdown",
   "metadata": {
    "id": "qGzJqtNt682-"
   },
   "source": [
    "Implement the centroid initialization here. Right now, it returns a random initialization. "
   ]
  },
  {
   "cell_type": "code",
   "execution_count": 39,
   "metadata": {
    "id": "8fdyfWCZ682-"
   },
   "outputs": [],
   "source": [
    "def calc_all_distances(row, centroids):\n",
    "    \"\"\"Calculate all quadratic distances\"\"\"\n",
    "    distances = []\n",
    "    centroid_df = pd.DataFrame(centroids)\n",
    "    # Centroids are gathered column-wise, so to iterate over the centroids\n",
    "    #   transpose their matrix.\n",
    "    for centroid_index in centroid_df:\n",
    "        centroid = np.array(centroid_df[centroid_index])\n",
    "        # Quadratic distance is just Euclidean distance minus the square root\n",
    "        centroid_distance = 0\n",
    "        for index in range(row.shape[0]):\n",
    "            component_distance = (row[index]-centroid[index])**2\n",
    "            centroid_distance += component_distance\n",
    "        distances.append(centroid_distance)\n",
    "    return np.array(distances)\n",
    "\n",
    "def calculate_row_probabilities(D, all_centroids):\n",
    "    \"\"\"\n",
    "    For every row:\n",
    "      Calculate distance to every centroid\n",
    "      Sum them all together\n",
    "      Select the smallest distance\n",
    "      Store value for smallest/sum, that is P(row)\n",
    "    \"\"\"\n",
    "    probabilities = []\n",
    "    for row in D:\n",
    "        distances = calc_all_distances(row, all_centroids)\n",
    "        dist_sum = distances.sum()\n",
    "        smallest_dist = distances.min()\n",
    "        if dist_sum == 0:\n",
    "            # This row is on a centroid exactly, and there is only that one\n",
    "            #   centroid (this only occurs on the first iteration). Force\n",
    "            #   probability to 0 to avoid div/0 issues.\n",
    "            probability = 0\n",
    "        else:\n",
    "            probability = smallest_dist/dist_sum\n",
    "        probabilities.append(probability)\n",
    "    return np.array(probabilities)\n",
    "    \n",
    "def init_centroids_pp(D,r,random_state):\n",
    "    '''\n",
    "        :param r: (int) number of centroids (clusters)\n",
    "        :param D: (np-array) the data matrix\n",
    "        :param random_state: ignored :)\n",
    "        :return: (np-array) 'X' the selected centroids from the dataset\n",
    "    '''\n",
    "    # Sample a uniformly random row from the data\n",
    "    row_ids = np.array(np.arange(D.shape[0]))\n",
    "    X = D[np.random.choice(row_ids)].T\n",
    "    s = 2\n",
    "    while s <= r:\n",
    "        # Sample i ∈ {1, . . . , n} with probability\n",
    "        #   P(i) = (dist(i, X)) / (sum_{j=1}^{n} dist(j, X))\n",
    "        probabilities = calculate_row_probabilities(D, X)\n",
    "        # Normalize so that probabilities add up to 1\n",
    "        probabilities = probabilities / probabilities.sum()\n",
    "        \n",
    "        weighted_sample_id = np.random.choice(a=row_ids, p=probabilities)\n",
    "        chosen_row = D[weighted_sample_id].T\n",
    "        \n",
    "        # Attach the new centroid as a column to X\n",
    "        X = np.column_stack([X, chosen_row])\n",
    "        s += 1\n",
    "    return X"
   ]
  },
  {
   "cell_type": "markdown",
   "metadata": {
    "id": "DA-udpxf682_"
   },
   "source": [
    "This is the $k$-means implementation from the lecture accompanying notebook."
   ]
  },
  {
   "cell_type": "code",
   "execution_count": 40,
   "metadata": {
    "id": "Kbf34-na682_"
   },
   "outputs": [],
   "source": [
    "def RSS(D,X,Y):\n",
    "    return np.sum((D- Y@X.T)**2)"
   ]
  },
  {
   "cell_type": "code",
   "execution_count": 41,
   "metadata": {
    "id": "BbbHEr4z683A"
   },
   "outputs": [],
   "source": [
    "def getY(labels):\n",
    "    Y = np.zeros((len(labels), max(labels)+1))\n",
    "    for i in range(0, len(labels)):\n",
    "        Y[i, labels[i]] = 1\n",
    "    return Y\n",
    "\n",
    "def update_centroid(D,Y):\n",
    "    cluster_sizes = np.diag(Y.T@Y).copy()\n",
    "    cluster_sizes[cluster_sizes==0]=1\n",
    "    return D.T@Y/cluster_sizes\n",
    "\n",
    "def update_assignment(D,X):\n",
    "    dist = np.sum(D**2,1).reshape(-1,1)  - 2* D@X + np.sum(X**2,0)\n",
    "    labels = np.argmin(dist,1)\n",
    "    return getY(labels)\n",
    "\n",
    "def kmeans(D,r, X_init, epsilon=0.00001, t_max=10000):\n",
    "    X = X_init.copy()\n",
    "    Y = update_assignment(D,X)\n",
    "    rss_old = RSS(D,X,Y) +2*epsilon\n",
    "    t=0\n",
    "    #Looping as long as difference of objective function values is larger than epsilon\n",
    "    while rss_old - RSS(D,X,Y) > epsilon and t < t_max-1:\n",
    "        rss_old = RSS(D,X,Y)\n",
    "        X = update_centroid(D,Y)\n",
    "        Y = update_assignment(D,X)\n",
    "        t+=1\n",
    "    print(t,\"iterations\")\n",
    "    return X,Y"
   ]
  },
  {
   "cell_type": "markdown",
   "metadata": {
    "id": "ijUBEMFp683B"
   },
   "source": [
    "We generate a dataset."
   ]
  },
  {
   "cell_type": "code",
   "execution_count": 42,
   "metadata": {
    "id": "c1qIdcBN683B"
   },
   "outputs": [],
   "source": [
    "n=500\n",
    "dataID, D, labels, r = generateBlobs(0.05,n)\n",
    "# dataID, D, labels, r = generateMoons(0.05,n)\n",
    "# dataID, D, labels, r = generateAniso(0.05,n)\n",
    "# dataID, D, labels, r = generateCircles(0.05,n)"
   ]
  },
  {
   "cell_type": "markdown",
   "metadata": {
    "id": "gC7QJchG683C"
   },
   "source": [
    "Run kmeans and spectral clustering based on the initialization technique."
   ]
  },
  {
   "cell_type": "code",
   "execution_count": 44,
   "metadata": {
    "id": "N0-EazBT683C",
    "outputId": "efae2b00-9f6e-4f3f-ff95-455d125a0952"
   },
   "outputs": [
    {
     "name": "stdout",
     "output_type": "stream",
     "text": [
      "5 iterations\n"
     ]
    }
   ],
   "source": [
    "X_init = init_centroids_pp(D,r, None)\n",
    "X,Y = kmeans(D, r, X_init)"
   ]
  },
  {
   "cell_type": "markdown",
   "metadata": {
    "id": "ReHnuJm8683D"
   },
   "source": [
    "Plot the clustering. The initial centroids are marked in red, and the final centroids are marked in blue. Note, that this kind of centroid visualization will however not work for spectral clustering."
   ]
  },
  {
   "cell_type": "code",
   "execution_count": 45,
   "metadata": {
    "id": "z2u3FPi4683D",
    "outputId": "dd6a9f7f-4300-4702-c4ea-36126bf1e073"
   },
   "outputs": [
    {
     "data": {
      "text/plain": [
       "<matplotlib.collections.PathCollection at 0x7f730fcedca0>"
      ]
     },
     "execution_count": 45,
     "metadata": {},
     "output_type": "execute_result"
    },
    {
     "data": {
      "image/png": "[encoded data removed]",
      "text/plain": [
       "<Figure size 432x288 with 1 Axes>"
      ]
     },
     "metadata": {
      "needs_background": "light"
     },
     "output_type": "display_data"
    }
   ],
   "source": [
    "fig = plt.figure()\n",
    "ax = plt.axes()\n",
    "ax.axis('equal')\n",
    "plt.xlim(-1, 4)\n",
    "plt.ylim(-1, 4)\n",
    "ax.scatter(D[:, 0], D[:, 1], c=np.argmax(Y,axis=1), s=10)\n",
    "ax.scatter(X_init.T[:, 0], X_init.T[:, 1], c='red', s=50, marker = 'D')\n",
    "ax.scatter(X.T[:, 0], X.T[:, 1], c='blue', s=50, marker = 'D')"
   ]
  },
  {
   "cell_type": "markdown",
   "metadata": {},
   "source": [
    "## Option A: Seems to work as intended (True)"
   ]
  },
  {
   "cell_type": "code",
   "execution_count": 48,
   "metadata": {},
   "outputs": [
    {
     "name": "stdout",
     "output_type": "stream",
     "text": [
      "3 iterations\n"
     ]
    },
    {
     "data": {
      "text/plain": [
       "<matplotlib.collections.PathCollection at 0x7f731c1f4700>"
      ]
     },
     "execution_count": 48,
     "metadata": {},
     "output_type": "execute_result"
    },
    {
     "data": {
      "image/png": "[encoded data removed]",
      "text/plain": [
       "<Figure size 432x288 with 1 Axes>"
      ]
     },
     "metadata": {
      "needs_background": "light"
     },
     "output_type": "display_data"
    }
   ],
   "source": [
    "dataID, D, labels, r = generateBlobs(0.05,n)\n",
    "X_init = init_centroids_pp(D,r, None)\n",
    "X,Y = kmeans(D,r, X_init)\n",
    "fig = plt.figure()\n",
    "ax = plt.axes()\n",
    "ax.axis('equal')\n",
    "plt.xlim(-1, 4)\n",
    "plt.ylim(-1, 4)\n",
    "ax.scatter(D[:, 0], D[:, 1], c=np.argmax(Y,axis=1), s=10)\n",
    "ax.scatter(X_init.T[:, 0], X_init.T[:, 1], c='red', s=50, marker = 'D')\n",
    "ax.scatter(X.T[:, 0], X.T[:, 1], c='blue', s=50, marker = 'D')"
   ]
  },
  {
   "cell_type": "markdown",
   "metadata": {},
   "source": [
    "## Option B: Is indeed not functional (True)"
   ]
  },
  {
   "cell_type": "code",
   "execution_count": 49,
   "metadata": {},
   "outputs": [
    {
     "name": "stdout",
     "output_type": "stream",
     "text": [
      "18 iterations\n"
     ]
    },
    {
     "data": {
      "text/plain": [
       "<matplotlib.collections.PathCollection at 0x7f731d3e5610>"
      ]
     },
     "execution_count": 49,
     "metadata": {},
     "output_type": "execute_result"
    },
    {
     "data": {
      "image/png": "[encoded data removed]",
      "text/plain": [
       "<Figure size 432x288 with 1 Axes>"
      ]
     },
     "metadata": {
      "needs_background": "light"
     },
     "output_type": "display_data"
    }
   ],
   "source": [
    "dataID, D, labels, r = generateAniso(0.05,n)\n",
    "X_init = init_centroids_pp(D,r, None)\n",
    "X,Y = kmeans(D,r, X_init)\n",
    "fig = plt.figure()\n",
    "ax = plt.axes()\n",
    "ax.axis('equal')\n",
    "plt.xlim(-1, 4)\n",
    "plt.ylim(-1, 4)\n",
    "ax.scatter(D[:, 0], D[:, 1], c=np.argmax(Y,axis=1), s=10)\n",
    "ax.scatter(X_init.T[:, 0], X_init.T[:, 1], c='red', s=50, marker = 'D')\n",
    "ax.scatter(X.T[:, 0], X.T[:, 1], c='blue', s=50, marker = 'D')"
   ]
  },
  {
   "cell_type": "markdown",
   "metadata": {},
   "source": [
    "## Note: Spectral clustering code is \"borrowed\" from lecture notebook\n",
    "As described in HW3.pdf: \"You can employ the implementation of spectral clustering provided in the Nonconvex Clustering lecture.\""
   ]
  },
  {
   "cell_type": "code",
   "execution_count": 50,
   "metadata": {},
   "outputs": [],
   "source": [
    "from sklearn.neighbors import kneighbors_graph\n",
    "from sklearn.cluster import KMeans\n",
    "from scipy.sparse import linalg\n",
    "from itertools import cycle, islice\n",
    "\n",
    "colors = np.array(list(islice(cycle(['#377eb8', '#ff7f00', '#4daf4a',\n",
    "                                    '#f781bf', '#a65628', '#984ea3',\n",
    "                                    '#999999', '#e41a1c', '#dede00']),3)))\n",
    "# add black color for outliers (if any)\n",
    "colors = np.append(colors, [\"#000000\"])\n",
    "\n",
    "def spectral_clustering(W, r):\n",
    "    L = np.diag(np.array(W.sum(0))[0]) - W\n",
    "    Lambda, V = linalg.eigsh(L, k=r+1, which=\"SM\")\n",
    "\n",
    "    kmeans = KMeans(n_clusters=r, init=init_centroids_pp)\n",
    "    A = V[:,1:]\n",
    "    kmeans.fit(A)\n",
    "    y_pred = kmeans.labels_\n",
    "    return y_pred, A"
   ]
  },
  {
   "cell_type": "markdown",
   "metadata": {},
   "source": [
    "## Option C: Seems to indeed work as intended (True)"
   ]
  },
  {
   "cell_type": "code",
   "execution_count": 51,
   "metadata": {},
   "outputs": [
    {
     "data": {
      "text/plain": [
       "Text(0.5, 1.0, 'Spectral clustering')"
      ]
     },
     "execution_count": 51,
     "metadata": {},
     "output_type": "execute_result"
    },
    {
     "data": {
      "image/png": "[encoded data removed]",
      "text/plain": [
       "<Figure size 216x216 with 1 Axes>"
      ]
     },
     "metadata": {
      "needs_background": "light"
     },
     "output_type": "display_data"
    }
   ],
   "source": [
    "dataID, D, labels, r = generateCircles(0.05,n)\n",
    "dataset_pd = pd.DataFrame(D)\n",
    "N = kneighbors_graph(dataset_pd, n_neighbors=30,include_self=False, n_jobs=-1)\n",
    "W = 0.5*(N+N.T)\n",
    "y_sc_knn, A_sc_knn = spectral_clustering(W,r)\n",
    "\n",
    "plt.figure(figsize=(3, 3))\n",
    "plt.scatter(D[:, 0], D[:, 1], s=10, color=colors[y_sc_knn]) \n",
    "plt.title(\"Spectral clustering\")"
   ]
  },
  {
   "cell_type": "markdown",
   "metadata": {},
   "source": [
    "## Option D: Seems to work, while the statement says it doesn't (False)"
   ]
  },
  {
   "cell_type": "code",
   "execution_count": 52,
   "metadata": {},
   "outputs": [
    {
     "data": {
      "text/plain": [
       "Text(0.5, 1.0, 'Spectral clustering')"
      ]
     },
     "execution_count": 52,
     "metadata": {},
     "output_type": "execute_result"
    },
    {
     "data": {
      "image/png": "[encoded data removed]",
      "text/plain": [
       "<Figure size 216x216 with 1 Axes>"
      ]
     },
     "metadata": {
      "needs_background": "light"
     },
     "output_type": "display_data"
    }
   ],
   "source": [
    "dataID, D, labels, r = generateMoons(0.05,n)\n",
    "dataset_pd = pd.DataFrame(D)\n",
    "N = kneighbors_graph(dataset_pd, n_neighbors=20,include_self=False, n_jobs=-1)\n",
    "W = 0.5*(N+N.T)\n",
    "y_sc_knn, A_sc_knn = spectral_clustering(W,r)\n",
    "\n",
    "plt.figure(figsize=(3, 3))\n",
    "plt.scatter(D[:, 0], D[:, 1], s=10, color=colors[y_sc_knn]) \n",
    "plt.title(\"Spectral clustering\")"
   ]
  },
  {
   "cell_type": "markdown",
   "metadata": {},
   "source": [
    "## Conclusion\n",
    "Option A: **True**, seems to work as intended.\n",
    "\n",
    "Option B: **True**, is indeed not functional.\n",
    "\n",
    "Option C: **True**, seems to indeed work as intended.\n",
    "\n",
    "Option D: **Untrue**, seems to work, while the statement says it doesn't."
   ]
  },
  {
   "cell_type": "markdown",
   "metadata": {
    "id": "EqK9QYrG683I"
   },
   "source": [
    "# Exercise : Movielens\n",
    "To read the dataset you might need to alter the path to look for it:"
   ]
  },
  {
   "cell_type": "code",
   "execution_count": 53,
   "metadata": {
    "id": "8sXLB4e0683J",
    "outputId": "1ec1b583-3189-4724-d0b5-8d758ccc62f2"
   },
   "outputs": [
    {
     "data": {
      "text/html": [
       "<div>\n",
       "<style scoped>\n",
       "    .dataframe tbody tr th:only-of-type {\n",
       "        vertical-align: middle;\n",
       "    }\n",
       "\n",
       "    .dataframe tbody tr th {\n",
       "        vertical-align: top;\n",
       "    }\n",
       "\n",
       "    .dataframe thead th {\n",
       "        text-align: right;\n",
       "    }\n",
       "</style>\n",
       "<table border=\"1\" class=\"dataframe\">\n",
       "  <thead>\n",
       "    <tr style=\"text-align: right;\">\n",
       "      <th></th>\n",
       "      <th>movieId</th>\n",
       "      <th>title</th>\n",
       "      <th>genres</th>\n",
       "    </tr>\n",
       "  </thead>\n",
       "  <tbody>\n",
       "    <tr>\n",
       "      <th>0</th>\n",
       "      <td>1</td>\n",
       "      <td>Toy Story (1995)</td>\n",
       "      <td>Adventure|Animation|Children|Comedy|Fantasy</td>\n",
       "    </tr>\n",
       "    <tr>\n",
       "      <th>1</th>\n",
       "      <td>2</td>\n",
       "      <td>Jumanji (1995)</td>\n",
       "      <td>Adventure|Children|Fantasy</td>\n",
       "    </tr>\n",
       "    <tr>\n",
       "      <th>2</th>\n",
       "      <td>3</td>\n",
       "      <td>Grumpier Old Men (1995)</td>\n",
       "      <td>Comedy|Romance</td>\n",
       "    </tr>\n",
       "    <tr>\n",
       "      <th>3</th>\n",
       "      <td>4</td>\n",
       "      <td>Waiting to Exhale (1995)</td>\n",
       "      <td>Comedy|Drama|Romance</td>\n",
       "    </tr>\n",
       "    <tr>\n",
       "      <th>4</th>\n",
       "      <td>5</td>\n",
       "      <td>Father of the Bride Part II (1995)</td>\n",
       "      <td>Comedy</td>\n",
       "    </tr>\n",
       "  </tbody>\n",
       "</table>\n",
       "</div>"
      ],
      "text/plain": [
       "   movieId                               title  \\\n",
       "0        1                    Toy Story (1995)   \n",
       "1        2                      Jumanji (1995)   \n",
       "2        3             Grumpier Old Men (1995)   \n",
       "3        4            Waiting to Exhale (1995)   \n",
       "4        5  Father of the Bride Part II (1995)   \n",
       "\n",
       "                                        genres  \n",
       "0  Adventure|Animation|Children|Comedy|Fantasy  \n",
       "1                   Adventure|Children|Fantasy  \n",
       "2                               Comedy|Romance  \n",
       "3                         Comedy|Drama|Romance  \n",
       "4                                       Comedy  "
      ]
     },
     "execution_count": 53,
     "metadata": {},
     "output_type": "execute_result"
    }
   ],
   "source": [
    "# lets explore movies.csv\n",
    "movies= pd.read_csv('ml-latest-small/ml-latest-small/movies.csv')\n",
    "movies.head()"
   ]
  },
  {
   "cell_type": "code",
   "execution_count": 54,
   "metadata": {
    "id": "0Li5VDdT683J",
    "outputId": "94654bbd-13bf-488e-f66a-9032d6f683b2"
   },
   "outputs": [
    {
     "data": {
      "text/html": [
       "<div>\n",
       "<style scoped>\n",
       "    .dataframe tbody tr th:only-of-type {\n",
       "        vertical-align: middle;\n",
       "    }\n",
       "\n",
       "    .dataframe tbody tr th {\n",
       "        vertical-align: top;\n",
       "    }\n",
       "\n",
       "    .dataframe thead th {\n",
       "        text-align: right;\n",
       "    }\n",
       "</style>\n",
       "<table border=\"1\" class=\"dataframe\">\n",
       "  <thead>\n",
       "    <tr style=\"text-align: right;\">\n",
       "      <th></th>\n",
       "      <th>userId</th>\n",
       "      <th>movieId</th>\n",
       "      <th>rating</th>\n",
       "      <th>timestamp</th>\n",
       "    </tr>\n",
       "  </thead>\n",
       "  <tbody>\n",
       "    <tr>\n",
       "      <th>0</th>\n",
       "      <td>1</td>\n",
       "      <td>1</td>\n",
       "      <td>4.0</td>\n",
       "      <td>964982703</td>\n",
       "    </tr>\n",
       "    <tr>\n",
       "      <th>1</th>\n",
       "      <td>1</td>\n",
       "      <td>3</td>\n",
       "      <td>4.0</td>\n",
       "      <td>964981247</td>\n",
       "    </tr>\n",
       "    <tr>\n",
       "      <th>2</th>\n",
       "      <td>1</td>\n",
       "      <td>6</td>\n",
       "      <td>4.0</td>\n",
       "      <td>964982224</td>\n",
       "    </tr>\n",
       "    <tr>\n",
       "      <th>3</th>\n",
       "      <td>1</td>\n",
       "      <td>47</td>\n",
       "      <td>5.0</td>\n",
       "      <td>964983815</td>\n",
       "    </tr>\n",
       "    <tr>\n",
       "      <th>4</th>\n",
       "      <td>1</td>\n",
       "      <td>50</td>\n",
       "      <td>5.0</td>\n",
       "      <td>964982931</td>\n",
       "    </tr>\n",
       "  </tbody>\n",
       "</table>\n",
       "</div>"
      ],
      "text/plain": [
       "   userId  movieId  rating  timestamp\n",
       "0       1        1     4.0  964982703\n",
       "1       1        3     4.0  964981247\n",
       "2       1        6     4.0  964982224\n",
       "3       1       47     5.0  964983815\n",
       "4       1       50     5.0  964982931"
      ]
     },
     "execution_count": 54,
     "metadata": {},
     "output_type": "execute_result"
    }
   ],
   "source": [
    "# lets explore ratings.CSV\n",
    "ratings=pd.read_csv('ml-latest-small/ml-latest-small/ratings.csv',sep=',')\n",
    "ratings.head()"
   ]
  },
  {
   "cell_type": "markdown",
   "metadata": {
    "id": "D6Z37gG1683K"
   },
   "source": [
    "The original ratings are in the range of 0.5 and 5:"
   ]
  },
  {
   "cell_type": "code",
   "execution_count": 55,
   "metadata": {
    "id": "2-6dMnMi683K",
    "outputId": "e991eb0d-c11b-4366-c84a-e3f82475c882"
   },
   "outputs": [
    {
     "data": {
      "text/plain": [
       "(0.5, 5.0)"
      ]
     },
     "execution_count": 55,
     "metadata": {},
     "output_type": "execute_result"
    }
   ],
   "source": [
    "min(ratings[\"rating\"]), max(ratings[\"rating\"])"
   ]
  },
  {
   "cell_type": "markdown",
   "metadata": {
    "id": "LlCwW81n683L"
   },
   "source": [
    "We convert the sparse representation of movie ratings into a data matrix. The missing values are filled with zeros."
   ]
  },
  {
   "cell_type": "code",
   "execution_count": 56,
   "metadata": {
    "id": "WGXAOmfY683M",
    "outputId": "8833ba9b-d585-410e-cc75-20bca39b31b3"
   },
   "outputs": [
    {
     "data": {
      "text/html": [
       "<div>\n",
       "<style scoped>\n",
       "    .dataframe tbody tr th:only-of-type {\n",
       "        vertical-align: middle;\n",
       "    }\n",
       "\n",
       "    .dataframe tbody tr th {\n",
       "        vertical-align: top;\n",
       "    }\n",
       "\n",
       "    .dataframe thead th {\n",
       "        text-align: right;\n",
       "    }\n",
       "</style>\n",
       "<table border=\"1\" class=\"dataframe\">\n",
       "  <thead>\n",
       "    <tr style=\"text-align: right;\">\n",
       "      <th>movieId</th>\n",
       "      <th>1</th>\n",
       "      <th>2</th>\n",
       "      <th>3</th>\n",
       "      <th>4</th>\n",
       "      <th>5</th>\n",
       "      <th>6</th>\n",
       "      <th>7</th>\n",
       "      <th>8</th>\n",
       "      <th>9</th>\n",
       "      <th>10</th>\n",
       "      <th>...</th>\n",
       "      <th>193565</th>\n",
       "      <th>193567</th>\n",
       "      <th>193571</th>\n",
       "      <th>193573</th>\n",
       "      <th>193579</th>\n",
       "      <th>193581</th>\n",
       "      <th>193583</th>\n",
       "      <th>193585</th>\n",
       "      <th>193587</th>\n",
       "      <th>193609</th>\n",
       "    </tr>\n",
       "    <tr>\n",
       "      <th>userId</th>\n",
       "      <th></th>\n",
       "      <th></th>\n",
       "      <th></th>\n",
       "      <th></th>\n",
       "      <th></th>\n",
       "      <th></th>\n",
       "      <th></th>\n",
       "      <th></th>\n",
       "      <th></th>\n",
       "      <th></th>\n",
       "      <th></th>\n",
       "      <th></th>\n",
       "      <th></th>\n",
       "      <th></th>\n",
       "      <th></th>\n",
       "      <th></th>\n",
       "      <th></th>\n",
       "      <th></th>\n",
       "      <th></th>\n",
       "      <th></th>\n",
       "      <th></th>\n",
       "    </tr>\n",
       "  </thead>\n",
       "  <tbody>\n",
       "    <tr>\n",
       "      <th>1</th>\n",
       "      <td>4.0</td>\n",
       "      <td>0.0</td>\n",
       "      <td>4.0</td>\n",
       "      <td>0.0</td>\n",
       "      <td>0.0</td>\n",
       "      <td>4.0</td>\n",
       "      <td>0.0</td>\n",
       "      <td>0.0</td>\n",
       "      <td>0.0</td>\n",
       "      <td>0.0</td>\n",
       "      <td>...</td>\n",
       "      <td>0.0</td>\n",
       "      <td>0.0</td>\n",
       "      <td>0.0</td>\n",
       "      <td>0.0</td>\n",
       "      <td>0.0</td>\n",
       "      <td>0.0</td>\n",
       "      <td>0.0</td>\n",
       "      <td>0.0</td>\n",
       "      <td>0.0</td>\n",
       "      <td>0.0</td>\n",
       "    </tr>\n",
       "    <tr>\n",
       "      <th>2</th>\n",
       "      <td>0.0</td>\n",
       "      <td>0.0</td>\n",
       "      <td>0.0</td>\n",
       "      <td>0.0</td>\n",
       "      <td>0.0</td>\n",
       "      <td>0.0</td>\n",
       "      <td>0.0</td>\n",
       "      <td>0.0</td>\n",
       "      <td>0.0</td>\n",
       "      <td>0.0</td>\n",
       "      <td>...</td>\n",
       "      <td>0.0</td>\n",
       "      <td>0.0</td>\n",
       "      <td>0.0</td>\n",
       "      <td>0.0</td>\n",
       "      <td>0.0</td>\n",
       "      <td>0.0</td>\n",
       "      <td>0.0</td>\n",
       "      <td>0.0</td>\n",
       "      <td>0.0</td>\n",
       "      <td>0.0</td>\n",
       "    </tr>\n",
       "    <tr>\n",
       "      <th>3</th>\n",
       "      <td>0.0</td>\n",
       "      <td>0.0</td>\n",
       "      <td>0.0</td>\n",
       "      <td>0.0</td>\n",
       "      <td>0.0</td>\n",
       "      <td>0.0</td>\n",
       "      <td>0.0</td>\n",
       "      <td>0.0</td>\n",
       "      <td>0.0</td>\n",
       "      <td>0.0</td>\n",
       "      <td>...</td>\n",
       "      <td>0.0</td>\n",
       "      <td>0.0</td>\n",
       "      <td>0.0</td>\n",
       "      <td>0.0</td>\n",
       "      <td>0.0</td>\n",
       "      <td>0.0</td>\n",
       "      <td>0.0</td>\n",
       "      <td>0.0</td>\n",
       "      <td>0.0</td>\n",
       "      <td>0.0</td>\n",
       "    </tr>\n",
       "    <tr>\n",
       "      <th>4</th>\n",
       "      <td>0.0</td>\n",
       "      <td>0.0</td>\n",
       "      <td>0.0</td>\n",
       "      <td>0.0</td>\n",
       "      <td>0.0</td>\n",
       "      <td>0.0</td>\n",
       "      <td>0.0</td>\n",
       "      <td>0.0</td>\n",
       "      <td>0.0</td>\n",
       "      <td>0.0</td>\n",
       "      <td>...</td>\n",
       "      <td>0.0</td>\n",
       "      <td>0.0</td>\n",
       "      <td>0.0</td>\n",
       "      <td>0.0</td>\n",
       "      <td>0.0</td>\n",
       "      <td>0.0</td>\n",
       "      <td>0.0</td>\n",
       "      <td>0.0</td>\n",
       "      <td>0.0</td>\n",
       "      <td>0.0</td>\n",
       "    </tr>\n",
       "    <tr>\n",
       "      <th>5</th>\n",
       "      <td>4.0</td>\n",
       "      <td>0.0</td>\n",
       "      <td>0.0</td>\n",
       "      <td>0.0</td>\n",
       "      <td>0.0</td>\n",
       "      <td>0.0</td>\n",
       "      <td>0.0</td>\n",
       "      <td>0.0</td>\n",
       "      <td>0.0</td>\n",
       "      <td>0.0</td>\n",
       "      <td>...</td>\n",
       "      <td>0.0</td>\n",
       "      <td>0.0</td>\n",
       "      <td>0.0</td>\n",
       "      <td>0.0</td>\n",
       "      <td>0.0</td>\n",
       "      <td>0.0</td>\n",
       "      <td>0.0</td>\n",
       "      <td>0.0</td>\n",
       "      <td>0.0</td>\n",
       "      <td>0.0</td>\n",
       "    </tr>\n",
       "  </tbody>\n",
       "</table>\n",
       "<p>5 rows × 9724 columns</p>\n",
       "</div>"
      ],
      "text/plain": [
       "movieId  1       2       3       4       5       6       7       8       \\\n",
       "userId                                                                    \n",
       "1           4.0     0.0     4.0     0.0     0.0     4.0     0.0     0.0   \n",
       "2           0.0     0.0     0.0     0.0     0.0     0.0     0.0     0.0   \n",
       "3           0.0     0.0     0.0     0.0     0.0     0.0     0.0     0.0   \n",
       "4           0.0     0.0     0.0     0.0     0.0     0.0     0.0     0.0   \n",
       "5           4.0     0.0     0.0     0.0     0.0     0.0     0.0     0.0   \n",
       "\n",
       "movieId  9       10      ...  193565  193567  193571  193573  193579  193581  \\\n",
       "userId                   ...                                                   \n",
       "1           0.0     0.0  ...     0.0     0.0     0.0     0.0     0.0     0.0   \n",
       "2           0.0     0.0  ...     0.0     0.0     0.0     0.0     0.0     0.0   \n",
       "3           0.0     0.0  ...     0.0     0.0     0.0     0.0     0.0     0.0   \n",
       "4           0.0     0.0  ...     0.0     0.0     0.0     0.0     0.0     0.0   \n",
       "5           0.0     0.0  ...     0.0     0.0     0.0     0.0     0.0     0.0   \n",
       "\n",
       "movieId  193583  193585  193587  193609  \n",
       "userId                                   \n",
       "1           0.0     0.0     0.0     0.0  \n",
       "2           0.0     0.0     0.0     0.0  \n",
       "3           0.0     0.0     0.0     0.0  \n",
       "4           0.0     0.0     0.0     0.0  \n",
       "5           0.0     0.0     0.0     0.0  \n",
       "\n",
       "[5 rows x 9724 columns]"
      ]
     },
     "execution_count": 56,
     "metadata": {},
     "output_type": "execute_result"
    }
   ],
   "source": [
    "df_movie_ratings = ratings.pivot(\n",
    "    index='userId',\n",
    "    columns='movieId',\n",
    "    values='rating'\n",
    ").fillna(0)  #fill unobserved entries with μ\n",
    "df_movie_ratings.head()"
   ]
  },
  {
   "cell_type": "markdown",
   "metadata": {
    "id": "s3cqUCzQ683N"
   },
   "source": [
    "We consider here only the movies which have been rated by more than 200 users. That are 18 movies. We will not be able to infer a pattern for movies with very few observations anyways, but for this exercise we are mostly interested in the prnciple and do not need a big dataset."
   ]
  },
  {
   "cell_type": "code",
   "execution_count": 57,
   "metadata": {
    "id": "TeBpioEf683N",
    "outputId": "4265f0c1-44ef-441c-f8dd-7bf6002c55fc"
   },
   "outputs": [
    {
     "data": {
      "text/plain": [
       "18"
      ]
     },
     "execution_count": 57,
     "metadata": {},
     "output_type": "execute_result"
    }
   ],
   "source": [
    "np.sum(np.sum(df_movie_ratings!=0,0)>200)"
   ]
  },
  {
   "cell_type": "code",
   "execution_count": 58,
   "metadata": {
    "id": "mHKnP9Ly683O",
    "outputId": "f78deaf9-4e97-4a40-e576-10851d81819d"
   },
   "outputs": [
    {
     "data": {
      "text/html": [
       "<div>\n",
       "<style scoped>\n",
       "    .dataframe tbody tr th:only-of-type {\n",
       "        vertical-align: middle;\n",
       "    }\n",
       "\n",
       "    .dataframe tbody tr th {\n",
       "        vertical-align: top;\n",
       "    }\n",
       "\n",
       "    .dataframe thead th {\n",
       "        text-align: right;\n",
       "    }\n",
       "</style>\n",
       "<table border=\"1\" class=\"dataframe\">\n",
       "  <thead>\n",
       "    <tr style=\"text-align: right;\">\n",
       "      <th>movieId</th>\n",
       "      <th>1</th>\n",
       "      <th>47</th>\n",
       "      <th>50</th>\n",
       "      <th>110</th>\n",
       "      <th>150</th>\n",
       "      <th>260</th>\n",
       "      <th>296</th>\n",
       "      <th>318</th>\n",
       "      <th>356</th>\n",
       "      <th>480</th>\n",
       "      <th>527</th>\n",
       "      <th>589</th>\n",
       "      <th>593</th>\n",
       "      <th>780</th>\n",
       "      <th>1196</th>\n",
       "      <th>2571</th>\n",
       "      <th>2858</th>\n",
       "      <th>2959</th>\n",
       "    </tr>\n",
       "    <tr>\n",
       "      <th>userId</th>\n",
       "      <th></th>\n",
       "      <th></th>\n",
       "      <th></th>\n",
       "      <th></th>\n",
       "      <th></th>\n",
       "      <th></th>\n",
       "      <th></th>\n",
       "      <th></th>\n",
       "      <th></th>\n",
       "      <th></th>\n",
       "      <th></th>\n",
       "      <th></th>\n",
       "      <th></th>\n",
       "      <th></th>\n",
       "      <th></th>\n",
       "      <th></th>\n",
       "      <th></th>\n",
       "      <th></th>\n",
       "    </tr>\n",
       "  </thead>\n",
       "  <tbody>\n",
       "    <tr>\n",
       "      <th>1</th>\n",
       "      <td>4.0</td>\n",
       "      <td>5.0</td>\n",
       "      <td>5.0</td>\n",
       "      <td>4.0</td>\n",
       "      <td>0.0</td>\n",
       "      <td>5.0</td>\n",
       "      <td>3.0</td>\n",
       "      <td>0.0</td>\n",
       "      <td>4.0</td>\n",
       "      <td>4.0</td>\n",
       "      <td>5.0</td>\n",
       "      <td>0.0</td>\n",
       "      <td>4.0</td>\n",
       "      <td>3.0</td>\n",
       "      <td>5.0</td>\n",
       "      <td>5.0</td>\n",
       "      <td>5.0</td>\n",
       "      <td>5.0</td>\n",
       "    </tr>\n",
       "    <tr>\n",
       "      <th>2</th>\n",
       "      <td>0.0</td>\n",
       "      <td>0.0</td>\n",
       "      <td>0.0</td>\n",
       "      <td>0.0</td>\n",
       "      <td>0.0</td>\n",
       "      <td>0.0</td>\n",
       "      <td>0.0</td>\n",
       "      <td>3.0</td>\n",
       "      <td>0.0</td>\n",
       "      <td>0.0</td>\n",
       "      <td>0.0</td>\n",
       "      <td>0.0</td>\n",
       "      <td>0.0</td>\n",
       "      <td>0.0</td>\n",
       "      <td>0.0</td>\n",
       "      <td>0.0</td>\n",
       "      <td>0.0</td>\n",
       "      <td>0.0</td>\n",
       "    </tr>\n",
       "    <tr>\n",
       "      <th>3</th>\n",
       "      <td>0.0</td>\n",
       "      <td>0.0</td>\n",
       "      <td>0.0</td>\n",
       "      <td>0.0</td>\n",
       "      <td>0.0</td>\n",
       "      <td>0.0</td>\n",
       "      <td>0.0</td>\n",
       "      <td>0.0</td>\n",
       "      <td>0.0</td>\n",
       "      <td>0.0</td>\n",
       "      <td>0.5</td>\n",
       "      <td>0.0</td>\n",
       "      <td>0.0</td>\n",
       "      <td>0.0</td>\n",
       "      <td>0.0</td>\n",
       "      <td>0.0</td>\n",
       "      <td>0.0</td>\n",
       "      <td>0.0</td>\n",
       "    </tr>\n",
       "    <tr>\n",
       "      <th>4</th>\n",
       "      <td>0.0</td>\n",
       "      <td>2.0</td>\n",
       "      <td>0.0</td>\n",
       "      <td>0.0</td>\n",
       "      <td>0.0</td>\n",
       "      <td>5.0</td>\n",
       "      <td>1.0</td>\n",
       "      <td>0.0</td>\n",
       "      <td>0.0</td>\n",
       "      <td>0.0</td>\n",
       "      <td>0.0</td>\n",
       "      <td>0.0</td>\n",
       "      <td>5.0</td>\n",
       "      <td>0.0</td>\n",
       "      <td>5.0</td>\n",
       "      <td>1.0</td>\n",
       "      <td>5.0</td>\n",
       "      <td>2.0</td>\n",
       "    </tr>\n",
       "    <tr>\n",
       "      <th>5</th>\n",
       "      <td>4.0</td>\n",
       "      <td>0.0</td>\n",
       "      <td>4.0</td>\n",
       "      <td>4.0</td>\n",
       "      <td>3.0</td>\n",
       "      <td>0.0</td>\n",
       "      <td>5.0</td>\n",
       "      <td>3.0</td>\n",
       "      <td>0.0</td>\n",
       "      <td>0.0</td>\n",
       "      <td>5.0</td>\n",
       "      <td>3.0</td>\n",
       "      <td>0.0</td>\n",
       "      <td>0.0</td>\n",
       "      <td>0.0</td>\n",
       "      <td>0.0</td>\n",
       "      <td>0.0</td>\n",
       "      <td>0.0</td>\n",
       "    </tr>\n",
       "  </tbody>\n",
       "</table>\n",
       "</div>"
      ],
      "text/plain": [
       "movieId  1     47    50    110   150   260   296   318   356   480   527   \\\n",
       "userId                                                                      \n",
       "1         4.0   5.0   5.0   4.0   0.0   5.0   3.0   0.0   4.0   4.0   5.0   \n",
       "2         0.0   0.0   0.0   0.0   0.0   0.0   0.0   3.0   0.0   0.0   0.0   \n",
       "3         0.0   0.0   0.0   0.0   0.0   0.0   0.0   0.0   0.0   0.0   0.5   \n",
       "4         0.0   2.0   0.0   0.0   0.0   5.0   1.0   0.0   0.0   0.0   0.0   \n",
       "5         4.0   0.0   4.0   4.0   3.0   0.0   5.0   3.0   0.0   0.0   5.0   \n",
       "\n",
       "movieId  589   593   780   1196  2571  2858  2959  \n",
       "userId                                             \n",
       "1         0.0   4.0   3.0   5.0   5.0   5.0   5.0  \n",
       "2         0.0   0.0   0.0   0.0   0.0   0.0   0.0  \n",
       "3         0.0   0.0   0.0   0.0   0.0   0.0   0.0  \n",
       "4         0.0   5.0   0.0   5.0   1.0   5.0   2.0  \n",
       "5         3.0   0.0   0.0   0.0   0.0   0.0   0.0  "
      ]
     },
     "execution_count": 58,
     "metadata": {},
     "output_type": "execute_result"
    }
   ],
   "source": [
    "keep_movie = np.sum(df_movie_ratings!=0,0)>200\n",
    "df_D = df_movie_ratings.loc[:,keep_movie]\n",
    "df_D.head()"
   ]
  },
  {
   "cell_type": "markdown",
   "metadata": {
    "id": "kCgtZtVX683O"
   },
   "source": [
    "Furthermore, we will throw out all the users which have not rated more than five movies."
   ]
  },
  {
   "cell_type": "code",
   "execution_count": 59,
   "metadata": {
    "id": "bLkDefnE683P",
    "outputId": "81335791-0aca-4d6b-f022-69ec090e8429"
   },
   "outputs": [
    {
     "data": {
      "text/plain": [
       "344"
      ]
     },
     "execution_count": 59,
     "metadata": {},
     "output_type": "execute_result"
    }
   ],
   "source": [
    "np.sum(np.sum(df_D!=0,1)>5)"
   ]
  },
  {
   "cell_type": "markdown",
   "metadata": {
    "id": "KluEoE9i683P"
   },
   "source": [
    "The resulting dataset has the userID as rows and movieIDs as columns. Hence, userID 1 and 4 addresses the first two rows of this dataset."
   ]
  },
  {
   "cell_type": "code",
   "execution_count": 60,
   "metadata": {
    "id": "2M8zxUHC683Q",
    "outputId": "04a4a3da-1a43-472f-bed6-cad839db4ce7"
   },
   "outputs": [
    {
     "data": {
      "text/html": [
       "<div>\n",
       "<style scoped>\n",
       "    .dataframe tbody tr th:only-of-type {\n",
       "        vertical-align: middle;\n",
       "    }\n",
       "\n",
       "    .dataframe tbody tr th {\n",
       "        vertical-align: top;\n",
       "    }\n",
       "\n",
       "    .dataframe thead th {\n",
       "        text-align: right;\n",
       "    }\n",
       "</style>\n",
       "<table border=\"1\" class=\"dataframe\">\n",
       "  <thead>\n",
       "    <tr style=\"text-align: right;\">\n",
       "      <th>movieId</th>\n",
       "      <th>1</th>\n",
       "      <th>47</th>\n",
       "      <th>50</th>\n",
       "      <th>110</th>\n",
       "      <th>150</th>\n",
       "      <th>260</th>\n",
       "      <th>296</th>\n",
       "      <th>318</th>\n",
       "      <th>356</th>\n",
       "      <th>480</th>\n",
       "      <th>527</th>\n",
       "      <th>589</th>\n",
       "      <th>593</th>\n",
       "      <th>780</th>\n",
       "      <th>1196</th>\n",
       "      <th>2571</th>\n",
       "      <th>2858</th>\n",
       "      <th>2959</th>\n",
       "    </tr>\n",
       "    <tr>\n",
       "      <th>userId</th>\n",
       "      <th></th>\n",
       "      <th></th>\n",
       "      <th></th>\n",
       "      <th></th>\n",
       "      <th></th>\n",
       "      <th></th>\n",
       "      <th></th>\n",
       "      <th></th>\n",
       "      <th></th>\n",
       "      <th></th>\n",
       "      <th></th>\n",
       "      <th></th>\n",
       "      <th></th>\n",
       "      <th></th>\n",
       "      <th></th>\n",
       "      <th></th>\n",
       "      <th></th>\n",
       "      <th></th>\n",
       "    </tr>\n",
       "  </thead>\n",
       "  <tbody>\n",
       "    <tr>\n",
       "      <th>1</th>\n",
       "      <td>4.0</td>\n",
       "      <td>5.0</td>\n",
       "      <td>5.0</td>\n",
       "      <td>4.0</td>\n",
       "      <td>0.0</td>\n",
       "      <td>5.0</td>\n",
       "      <td>3.0</td>\n",
       "      <td>0.0</td>\n",
       "      <td>4.0</td>\n",
       "      <td>4.0</td>\n",
       "      <td>5.0</td>\n",
       "      <td>0.0</td>\n",
       "      <td>4.0</td>\n",
       "      <td>3.0</td>\n",
       "      <td>5.0</td>\n",
       "      <td>5.0</td>\n",
       "      <td>5.0</td>\n",
       "      <td>5.0</td>\n",
       "    </tr>\n",
       "    <tr>\n",
       "      <th>4</th>\n",
       "      <td>0.0</td>\n",
       "      <td>2.0</td>\n",
       "      <td>0.0</td>\n",
       "      <td>0.0</td>\n",
       "      <td>0.0</td>\n",
       "      <td>5.0</td>\n",
       "      <td>1.0</td>\n",
       "      <td>0.0</td>\n",
       "      <td>0.0</td>\n",
       "      <td>0.0</td>\n",
       "      <td>0.0</td>\n",
       "      <td>0.0</td>\n",
       "      <td>5.0</td>\n",
       "      <td>0.0</td>\n",
       "      <td>5.0</td>\n",
       "      <td>1.0</td>\n",
       "      <td>5.0</td>\n",
       "      <td>2.0</td>\n",
       "    </tr>\n",
       "    <tr>\n",
       "      <th>5</th>\n",
       "      <td>4.0</td>\n",
       "      <td>0.0</td>\n",
       "      <td>4.0</td>\n",
       "      <td>4.0</td>\n",
       "      <td>3.0</td>\n",
       "      <td>0.0</td>\n",
       "      <td>5.0</td>\n",
       "      <td>3.0</td>\n",
       "      <td>0.0</td>\n",
       "      <td>0.0</td>\n",
       "      <td>5.0</td>\n",
       "      <td>3.0</td>\n",
       "      <td>0.0</td>\n",
       "      <td>0.0</td>\n",
       "      <td>0.0</td>\n",
       "      <td>0.0</td>\n",
       "      <td>0.0</td>\n",
       "      <td>0.0</td>\n",
       "    </tr>\n",
       "    <tr>\n",
       "      <th>6</th>\n",
       "      <td>0.0</td>\n",
       "      <td>4.0</td>\n",
       "      <td>1.0</td>\n",
       "      <td>5.0</td>\n",
       "      <td>4.0</td>\n",
       "      <td>0.0</td>\n",
       "      <td>2.0</td>\n",
       "      <td>5.0</td>\n",
       "      <td>5.0</td>\n",
       "      <td>5.0</td>\n",
       "      <td>3.0</td>\n",
       "      <td>3.0</td>\n",
       "      <td>4.0</td>\n",
       "      <td>5.0</td>\n",
       "      <td>0.0</td>\n",
       "      <td>0.0</td>\n",
       "      <td>0.0</td>\n",
       "      <td>0.0</td>\n",
       "    </tr>\n",
       "    <tr>\n",
       "      <th>7</th>\n",
       "      <td>4.5</td>\n",
       "      <td>0.0</td>\n",
       "      <td>4.5</td>\n",
       "      <td>0.0</td>\n",
       "      <td>4.5</td>\n",
       "      <td>5.0</td>\n",
       "      <td>0.0</td>\n",
       "      <td>0.0</td>\n",
       "      <td>5.0</td>\n",
       "      <td>5.0</td>\n",
       "      <td>0.0</td>\n",
       "      <td>2.5</td>\n",
       "      <td>5.0</td>\n",
       "      <td>4.5</td>\n",
       "      <td>4.0</td>\n",
       "      <td>0.0</td>\n",
       "      <td>4.0</td>\n",
       "      <td>0.0</td>\n",
       "    </tr>\n",
       "  </tbody>\n",
       "</table>\n",
       "</div>"
      ],
      "text/plain": [
       "movieId  1     47    50    110   150   260   296   318   356   480   527   \\\n",
       "userId                                                                      \n",
       "1         4.0   5.0   5.0   4.0   0.0   5.0   3.0   0.0   4.0   4.0   5.0   \n",
       "4         0.0   2.0   0.0   0.0   0.0   5.0   1.0   0.0   0.0   0.0   0.0   \n",
       "5         4.0   0.0   4.0   4.0   3.0   0.0   5.0   3.0   0.0   0.0   5.0   \n",
       "6         0.0   4.0   1.0   5.0   4.0   0.0   2.0   5.0   5.0   5.0   3.0   \n",
       "7         4.5   0.0   4.5   0.0   4.5   5.0   0.0   0.0   5.0   5.0   0.0   \n",
       "\n",
       "movieId  589   593   780   1196  2571  2858  2959  \n",
       "userId                                             \n",
       "1         0.0   4.0   3.0   5.0   5.0   5.0   5.0  \n",
       "4         0.0   5.0   0.0   5.0   1.0   5.0   2.0  \n",
       "5         3.0   0.0   0.0   0.0   0.0   0.0   0.0  \n",
       "6         3.0   4.0   5.0   0.0   0.0   0.0   0.0  \n",
       "7         2.5   5.0   4.5   4.0   0.0   4.0   0.0  "
      ]
     },
     "execution_count": 60,
     "metadata": {},
     "output_type": "execute_result"
    }
   ],
   "source": [
    "keep_user = np.sum(df_D!=0,1)>5\n",
    "df_D = df_D.loc[keep_user,:]\n",
    "df_D.head()"
   ]
  },
  {
   "cell_type": "markdown",
   "metadata": {
    "id": "2YPLzKPE683Q"
   },
   "source": [
    "The movie number- title assignments are given as follows:"
   ]
  },
  {
   "cell_type": "code",
   "execution_count": 61,
   "metadata": {
    "id": "3jpHyh0C683R",
    "outputId": "c985273e-d76d-494d-f707-2c61ff659499",
    "scrolled": true
   },
   "outputs": [
    {
     "data": {
      "text/html": [
       "<div>\n",
       "<style scoped>\n",
       "    .dataframe tbody tr th:only-of-type {\n",
       "        vertical-align: middle;\n",
       "    }\n",
       "\n",
       "    .dataframe tbody tr th {\n",
       "        vertical-align: top;\n",
       "    }\n",
       "\n",
       "    .dataframe thead th {\n",
       "        text-align: right;\n",
       "    }\n",
       "</style>\n",
       "<table border=\"1\" class=\"dataframe\">\n",
       "  <thead>\n",
       "    <tr style=\"text-align: right;\">\n",
       "      <th></th>\n",
       "      <th>movieId</th>\n",
       "      <th>title</th>\n",
       "      <th>genres</th>\n",
       "    </tr>\n",
       "  </thead>\n",
       "  <tbody>\n",
       "    <tr>\n",
       "      <th>0</th>\n",
       "      <td>1</td>\n",
       "      <td>Toy Story (1995)</td>\n",
       "      <td>Adventure|Animation|Children|Comedy|Fantasy</td>\n",
       "    </tr>\n",
       "    <tr>\n",
       "      <th>43</th>\n",
       "      <td>47</td>\n",
       "      <td>Seven (a.k.a. Se7en) (1995)</td>\n",
       "      <td>Mystery|Thriller</td>\n",
       "    </tr>\n",
       "    <tr>\n",
       "      <th>46</th>\n",
       "      <td>50</td>\n",
       "      <td>Usual Suspects, The (1995)</td>\n",
       "      <td>Crime|Mystery|Thriller</td>\n",
       "    </tr>\n",
       "    <tr>\n",
       "      <th>97</th>\n",
       "      <td>110</td>\n",
       "      <td>Braveheart (1995)</td>\n",
       "      <td>Action|Drama|War</td>\n",
       "    </tr>\n",
       "    <tr>\n",
       "      <th>123</th>\n",
       "      <td>150</td>\n",
       "      <td>Apollo 13 (1995)</td>\n",
       "      <td>Adventure|Drama|IMAX</td>\n",
       "    </tr>\n",
       "    <tr>\n",
       "      <th>224</th>\n",
       "      <td>260</td>\n",
       "      <td>Star Wars: Episode IV - A New Hope (1977)</td>\n",
       "      <td>Action|Adventure|Sci-Fi</td>\n",
       "    </tr>\n",
       "    <tr>\n",
       "      <th>257</th>\n",
       "      <td>296</td>\n",
       "      <td>Pulp Fiction (1994)</td>\n",
       "      <td>Comedy|Crime|Drama|Thriller</td>\n",
       "    </tr>\n",
       "    <tr>\n",
       "      <th>277</th>\n",
       "      <td>318</td>\n",
       "      <td>Shawshank Redemption, The (1994)</td>\n",
       "      <td>Crime|Drama</td>\n",
       "    </tr>\n",
       "    <tr>\n",
       "      <th>314</th>\n",
       "      <td>356</td>\n",
       "      <td>Forrest Gump (1994)</td>\n",
       "      <td>Comedy|Drama|Romance|War</td>\n",
       "    </tr>\n",
       "    <tr>\n",
       "      <th>418</th>\n",
       "      <td>480</td>\n",
       "      <td>Jurassic Park (1993)</td>\n",
       "      <td>Action|Adventure|Sci-Fi|Thriller</td>\n",
       "    </tr>\n",
       "    <tr>\n",
       "      <th>461</th>\n",
       "      <td>527</td>\n",
       "      <td>Schindler's List (1993)</td>\n",
       "      <td>Drama|War</td>\n",
       "    </tr>\n",
       "    <tr>\n",
       "      <th>507</th>\n",
       "      <td>589</td>\n",
       "      <td>Terminator 2: Judgment Day (1991)</td>\n",
       "      <td>Action|Sci-Fi</td>\n",
       "    </tr>\n",
       "    <tr>\n",
       "      <th>510</th>\n",
       "      <td>593</td>\n",
       "      <td>Silence of the Lambs, The (1991)</td>\n",
       "      <td>Crime|Horror|Thriller</td>\n",
       "    </tr>\n",
       "    <tr>\n",
       "      <th>615</th>\n",
       "      <td>780</td>\n",
       "      <td>Independence Day (a.k.a. ID4) (1996)</td>\n",
       "      <td>Action|Adventure|Sci-Fi|Thriller</td>\n",
       "    </tr>\n",
       "    <tr>\n",
       "      <th>898</th>\n",
       "      <td>1196</td>\n",
       "      <td>Star Wars: Episode V - The Empire Strikes Back...</td>\n",
       "      <td>Action|Adventure|Sci-Fi</td>\n",
       "    </tr>\n",
       "    <tr>\n",
       "      <th>1939</th>\n",
       "      <td>2571</td>\n",
       "      <td>Matrix, The (1999)</td>\n",
       "      <td>Action|Sci-Fi|Thriller</td>\n",
       "    </tr>\n",
       "    <tr>\n",
       "      <th>2145</th>\n",
       "      <td>2858</td>\n",
       "      <td>American Beauty (1999)</td>\n",
       "      <td>Drama|Romance</td>\n",
       "    </tr>\n",
       "    <tr>\n",
       "      <th>2226</th>\n",
       "      <td>2959</td>\n",
       "      <td>Fight Club (1999)</td>\n",
       "      <td>Action|Crime|Drama|Thriller</td>\n",
       "    </tr>\n",
       "  </tbody>\n",
       "</table>\n",
       "</div>"
      ],
      "text/plain": [
       "      movieId                                              title  \\\n",
       "0           1                                   Toy Story (1995)   \n",
       "43         47                        Seven (a.k.a. Se7en) (1995)   \n",
       "46         50                         Usual Suspects, The (1995)   \n",
       "97        110                                  Braveheart (1995)   \n",
       "123       150                                   Apollo 13 (1995)   \n",
       "224       260          Star Wars: Episode IV - A New Hope (1977)   \n",
       "257       296                                Pulp Fiction (1994)   \n",
       "277       318                   Shawshank Redemption, The (1994)   \n",
       "314       356                                Forrest Gump (1994)   \n",
       "418       480                               Jurassic Park (1993)   \n",
       "461       527                            Schindler's List (1993)   \n",
       "507       589                  Terminator 2: Judgment Day (1991)   \n",
       "510       593                   Silence of the Lambs, The (1991)   \n",
       "615       780               Independence Day (a.k.a. ID4) (1996)   \n",
       "898      1196  Star Wars: Episode V - The Empire Strikes Back...   \n",
       "1939     2571                                 Matrix, The (1999)   \n",
       "2145     2858                             American Beauty (1999)   \n",
       "2226     2959                                  Fight Club (1999)   \n",
       "\n",
       "                                           genres  \n",
       "0     Adventure|Animation|Children|Comedy|Fantasy  \n",
       "43                               Mystery|Thriller  \n",
       "46                         Crime|Mystery|Thriller  \n",
       "97                               Action|Drama|War  \n",
       "123                          Adventure|Drama|IMAX  \n",
       "224                       Action|Adventure|Sci-Fi  \n",
       "257                   Comedy|Crime|Drama|Thriller  \n",
       "277                                   Crime|Drama  \n",
       "314                      Comedy|Drama|Romance|War  \n",
       "418              Action|Adventure|Sci-Fi|Thriller  \n",
       "461                                     Drama|War  \n",
       "507                                 Action|Sci-Fi  \n",
       "510                         Crime|Horror|Thriller  \n",
       "615              Action|Adventure|Sci-Fi|Thriller  \n",
       "898                       Action|Adventure|Sci-Fi  \n",
       "1939                       Action|Sci-Fi|Thriller  \n",
       "2145                                Drama|Romance  \n",
       "2226                  Action|Crime|Drama|Thriller  "
      ]
     },
     "execution_count": 61,
     "metadata": {},
     "output_type": "execute_result"
    }
   ],
   "source": [
    "movies.loc[movies['movieId'].isin(df_D.columns)]"
   ]
  },
  {
   "cell_type": "markdown",
   "metadata": {
    "id": "2Vf7ZfK-683R"
   },
   "source": [
    "The resulting data matrix is given as follows:"
   ]
  },
  {
   "cell_type": "code",
   "execution_count": 62,
   "metadata": {},
   "outputs": [
    {
     "data": {
      "text/plain": [
       "(344, 18)"
      ]
     },
     "execution_count": 62,
     "metadata": {},
     "output_type": "execute_result"
    }
   ],
   "source": [
    "D = df_D.to_numpy()\n",
    "D.shape"
   ]
  },
  {
   "cell_type": "code",
   "execution_count": 63,
   "metadata": {},
   "outputs": [],
   "source": [
    "rng = np.random.default_rng()\n",
    "\n",
    "def init_random(data_nr_rows, data_nr_cols, matrix_factorization_rank):\n",
    "    X = rng.random((data_nr_cols, matrix_factorization_rank))\n",
    "    Y = rng.random((data_nr_rows, matrix_factorization_rank))\n",
    "    return X, Y\n",
    "\n",
    "def indicator_nonzero(data, nr_data_rows, nr_data_cols):\n",
    "    observed_entries = np.zeros((nr_data_rows, nr_data_cols))\n",
    "    for row in range(nr_data_rows):\n",
    "        for col in range(nr_data_cols):\n",
    "            # I'm sure numpy has more efficient implementations of this, but if it works...\n",
    "            if data[row,col] != 0:\n",
    "                observed_entries[row,col] = 1\n",
    "    return observed_entries\n",
    "\n",
    "def matrix_completion(data, improvement_threshold, early_stop_limit,\n",
    "                      matrix_factorization_rank = 5, t_max = 100,\n",
    "                      penalty_term = 0.00001):\n",
    "    \"\"\"\n",
    "        Reference to pseudocode:\n",
    "        D = data\n",
    "        r = matrix_factorization_rank\n",
    "        T_{max} = t_max\n",
    "        lambda = penalty_term\n",
    "        n = nr_rows\n",
    "        d = nr_cols\n",
    "        t = t\n",
    "        O = observed_entries\n",
    "    \"\"\"\n",
    "    # These are used repeatedly, store immediately\n",
    "    nr_rows = D.shape[0]\n",
    "    nr_cols = D.shape[1]\n",
    "    \n",
    "    # Create important matrices\n",
    "    X, Y = init_random(nr_rows, nr_cols, matrix_factorization_rank)\n",
    "    observed_entries = indicator_nonzero(data, nr_rows, nr_cols)\n",
    "    nr_observed = observed_entries.shape[0]\n",
    "    \n",
    "    # Store data used to monitor training (and early stopping, if c. didn't require a full run)\n",
    "    mseo_list = []\n",
    "    best_mseo_yet = np.inf\n",
    "    no_improvement_count = 0\n",
    "    \n",
    "    # Additional variables that are only useful because of question c.\n",
    "    mseo_early_stopping = []\n",
    "    stop_triggered = False\n",
    "    \n",
    "    t = 1\n",
    "    while t < t_max:\n",
    "        for k in range(nr_cols):\n",
    "            O_Xk = np.diagflat(observed_entries[:,k])\n",
    "            data_col_T = data[:,k].T\n",
    "            \n",
    "            # Calculate the row to update in steps for readability purposes\n",
    "            square_Y_matrix = Y.T@O_Xk@Y\n",
    "            inverse_component = np.linalg.inv(square_Y_matrix\n",
    "                                              + penalty_term*np.eye(matrix_factorization_rank))\n",
    "            X[k,:] = data_col_T@Y@inverse_component\n",
    "            \n",
    "        for i in range(nr_rows):\n",
    "            O_Yi = np.diagflat(observed_entries[i,:])\n",
    "            data_row_i = data[i,:]\n",
    "            \n",
    "            # Calculate the row to update in steps for readability purposes\n",
    "            square_X_matrix = X.T@O_Yi@X\n",
    "            inverse_component = np.linalg.inv(square_X_matrix\n",
    "                                              + penalty_term*np.eye(matrix_factorization_rank))\n",
    "            Y[i,:] = data_row_i@X@inverse_component\n",
    "        \n",
    "        # Calculate the Mean Squared Error on Observed data after this epoch of training\n",
    "        MSEO = 1/nr_observed * np.linalg.norm(data - observed_entries*(Y@X.T))**2\n",
    "        mseo_list.append(MSEO)\n",
    "        t += 1\n",
    "        \n",
    "        # Check if early stopping should be triggered\n",
    "        if not stop_triggered and MSEO < (best_mseo_yet - improvement_threshold):\n",
    "            best_mseo_yet = MSEO\n",
    "            no_improvement_count = 0\n",
    "        elif not stop_triggered:\n",
    "            if no_improvement_count >= early_stop_limit:\n",
    "                stop_triggered = True\n",
    "                print(f'Early stopping would have triggered at epoch {t}. Continuing as '\n",
    "                      f'question c. needs a full run.')\n",
    "                mseo_early_stopping = deepcopy(mseo_list)\n",
    "                # break here if you actually want early stopping\n",
    "            else:\n",
    "                no_improvement_count += 1\n",
    "    return X, Y, mseo_list, mseo_early_stopping"
   ]
  },
  {
   "cell_type": "code",
   "execution_count": 64,
   "metadata": {},
   "outputs": [
    {
     "name": "stdout",
     "output_type": "stream",
     "text": [
      "Early stopping would have triggered at epoch 69. Continuing as question c. needs a full run.\n"
     ]
    }
   ],
   "source": [
    "X_0_00001, Y_0_00001, mseo_list, mseo_early_stopping = matrix_completion(D, improvement_threshold=0.0025, early_stop_limit=3)"
   ]
  },
  {
   "cell_type": "markdown",
   "metadata": {},
   "source": [
    "### For question A: plot of the default settings"
   ]
  },
  {
   "cell_type": "code",
   "execution_count": 65,
   "metadata": {},
   "outputs": [
    {
     "data": {
      "text/plain": [
       "Text(0.5, 1.0, 'Development of Mean Square Error on Observed data')"
      ]
     },
     "execution_count": 65,
     "metadata": {},
     "output_type": "execute_result"
    },
    {
     "data": {
      "image/png": "[encoded data removed]",
      "text/plain": [
       "<Figure size 432x288 with 1 Axes>"
      ]
     },
     "metadata": {
      "needs_background": "light"
     },
     "output_type": "display_data"
    }
   ],
   "source": [
    "x_axis_labels = [i for i in range(1, len(mseo_list)+1)]\n",
    "shorter_x_axis_labels = [i for i in range(1, len(mseo_early_stopping)+1)]\n",
    "plt.plot(x_axis_labels, mseo_list, label=\"Full training\")\n",
    "plt.xlabel('Epoch')\n",
    "plt.ylabel('MSE on Observed data')\n",
    "plt.title('Development of Mean Square Error on Observed data')"
   ]
  },
  {
   "cell_type": "markdown",
   "metadata": {},
   "source": [
    "### For question B:\n",
    "I think so? Maybe? I really don't actually know this for sure at all, but I think so. (use slide 26 of L09 + homework pdf)"
   ]
  },
  {
   "cell_type": "markdown",
   "metadata": {},
   "source": [
    "### For question C:\n",
    "Stopping criterion used here:\n",
    "\n",
    "improvement_threshold = 0.0025\n",
    "\n",
    "Early stop is done when it takes more than 3 epochs to improve the MSEO by the amount set in _improvement_threshold_.\n",
    "\n",
    "The resulting graph, and the difference between early stop MSEO and full run MSEO:"
   ]
  },
  {
   "cell_type": "code",
   "execution_count": 66,
   "metadata": {},
   "outputs": [
    {
     "name": "stdout",
     "output_type": "stream",
     "text": [
      "MSEO with early stop: 1.9525 | MSEO after full run: 1.9471\n",
      "\n"
     ]
    },
    {
     "data": {
      "image/png": "[encoded data removed]",
      "text/plain": [
       "<Figure size 432x288 with 1 Axes>"
      ]
     },
     "metadata": {
      "needs_background": "light"
     },
     "output_type": "display_data"
    }
   ],
   "source": [
    "print(f\"MSEO with early stop: {round(mseo_early_stopping[-1], 4)} | MSEO after full run: {round(mseo_list[-1], 4)}\")\n",
    "print()\n",
    "x_axis_labels = [i for i in range(1, len(mseo_list)+1)]\n",
    "shorter_x_axis_labels = [i for i in range(1, len(mseo_early_stopping)+1)]\n",
    "plt.plot(x_axis_labels, mseo_list, label=\"Full training\")\n",
    "plt.plot(shorter_x_axis_labels, mseo_early_stopping, label=\"With early stopping\")\n",
    "plt.legend()\n",
    "plt.xlabel('Epoch')\n",
    "plt.ylabel('MSE on Observed data')\n",
    "plt.title('Development of Mean Square Error on Observed data')\n",
    "plt.show()"
   ]
  },
  {
   "cell_type": "markdown",
   "metadata": {},
   "source": [
    "### For question D:\n",
    "State for $\\lambda \\in $ {1, 0.5, 0.1, 0.0001} the recommendations for the first three users."
   ]
  },
  {
   "cell_type": "code",
   "execution_count": 67,
   "metadata": {},
   "outputs": [
    {
     "name": "stdout",
     "output_type": "stream",
     "text": [
      "Early stopping would have triggered at epoch 38. Continuing as question c. needs a full run.\n",
      "Early stopping would have triggered at epoch 51. Continuing as question c. needs a full run.\n",
      "Early stopping would have triggered at epoch 82. Continuing as question c. needs a full run.\n"
     ]
    }
   ],
   "source": [
    "X_1, Y_1, mseo_1, mseo_early_1 = matrix_completion(D, improvement_threshold=0.001, early_stop_limit=3,\n",
    "                                                   penalty_term=1)\n",
    "X_0_5, Y_0_5, mseo_0_5, mseo_early_0_5 = matrix_completion(D, improvement_threshold=0.001, early_stop_limit=3,\n",
    "                                                           penalty_term=0.5)\n",
    "X_0_1, Y_0_1, mseo_0_1, mseo_early_0_1 = matrix_completion(D, improvement_threshold=0.001, early_stop_limit=3,\n",
    "                                                           penalty_term=0.1)\n",
    "X_0_0001, Y_0_0001, mseo_0_0001, mseo_early_0_0001 = matrix_completion(D, improvement_threshold=0.001, early_stop_limit=3,\n",
    "                                                                       penalty_term=0.0001)"
   ]
  },
  {
   "cell_type": "code",
   "execution_count": 68,
   "metadata": {},
   "outputs": [],
   "source": [
    "def approximation_helper(data):\n",
    "    result = []\n",
    "    for row in data:\n",
    "        results = []\n",
    "        for index in range(row.shape[0]):\n",
    "            results.append(round(row[index], 2))\n",
    "        result.append(results)\n",
    "    return pd.DataFrame(result)"
   ]
  },
  {
   "cell_type": "code",
   "execution_count": 69,
   "metadata": {},
   "outputs": [],
   "source": [
    "first_three_people = pd.DataFrame(D[:3])\n",
    "approximations_1 = approximation_helper(Y_1[:3]@X_1.T)\n",
    "approximations_0_5 = approximation_helper(Y_0_5[:3]@X_0_5.T)\n",
    "approximations_0_1 = approximation_helper(Y_0_1[:3]@X_0_1.T)\n",
    "approximations_0_0001 = approximation_helper(Y_0_0001[:3]@X_0_0001.T)"
   ]
  },
  {
   "cell_type": "code",
   "execution_count": 70,
   "metadata": {},
   "outputs": [
    {
     "data": {
      "text/html": [
       "<div>\n",
       "<style scoped>\n",
       "    .dataframe tbody tr th:only-of-type {\n",
       "        vertical-align: middle;\n",
       "    }\n",
       "\n",
       "    .dataframe tbody tr th {\n",
       "        vertical-align: top;\n",
       "    }\n",
       "\n",
       "    .dataframe thead th {\n",
       "        text-align: right;\n",
       "    }\n",
       "</style>\n",
       "<table border=\"1\" class=\"dataframe\">\n",
       "  <thead>\n",
       "    <tr style=\"text-align: right;\">\n",
       "      <th></th>\n",
       "      <th>0</th>\n",
       "      <th>1</th>\n",
       "      <th>2</th>\n",
       "      <th>3</th>\n",
       "      <th>4</th>\n",
       "      <th>5</th>\n",
       "      <th>6</th>\n",
       "      <th>7</th>\n",
       "      <th>8</th>\n",
       "      <th>9</th>\n",
       "      <th>10</th>\n",
       "      <th>11</th>\n",
       "      <th>12</th>\n",
       "      <th>13</th>\n",
       "      <th>14</th>\n",
       "      <th>15</th>\n",
       "      <th>16</th>\n",
       "      <th>17</th>\n",
       "    </tr>\n",
       "  </thead>\n",
       "  <tbody>\n",
       "    <tr>\n",
       "      <th>0</th>\n",
       "      <td>4.0</td>\n",
       "      <td>5.0</td>\n",
       "      <td>5.0</td>\n",
       "      <td>4.0</td>\n",
       "      <td>0.0</td>\n",
       "      <td>5.0</td>\n",
       "      <td>3.0</td>\n",
       "      <td>0.0</td>\n",
       "      <td>4.0</td>\n",
       "      <td>4.0</td>\n",
       "      <td>5.0</td>\n",
       "      <td>0.0</td>\n",
       "      <td>4.0</td>\n",
       "      <td>3.0</td>\n",
       "      <td>5.0</td>\n",
       "      <td>5.0</td>\n",
       "      <td>5.0</td>\n",
       "      <td>5.0</td>\n",
       "    </tr>\n",
       "    <tr>\n",
       "      <th>1</th>\n",
       "      <td>0.0</td>\n",
       "      <td>2.0</td>\n",
       "      <td>0.0</td>\n",
       "      <td>0.0</td>\n",
       "      <td>0.0</td>\n",
       "      <td>5.0</td>\n",
       "      <td>1.0</td>\n",
       "      <td>0.0</td>\n",
       "      <td>0.0</td>\n",
       "      <td>0.0</td>\n",
       "      <td>0.0</td>\n",
       "      <td>0.0</td>\n",
       "      <td>5.0</td>\n",
       "      <td>0.0</td>\n",
       "      <td>5.0</td>\n",
       "      <td>1.0</td>\n",
       "      <td>5.0</td>\n",
       "      <td>2.0</td>\n",
       "    </tr>\n",
       "    <tr>\n",
       "      <th>2</th>\n",
       "      <td>4.0</td>\n",
       "      <td>0.0</td>\n",
       "      <td>4.0</td>\n",
       "      <td>4.0</td>\n",
       "      <td>3.0</td>\n",
       "      <td>0.0</td>\n",
       "      <td>5.0</td>\n",
       "      <td>3.0</td>\n",
       "      <td>0.0</td>\n",
       "      <td>0.0</td>\n",
       "      <td>5.0</td>\n",
       "      <td>3.0</td>\n",
       "      <td>0.0</td>\n",
       "      <td>0.0</td>\n",
       "      <td>0.0</td>\n",
       "      <td>0.0</td>\n",
       "      <td>0.0</td>\n",
       "      <td>0.0</td>\n",
       "    </tr>\n",
       "  </tbody>\n",
       "</table>\n",
       "</div>"
      ],
      "text/plain": [
       "    0    1    2    3    4    5    6    7    8    9    10   11   12   13   14  \\\n",
       "0  4.0  5.0  5.0  4.0  0.0  5.0  3.0  0.0  4.0  4.0  5.0  0.0  4.0  3.0  5.0   \n",
       "1  0.0  2.0  0.0  0.0  0.0  5.0  1.0  0.0  0.0  0.0  0.0  0.0  5.0  0.0  5.0   \n",
       "2  4.0  0.0  4.0  4.0  3.0  0.0  5.0  3.0  0.0  0.0  5.0  3.0  0.0  0.0  0.0   \n",
       "\n",
       "    15   16   17  \n",
       "0  5.0  5.0  5.0  \n",
       "1  1.0  5.0  2.0  \n",
       "2  0.0  0.0  0.0  "
      ]
     },
     "execution_count": 70,
     "metadata": {},
     "output_type": "execute_result"
    }
   ],
   "source": [
    "first_three_people"
   ]
  },
  {
   "cell_type": "code",
   "execution_count": 71,
   "metadata": {},
   "outputs": [
    {
     "data": {
      "text/html": [
       "<div>\n",
       "<style scoped>\n",
       "    .dataframe tbody tr th:only-of-type {\n",
       "        vertical-align: middle;\n",
       "    }\n",
       "\n",
       "    .dataframe tbody tr th {\n",
       "        vertical-align: top;\n",
       "    }\n",
       "\n",
       "    .dataframe thead th {\n",
       "        text-align: right;\n",
       "    }\n",
       "</style>\n",
       "<table border=\"1\" class=\"dataframe\">\n",
       "  <thead>\n",
       "    <tr style=\"text-align: right;\">\n",
       "      <th></th>\n",
       "      <th>0</th>\n",
       "      <th>1</th>\n",
       "      <th>2</th>\n",
       "      <th>3</th>\n",
       "      <th>4</th>\n",
       "      <th>5</th>\n",
       "      <th>6</th>\n",
       "      <th>7</th>\n",
       "      <th>8</th>\n",
       "      <th>9</th>\n",
       "      <th>10</th>\n",
       "      <th>11</th>\n",
       "      <th>12</th>\n",
       "      <th>13</th>\n",
       "      <th>14</th>\n",
       "      <th>15</th>\n",
       "      <th>16</th>\n",
       "      <th>17</th>\n",
       "    </tr>\n",
       "  </thead>\n",
       "  <tbody>\n",
       "    <tr>\n",
       "      <th>0</th>\n",
       "      <td>4.02</td>\n",
       "      <td>4.02</td>\n",
       "      <td>4.73</td>\n",
       "      <td>4.26</td>\n",
       "      <td>3.93</td>\n",
       "      <td>4.84</td>\n",
       "      <td>4.68</td>\n",
       "      <td>4.87</td>\n",
       "      <td>4.39</td>\n",
       "      <td>3.81</td>\n",
       "      <td>4.83</td>\n",
       "      <td>4.33</td>\n",
       "      <td>4.47</td>\n",
       "      <td>3.16</td>\n",
       "      <td>4.82</td>\n",
       "      <td>4.62</td>\n",
       "      <td>4.61</td>\n",
       "      <td>4.41</td>\n",
       "    </tr>\n",
       "    <tr>\n",
       "      <th>1</th>\n",
       "      <td>6.52</td>\n",
       "      <td>1.94</td>\n",
       "      <td>4.35</td>\n",
       "      <td>1.52</td>\n",
       "      <td>5.59</td>\n",
       "      <td>4.96</td>\n",
       "      <td>2.04</td>\n",
       "      <td>6.16</td>\n",
       "      <td>5.38</td>\n",
       "      <td>2.32</td>\n",
       "      <td>7.94</td>\n",
       "      <td>1.48</td>\n",
       "      <td>4.57</td>\n",
       "      <td>3.14</td>\n",
       "      <td>4.57</td>\n",
       "      <td>1.26</td>\n",
       "      <td>4.68</td>\n",
       "      <td>1.71</td>\n",
       "    </tr>\n",
       "    <tr>\n",
       "      <th>2</th>\n",
       "      <td>3.87</td>\n",
       "      <td>4.24</td>\n",
       "      <td>4.15</td>\n",
       "      <td>3.49</td>\n",
       "      <td>3.19</td>\n",
       "      <td>3.85</td>\n",
       "      <td>4.45</td>\n",
       "      <td>4.26</td>\n",
       "      <td>3.91</td>\n",
       "      <td>3.34</td>\n",
       "      <td>3.97</td>\n",
       "      <td>3.38</td>\n",
       "      <td>4.41</td>\n",
       "      <td>2.85</td>\n",
       "      <td>3.81</td>\n",
       "      <td>3.81</td>\n",
       "      <td>4.04</td>\n",
       "      <td>4.43</td>\n",
       "    </tr>\n",
       "  </tbody>\n",
       "</table>\n",
       "</div>"
      ],
      "text/plain": [
       "     0     1     2     3     4     5     6     7     8     9     10    11  \\\n",
       "0  4.02  4.02  4.73  4.26  3.93  4.84  4.68  4.87  4.39  3.81  4.83  4.33   \n",
       "1  6.52  1.94  4.35  1.52  5.59  4.96  2.04  6.16  5.38  2.32  7.94  1.48   \n",
       "2  3.87  4.24  4.15  3.49  3.19  3.85  4.45  4.26  3.91  3.34  3.97  3.38   \n",
       "\n",
       "     12    13    14    15    16    17  \n",
       "0  4.47  3.16  4.82  4.62  4.61  4.41  \n",
       "1  4.57  3.14  4.57  1.26  4.68  1.71  \n",
       "2  4.41  2.85  3.81  3.81  4.04  4.43  "
      ]
     },
     "execution_count": 71,
     "metadata": {},
     "output_type": "execute_result"
    }
   ],
   "source": [
    "approximations_1"
   ]
  },
  {
   "cell_type": "code",
   "execution_count": 72,
   "metadata": {},
   "outputs": [
    {
     "data": {
      "text/html": [
       "<div>\n",
       "<style scoped>\n",
       "    .dataframe tbody tr th:only-of-type {\n",
       "        vertical-align: middle;\n",
       "    }\n",
       "\n",
       "    .dataframe tbody tr th {\n",
       "        vertical-align: top;\n",
       "    }\n",
       "\n",
       "    .dataframe thead th {\n",
       "        text-align: right;\n",
       "    }\n",
       "</style>\n",
       "<table border=\"1\" class=\"dataframe\">\n",
       "  <thead>\n",
       "    <tr style=\"text-align: right;\">\n",
       "      <th></th>\n",
       "      <th>0</th>\n",
       "      <th>1</th>\n",
       "      <th>2</th>\n",
       "      <th>3</th>\n",
       "      <th>4</th>\n",
       "      <th>5</th>\n",
       "      <th>6</th>\n",
       "      <th>7</th>\n",
       "      <th>8</th>\n",
       "      <th>9</th>\n",
       "      <th>10</th>\n",
       "      <th>11</th>\n",
       "      <th>12</th>\n",
       "      <th>13</th>\n",
       "      <th>14</th>\n",
       "      <th>15</th>\n",
       "      <th>16</th>\n",
       "      <th>17</th>\n",
       "    </tr>\n",
       "  </thead>\n",
       "  <tbody>\n",
       "    <tr>\n",
       "      <th>0</th>\n",
       "      <td>4.02</td>\n",
       "      <td>4.10</td>\n",
       "      <td>4.72</td>\n",
       "      <td>4.08</td>\n",
       "      <td>3.91</td>\n",
       "      <td>4.94</td>\n",
       "      <td>4.71</td>\n",
       "      <td>4.76</td>\n",
       "      <td>4.35</td>\n",
       "      <td>3.83</td>\n",
       "      <td>4.83</td>\n",
       "      <td>4.29</td>\n",
       "      <td>4.49</td>\n",
       "      <td>3.19</td>\n",
       "      <td>4.90</td>\n",
       "      <td>4.71</td>\n",
       "      <td>4.50</td>\n",
       "      <td>4.42</td>\n",
       "    </tr>\n",
       "    <tr>\n",
       "      <th>1</th>\n",
       "      <td>7.81</td>\n",
       "      <td>2.01</td>\n",
       "      <td>4.37</td>\n",
       "      <td>0.65</td>\n",
       "      <td>6.54</td>\n",
       "      <td>5.00</td>\n",
       "      <td>1.91</td>\n",
       "      <td>6.56</td>\n",
       "      <td>6.21</td>\n",
       "      <td>2.49</td>\n",
       "      <td>8.88</td>\n",
       "      <td>0.34</td>\n",
       "      <td>4.81</td>\n",
       "      <td>3.41</td>\n",
       "      <td>4.60</td>\n",
       "      <td>1.18</td>\n",
       "      <td>4.77</td>\n",
       "      <td>1.54</td>\n",
       "    </tr>\n",
       "    <tr>\n",
       "      <th>2</th>\n",
       "      <td>4.02</td>\n",
       "      <td>4.43</td>\n",
       "      <td>4.21</td>\n",
       "      <td>3.39</td>\n",
       "      <td>3.23</td>\n",
       "      <td>4.03</td>\n",
       "      <td>4.53</td>\n",
       "      <td>4.10</td>\n",
       "      <td>3.59</td>\n",
       "      <td>3.21</td>\n",
       "      <td>3.96</td>\n",
       "      <td>3.44</td>\n",
       "      <td>4.54</td>\n",
       "      <td>2.51</td>\n",
       "      <td>3.98</td>\n",
       "      <td>3.58</td>\n",
       "      <td>3.99</td>\n",
       "      <td>4.45</td>\n",
       "    </tr>\n",
       "  </tbody>\n",
       "</table>\n",
       "</div>"
      ],
      "text/plain": [
       "     0     1     2     3     4     5     6     7     8     9     10    11  \\\n",
       "0  4.02  4.10  4.72  4.08  3.91  4.94  4.71  4.76  4.35  3.83  4.83  4.29   \n",
       "1  7.81  2.01  4.37  0.65  6.54  5.00  1.91  6.56  6.21  2.49  8.88  0.34   \n",
       "2  4.02  4.43  4.21  3.39  3.23  4.03  4.53  4.10  3.59  3.21  3.96  3.44   \n",
       "\n",
       "     12    13    14    15    16    17  \n",
       "0  4.49  3.19  4.90  4.71  4.50  4.42  \n",
       "1  4.81  3.41  4.60  1.18  4.77  1.54  \n",
       "2  4.54  2.51  3.98  3.58  3.99  4.45  "
      ]
     },
     "execution_count": 72,
     "metadata": {},
     "output_type": "execute_result"
    }
   ],
   "source": [
    "approximations_0_5"
   ]
  },
  {
   "cell_type": "code",
   "execution_count": 73,
   "metadata": {},
   "outputs": [
    {
     "data": {
      "text/html": [
       "<div>\n",
       "<style scoped>\n",
       "    .dataframe tbody tr th:only-of-type {\n",
       "        vertical-align: middle;\n",
       "    }\n",
       "\n",
       "    .dataframe tbody tr th {\n",
       "        vertical-align: top;\n",
       "    }\n",
       "\n",
       "    .dataframe thead th {\n",
       "        text-align: right;\n",
       "    }\n",
       "</style>\n",
       "<table border=\"1\" class=\"dataframe\">\n",
       "  <thead>\n",
       "    <tr style=\"text-align: right;\">\n",
       "      <th></th>\n",
       "      <th>0</th>\n",
       "      <th>1</th>\n",
       "      <th>2</th>\n",
       "      <th>3</th>\n",
       "      <th>4</th>\n",
       "      <th>5</th>\n",
       "      <th>6</th>\n",
       "      <th>7</th>\n",
       "      <th>8</th>\n",
       "      <th>9</th>\n",
       "      <th>10</th>\n",
       "      <th>11</th>\n",
       "      <th>12</th>\n",
       "      <th>13</th>\n",
       "      <th>14</th>\n",
       "      <th>15</th>\n",
       "      <th>16</th>\n",
       "      <th>17</th>\n",
       "    </tr>\n",
       "  </thead>\n",
       "  <tbody>\n",
       "    <tr>\n",
       "      <th>0</th>\n",
       "      <td>3.90</td>\n",
       "      <td>4.13</td>\n",
       "      <td>4.70</td>\n",
       "      <td>4.30</td>\n",
       "      <td>3.97</td>\n",
       "      <td>4.90</td>\n",
       "      <td>4.75</td>\n",
       "      <td>4.78</td>\n",
       "      <td>4.36</td>\n",
       "      <td>3.95</td>\n",
       "      <td>4.77</td>\n",
       "      <td>4.26</td>\n",
       "      <td>4.46</td>\n",
       "      <td>2.89</td>\n",
       "      <td>4.89</td>\n",
       "      <td>4.58</td>\n",
       "      <td>4.74</td>\n",
       "      <td>4.52</td>\n",
       "    </tr>\n",
       "    <tr>\n",
       "      <th>1</th>\n",
       "      <td>5.85</td>\n",
       "      <td>2.26</td>\n",
       "      <td>3.78</td>\n",
       "      <td>6.40</td>\n",
       "      <td>10.05</td>\n",
       "      <td>4.90</td>\n",
       "      <td>1.34</td>\n",
       "      <td>6.46</td>\n",
       "      <td>7.61</td>\n",
       "      <td>5.81</td>\n",
       "      <td>10.47</td>\n",
       "      <td>1.82</td>\n",
       "      <td>4.77</td>\n",
       "      <td>-5.39</td>\n",
       "      <td>4.99</td>\n",
       "      <td>0.99</td>\n",
       "      <td>5.07</td>\n",
       "      <td>1.64</td>\n",
       "    </tr>\n",
       "    <tr>\n",
       "      <th>2</th>\n",
       "      <td>4.00</td>\n",
       "      <td>3.91</td>\n",
       "      <td>4.30</td>\n",
       "      <td>3.29</td>\n",
       "      <td>3.26</td>\n",
       "      <td>4.24</td>\n",
       "      <td>4.31</td>\n",
       "      <td>4.19</td>\n",
       "      <td>3.82</td>\n",
       "      <td>3.14</td>\n",
       "      <td>4.36</td>\n",
       "      <td>3.25</td>\n",
       "      <td>4.30</td>\n",
       "      <td>1.79</td>\n",
       "      <td>4.20</td>\n",
       "      <td>3.60</td>\n",
       "      <td>4.39</td>\n",
       "      <td>4.17</td>\n",
       "    </tr>\n",
       "  </tbody>\n",
       "</table>\n",
       "</div>"
      ],
      "text/plain": [
       "     0     1     2     3      4     5     6     7     8     9      10    11  \\\n",
       "0  3.90  4.13  4.70  4.30   3.97  4.90  4.75  4.78  4.36  3.95   4.77  4.26   \n",
       "1  5.85  2.26  3.78  6.40  10.05  4.90  1.34  6.46  7.61  5.81  10.47  1.82   \n",
       "2  4.00  3.91  4.30  3.29   3.26  4.24  4.31  4.19  3.82  3.14   4.36  3.25   \n",
       "\n",
       "     12    13    14    15    16    17  \n",
       "0  4.46  2.89  4.89  4.58  4.74  4.52  \n",
       "1  4.77 -5.39  4.99  0.99  5.07  1.64  \n",
       "2  4.30  1.79  4.20  3.60  4.39  4.17  "
      ]
     },
     "execution_count": 73,
     "metadata": {},
     "output_type": "execute_result"
    }
   ],
   "source": [
    "approximations_0_1"
   ]
  },
  {
   "cell_type": "code",
   "execution_count": 74,
   "metadata": {},
   "outputs": [
    {
     "data": {
      "text/html": [
       "<div>\n",
       "<style scoped>\n",
       "    .dataframe tbody tr th:only-of-type {\n",
       "        vertical-align: middle;\n",
       "    }\n",
       "\n",
       "    .dataframe tbody tr th {\n",
       "        vertical-align: top;\n",
       "    }\n",
       "\n",
       "    .dataframe thead th {\n",
       "        text-align: right;\n",
       "    }\n",
       "</style>\n",
       "<table border=\"1\" class=\"dataframe\">\n",
       "  <thead>\n",
       "    <tr style=\"text-align: right;\">\n",
       "      <th></th>\n",
       "      <th>0</th>\n",
       "      <th>1</th>\n",
       "      <th>2</th>\n",
       "      <th>3</th>\n",
       "      <th>4</th>\n",
       "      <th>5</th>\n",
       "      <th>6</th>\n",
       "      <th>7</th>\n",
       "      <th>8</th>\n",
       "      <th>9</th>\n",
       "      <th>10</th>\n",
       "      <th>11</th>\n",
       "      <th>12</th>\n",
       "      <th>13</th>\n",
       "      <th>14</th>\n",
       "      <th>15</th>\n",
       "      <th>16</th>\n",
       "      <th>17</th>\n",
       "    </tr>\n",
       "  </thead>\n",
       "  <tbody>\n",
       "    <tr>\n",
       "      <th>0</th>\n",
       "      <td>4.05</td>\n",
       "      <td>4.39</td>\n",
       "      <td>4.74</td>\n",
       "      <td>4.14</td>\n",
       "      <td>3.81</td>\n",
       "      <td>4.93</td>\n",
       "      <td>4.86</td>\n",
       "      <td>4.83</td>\n",
       "      <td>4.26</td>\n",
       "      <td>3.84</td>\n",
       "      <td>4.72</td>\n",
       "      <td>4.35</td>\n",
       "      <td>4.46</td>\n",
       "      <td>3.04</td>\n",
       "      <td>4.91</td>\n",
       "      <td>4.54</td>\n",
       "      <td>4.47</td>\n",
       "      <td>4.58</td>\n",
       "    </tr>\n",
       "    <tr>\n",
       "      <th>1</th>\n",
       "      <td>19.20</td>\n",
       "      <td>1.79</td>\n",
       "      <td>0.95</td>\n",
       "      <td>1.95</td>\n",
       "      <td>22.25</td>\n",
       "      <td>5.02</td>\n",
       "      <td>1.28</td>\n",
       "      <td>5.40</td>\n",
       "      <td>-2.22</td>\n",
       "      <td>-1.00</td>\n",
       "      <td>-2.79</td>\n",
       "      <td>2.81</td>\n",
       "      <td>5.15</td>\n",
       "      <td>-5.16</td>\n",
       "      <td>4.90</td>\n",
       "      <td>0.96</td>\n",
       "      <td>4.96</td>\n",
       "      <td>1.92</td>\n",
       "    </tr>\n",
       "    <tr>\n",
       "      <th>2</th>\n",
       "      <td>3.71</td>\n",
       "      <td>4.21</td>\n",
       "      <td>4.09</td>\n",
       "      <td>3.59</td>\n",
       "      <td>2.96</td>\n",
       "      <td>3.55</td>\n",
       "      <td>4.11</td>\n",
       "      <td>4.34</td>\n",
       "      <td>3.76</td>\n",
       "      <td>2.98</td>\n",
       "      <td>4.86</td>\n",
       "      <td>3.26</td>\n",
       "      <td>4.05</td>\n",
       "      <td>1.39</td>\n",
       "      <td>3.59</td>\n",
       "      <td>3.08</td>\n",
       "      <td>3.87</td>\n",
       "      <td>3.90</td>\n",
       "    </tr>\n",
       "  </tbody>\n",
       "</table>\n",
       "</div>"
      ],
      "text/plain": [
       "      0     1     2     3      4     5     6     7     8     9     10    11  \\\n",
       "0   4.05  4.39  4.74  4.14   3.81  4.93  4.86  4.83  4.26  3.84  4.72  4.35   \n",
       "1  19.20  1.79  0.95  1.95  22.25  5.02  1.28  5.40 -2.22 -1.00 -2.79  2.81   \n",
       "2   3.71  4.21  4.09  3.59   2.96  3.55  4.11  4.34  3.76  2.98  4.86  3.26   \n",
       "\n",
       "     12    13    14    15    16    17  \n",
       "0  4.46  3.04  4.91  4.54  4.47  4.58  \n",
       "1  5.15 -5.16  4.90  0.96  4.96  1.92  \n",
       "2  4.05  1.39  3.59  3.08  3.87  3.90  "
      ]
     },
     "execution_count": 74,
     "metadata": {},
     "output_type": "execute_result"
    }
   ],
   "source": [
    "approximations_0_0001"
   ]
  },
  {
   "cell_type": "markdown",
   "metadata": {},
   "source": [
    "$\\lambda = 0.0001$ produces some clearly unrealistic numbers, so this is not a great option. \n",
    "\n",
    "$\\lambda = 0.1$ suffers from the same issue, but is less extreme at least. Also not a great idea though.\n",
    "\n",
    "Depending on the run, either $\\lambda = 0.5$ and $\\lambda = 0.1$ appears to be closest to the true values where known while not massively exceeding the possible value ranges. If the code is run again, it can change which of these appears to be better. It is at least clear that one of these two would be the best choice. Let us look at the MSEOs:"
   ]
  },
  {
   "cell_type": "code",
   "execution_count": 75,
   "metadata": {},
   "outputs": [
    {
     "data": {
      "text/plain": [
       "Text(0.5, 1.0, 'Lambda = 0.5')"
      ]
     },
     "execution_count": 75,
     "metadata": {},
     "output_type": "execute_result"
    },
    {
     "data": {
      "image/png": "[encoded data removed]",
      "text/plain": [
       "<Figure size 1080x360 with 2 Axes>"
      ]
     },
     "metadata": {
      "needs_background": "light"
     },
     "output_type": "display_data"
    }
   ],
   "source": [
    "fig, (ax0, ax1) = plt.subplots(1, 2, figsize = (15,5))\n",
    "\n",
    "x_axis_labels = [i for i in range(1, len(mseo_1)+1)]\n",
    "shorter_x_axis_labels = [i for i in range(1, len(mseo_early_1)+1)]\n",
    "ax0.plot(x_axis_labels, mseo_1, label=\"Full training\")\n",
    "ax0.plot(shorter_x_axis_labels, mseo_early_1, label=\"With early stopping\")\n",
    "ax0.legend()\n",
    "ax0.set_xlabel('Epoch')\n",
    "ax0.set_ylabel('MSE on Observed data')\n",
    "ax0.set_title('Lambda = 1')\n",
    "\n",
    "x_axis_labels = [i for i in range(1, len(mseo_0_5)+1)]\n",
    "shorter_x_axis_labels = [i for i in range(1, len(mseo_early_0_5)+1)]\n",
    "ax1.plot(x_axis_labels, mseo_0_5, label=\"Full training\")\n",
    "ax1.plot(shorter_x_axis_labels, mseo_early_0_5, label=\"With early stopping\")\n",
    "ax1.legend()\n",
    "ax1.set_xlabel('Epoch')\n",
    "ax1.set_ylabel('MSE on Observed data')\n",
    "ax1.set_title('Lambda = 0.5')"
   ]
  },
  {
   "cell_type": "code",
   "execution_count": 78,
   "metadata": {},
   "outputs": [
    {
     "data": {
      "text/plain": [
       "Text(0.5, 1.0, 'Lambda = 0.0001 (Early stopping was not triggered)')"
      ]
     },
     "execution_count": 78,
     "metadata": {},
     "output_type": "execute_result"
    },
    {
     "data": {
      "image/png": "[encoded data removed]",
      "text/plain": [
       "<Figure size 1080x360 with 2 Axes>"
      ]
     },
     "metadata": {
      "needs_background": "light"
     },
     "output_type": "display_data"
    }
   ],
   "source": [
    "fig, (ax0, ax1) = plt.subplots(1, 2, figsize = (15,5))\n",
    "\n",
    "x_axis_labels = [i for i in range(1, len(mseo_0_1)+1)]\n",
    "shorter_x_axis_labels = [i for i in range(1, len(mseo_early_0_1)+1)]\n",
    "ax0.plot(x_axis_labels, mseo_0_1, label=\"Full training\")\n",
    "ax0.plot(shorter_x_axis_labels, mseo_early_0_1, label=\"With early stopping\")\n",
    "ax0.legend()\n",
    "ax0.set_xlabel('Epoch')\n",
    "ax0.set_ylabel('MSE on Observed data')\n",
    "ax0.set_title('Lambda = 0.1')\n",
    "\n",
    "x_axis_labels = [i for i in range(1, len(mseo_0_0001)+1)]\n",
    "shorter_x_axis_labels = [i for i in range(1, len(mseo_early_0_0001)+1)]\n",
    "ax1.plot(x_axis_labels, mseo_0_0001, label=\"Full training\")\n",
    "ax1.plot(shorter_x_axis_labels, mseo_early_0_0001, label=\"With early stopping\")\n",
    "ax1.legend()\n",
    "ax1.set_xlabel('Epoch')\n",
    "ax1.set_ylabel('MSE on Observed data')\n",
    "ax1.set_title('Lambda = 0.0001 (Early stopping was not triggered)')"
   ]
  },
  {
   "cell_type": "markdown",
   "metadata": {},
   "source": [
    "The obtained final MSEO values also appear to be quite close. It appears that the difference here is small, and which option one might prefer effectively depends on the random initialisation of both settings."
   ]
  }
 ],
 "metadata": {
  "colab": {
   "collapsed_sections": [],
   "name": "HW3.ipynb",
   "provenance": []
  },
  "kernelspec": {
   "display_name": "Python 3",
   "language": "python",
   "name": "python3"
  },
  "language_info": {
   "codemirror_mode": {
    "name": "ipython",
    "version": 3
   },
   "file_extension": ".py",
   "mimetype": "text/x-python",
   "name": "python",
   "nbconvert_exporter": "python",
   "pygments_lexer": "ipython3",
   "version": "3.8.10"
  }
 },
 "nbformat": 4,
 "nbformat_minor": 1
}
