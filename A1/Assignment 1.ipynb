{
 "cells": [
  {
   "cell_type": "code",
   "execution_count": 1,
   "id": "12d0a321",
   "metadata": {},
   "outputs": [],
   "source": [
    "import numpy as np\n",
    "import pandas as pd\n",
    "import seaborn as sns\n",
    "from collections import defaultdict"
   ]
  },
  {
   "cell_type": "markdown",
   "id": "ad2940ac",
   "metadata": {},
   "source": [
    "# Question 1 - D"
   ]
  },
  {
   "cell_type": "code",
   "execution_count": 2,
   "id": "1a8e524e",
   "metadata": {},
   "outputs": [],
   "source": [
    "# Q1\n",
    "## average feature value of column 1:\n",
    "print((0.27 + 0.31 + 0.15)/3)\n",
    "## this != 0.063, thus answer A is incorrect\n",
    "\n",
    "A = np.array( [[.27, -0.4, 0.32], [0.31, 0.37, -0.61], [0.15, 0.05, -0.39]] )\n",
    "Atransposed = A.T\n",
    "print(\"A = \")\n",
    "print(A)\n",
    "print(\"Atransposed = \")\n",
    "\n",
    "# Normally a COLUMN is orthogonal is AT * A = diag(||A1||^2, ... ||An||^2), but since we have to\n",
    "# compute the rows we instead check if A * AT = diag(||A1||^2, ... ||An||^2)\n",
    "print(Atransposed)\n",
    "print(\"A * Atransposed = \")\n",
    "I = A@Atransposed\n",
    "print(I)\n",
    "\n",
    "# same issue, we compute (AT * A)T = diag(1,...,1) because of rows instead of column\n",
    "print(\"Atransposed * A =\")\n",
    "J = Atransposed@A\n",
    "print(J)\n",
    "\n",
    "## in both cases the equation does not hold, so answers B and C are not correct\n",
    "# this means that answer D holds"
   ]
  },
  {
   "cell_type": "markdown",
   "id": "fa9559ab",
   "metadata": {},
   "source": [
    "So the average feature values are not equal to that vector in the pdf, and the rows are not orthogonal (so definitely not orthonormal).\n",
    "\n",
    "**None of the above (D)** it is!"
   ]
  },
  {
   "cell_type": "markdown",
   "id": "432cba13",
   "metadata": {},
   "source": [
    "# Question 2 - B"
   ]
  },
  {
   "cell_type": "code",
   "execution_count": 5,
   "id": "5ac93dca",
   "metadata": {},
   "outputs": [],
   "source": [
    "# d/dx_1 = 4*(x_1)^3 + 4\n",
    "# d/dx_2 = 2 + 2*(x_2)^3\n",
    "def partial_derivatives(x):\n",
    "    d_dx1 = 4*(x[0])**3 + 4\n",
    "    d_dx2 = 2 + 2*(x[1])**3\n",
    "    return (d_dx1, d_dx2)\n",
    "\n",
    "def gradient_descent(point, eta, eps):\n",
    "    steps_taken = 0\n",
    "    while True:\n",
    "        steps_taken += 1\n",
    "        gradients = partial_derivatives(point)\n",
    "        new_x = point[0] - eta * gradients[0]\n",
    "        new_y = point[1] - eta * gradients[1]\n",
    "        if (new_x >= point[0] - eps and new_x <= point[0] + eps) and \\\n",
    "           (new_y >= point[1] - eps and new_y <= point[1] + eps):\n",
    "            print(f'Converged in {steps_taken} steps.')\n",
    "            return point\n",
    "        else:\n",
    "            point = (new_x, new_y)"
   ]
  },
  {
   "cell_type": "code",
   "execution_count": 56,
   "id": "7a53c856",
   "metadata": {},
   "outputs": [
    {
     "name": "stdout",
     "output_type": "stream",
     "text": [
      "Converged in 19 steps.\n"
     ]
    },
    {
     "data": {
      "text/plain": [
       "(-0.9999999999969128, -0.9999601816503486)"
      ]
     },
     "execution_count": 56,
     "metadata": {},
     "output_type": "execute_result"
    }
   ],
   "source": [
    "# A: does not converge.\n",
    "# B: yes with eps=0.00005, 49 steps otherwise\n",
    "# C: one of them doesn't converge, so definitely not\n",
    "# D: considering B converges with this setting, False.\n",
    "gradient_descent((2,1), 0.1, 0.00005)"
   ]
  },
  {
   "cell_type": "markdown",
   "id": "db0c8937",
   "metadata": {},
   "source": [
    "Well, none of them are really 100% correct but answer **B** is closest"
   ]
  },
  {
   "cell_type": "markdown",
   "id": "d5aeac5f",
   "metadata": {},
   "source": [
    "# Question 3 - C"
   ]
  },
  {
   "cell_type": "code",
   "execution_count": 7,
   "id": "b9aa43ec",
   "metadata": {},
   "outputs": [],
   "source": [
    "diabetes_train = pd.read_csv('data/diabetes_train_data.csv')\n",
    "diabetes_val = pd.read_csv('data/diabetes_validate_data.csv')"
   ]
  },
  {
   "cell_type": "code",
   "execution_count": 8,
   "id": "dd451950",
   "metadata": {},
   "outputs": [
    {
     "data": {
      "text/html": [
       "<div>\n",
       "<style scoped>\n",
       "    .dataframe tbody tr th:only-of-type {\n",
       "        vertical-align: middle;\n",
       "    }\n",
       "\n",
       "    .dataframe tbody tr th {\n",
       "        vertical-align: top;\n",
       "    }\n",
       "\n",
       "    .dataframe thead th {\n",
       "        text-align: right;\n",
       "    }\n",
       "</style>\n",
       "<table border=\"1\" class=\"dataframe\">\n",
       "  <thead>\n",
       "    <tr style=\"text-align: right;\">\n",
       "      <th></th>\n",
       "      <th>Glucose</th>\n",
       "      <th>BloodPressure</th>\n",
       "      <th>Outcome</th>\n",
       "    </tr>\n",
       "  </thead>\n",
       "  <tbody>\n",
       "    <tr>\n",
       "      <th>0</th>\n",
       "      <td>115</td>\n",
       "      <td>98</td>\n",
       "      <td>0</td>\n",
       "    </tr>\n",
       "    <tr>\n",
       "      <th>1</th>\n",
       "      <td>142</td>\n",
       "      <td>60</td>\n",
       "      <td>0</td>\n",
       "    </tr>\n",
       "    <tr>\n",
       "      <th>2</th>\n",
       "      <td>116</td>\n",
       "      <td>72</td>\n",
       "      <td>0</td>\n",
       "    </tr>\n",
       "    <tr>\n",
       "      <th>3</th>\n",
       "      <td>126</td>\n",
       "      <td>60</td>\n",
       "      <td>1</td>\n",
       "    </tr>\n",
       "    <tr>\n",
       "      <th>4</th>\n",
       "      <td>78</td>\n",
       "      <td>70</td>\n",
       "      <td>0</td>\n",
       "    </tr>\n",
       "  </tbody>\n",
       "</table>\n",
       "</div>"
      ],
      "text/plain": [
       "   Glucose  BloodPressure  Outcome\n",
       "0      115             98        0\n",
       "1      142             60        0\n",
       "2      116             72        0\n",
       "3      126             60        1\n",
       "4       78             70        0"
      ]
     },
     "execution_count": 8,
     "metadata": {},
     "output_type": "execute_result"
    }
   ],
   "source": [
    "diabetes_train.head()"
   ]
  },
  {
   "cell_type": "code",
   "execution_count": 9,
   "id": "b8ea7a39",
   "metadata": {},
   "outputs": [
    {
     "data": {
      "text/html": [
       "<div>\n",
       "<style scoped>\n",
       "    .dataframe tbody tr th:only-of-type {\n",
       "        vertical-align: middle;\n",
       "    }\n",
       "\n",
       "    .dataframe tbody tr th {\n",
       "        vertical-align: top;\n",
       "    }\n",
       "\n",
       "    .dataframe thead th {\n",
       "        text-align: right;\n",
       "    }\n",
       "</style>\n",
       "<table border=\"1\" class=\"dataframe\">\n",
       "  <thead>\n",
       "    <tr style=\"text-align: right;\">\n",
       "      <th></th>\n",
       "      <th>Glucose</th>\n",
       "      <th>BloodPressure</th>\n",
       "      <th>Outcome</th>\n",
       "    </tr>\n",
       "  </thead>\n",
       "  <tbody>\n",
       "    <tr>\n",
       "      <th>count</th>\n",
       "      <td>514.000000</td>\n",
       "      <td>514.000000</td>\n",
       "      <td>514.000000</td>\n",
       "    </tr>\n",
       "    <tr>\n",
       "      <th>mean</th>\n",
       "      <td>121.295720</td>\n",
       "      <td>69.984436</td>\n",
       "      <td>0.354086</td>\n",
       "    </tr>\n",
       "    <tr>\n",
       "      <th>std</th>\n",
       "      <td>32.358526</td>\n",
       "      <td>18.008763</td>\n",
       "      <td>0.478701</td>\n",
       "    </tr>\n",
       "    <tr>\n",
       "      <th>min</th>\n",
       "      <td>0.000000</td>\n",
       "      <td>0.000000</td>\n",
       "      <td>0.000000</td>\n",
       "    </tr>\n",
       "    <tr>\n",
       "      <th>25%</th>\n",
       "      <td>99.000000</td>\n",
       "      <td>64.000000</td>\n",
       "      <td>0.000000</td>\n",
       "    </tr>\n",
       "    <tr>\n",
       "      <th>50%</th>\n",
       "      <td>117.000000</td>\n",
       "      <td>72.000000</td>\n",
       "      <td>0.000000</td>\n",
       "    </tr>\n",
       "    <tr>\n",
       "      <th>75%</th>\n",
       "      <td>140.000000</td>\n",
       "      <td>80.000000</td>\n",
       "      <td>1.000000</td>\n",
       "    </tr>\n",
       "    <tr>\n",
       "      <th>max</th>\n",
       "      <td>199.000000</td>\n",
       "      <td>122.000000</td>\n",
       "      <td>1.000000</td>\n",
       "    </tr>\n",
       "  </tbody>\n",
       "</table>\n",
       "</div>"
      ],
      "text/plain": [
       "          Glucose  BloodPressure     Outcome\n",
       "count  514.000000     514.000000  514.000000\n",
       "mean   121.295720      69.984436    0.354086\n",
       "std     32.358526      18.008763    0.478701\n",
       "min      0.000000       0.000000    0.000000\n",
       "25%     99.000000      64.000000    0.000000\n",
       "50%    117.000000      72.000000    0.000000\n",
       "75%    140.000000      80.000000    1.000000\n",
       "max    199.000000     122.000000    1.000000"
      ]
     },
     "execution_count": 9,
     "metadata": {},
     "output_type": "execute_result"
    }
   ],
   "source": [
    "diabetes_train.describe()"
   ]
  },
  {
   "cell_type": "code",
   "execution_count": 10,
   "id": "2bb42f06",
   "metadata": {},
   "outputs": [
    {
     "data": {
      "text/plain": [
       "<AxesSubplot:xlabel='Glucose', ylabel='BloodPressure'>"
      ]
     },
     "execution_count": 10,
     "metadata": {},
     "output_type": "execute_result"
    },
    {
     "data": {
      "image/png": "[encoded data removed]",
      "text/plain": [
       "<Figure size 432x288 with 1 Axes>"
      ]
     },
     "metadata": {
      "needs_background": "light"
     },
     "output_type": "display_data"
    }
   ],
   "source": [
    "sns.scatterplot(x=diabetes_train.Glucose, y=diabetes_train.BloodPressure, hue=diabetes_train.Outcome)"
   ]
  },
  {
   "cell_type": "code",
   "execution_count": 11,
   "id": "93d25418",
   "metadata": {},
   "outputs": [],
   "source": [
    "diabetes_X = diabetes_train.drop('Outcome', axis=1).values\n",
    "diabetes_y = diabetes_train['Outcome']"
   ]
  },
  {
   "cell_type": "code",
   "execution_count": 13,
   "id": "4c0dd048",
   "metadata": {},
   "outputs": [],
   "source": [
    "def knn(new_data, k):\n",
    "    predicted_labels = []\n",
    "    \n",
    "    for point in new_data:\n",
    "        nearest_points = []\n",
    "        index = 0\n",
    "        for i in range(diabetes_X.shape[0]):\n",
    "            # Euclidean distance\n",
    "            dist_glucose = (diabetes_X[i,0]-point[0])**2\n",
    "            dist_bloodpressure = (diabetes_X[i,1]-point[1])**2\n",
    "            distance = np.sqrt(dist_glucose + dist_bloodpressure)\n",
    "\n",
    "            if len(nearest_points) != k:\n",
    "                # Still populating the list of k nearest neighbours\n",
    "                nearest_points.append((distance, diabetes_y[i]))\n",
    "                nearest_points.sort(key=lambda neighbour: neighbour[0])\n",
    "            elif nearest_points[-1][0] > distance:\n",
    "                # Current observed data point is closer than furthest away\n",
    "                #   previously known one. Replace and re-sort.\n",
    "                nearest_points[-1] = (distance, diabetes_y[i])\n",
    "                nearest_points.sort(key=lambda neighbour: neighbour[0])\n",
    "            # Else: this point was not close enough to be relevant for knn\n",
    "\n",
    "        # As the target label is binary, we can shortcut the label decision process\n",
    "        # Note: 0.5 is rounded to 0 by Python\n",
    "        nearest_labels = np.array(nearest_points)[:,1]\n",
    "        most_common_label = round(np.mean(nearest_labels))\n",
    "        predicted_labels.append(most_common_label)\n",
    "        \n",
    "    return predicted_labels"
   ]
  },
  {
   "cell_type": "code",
   "execution_count": 64,
   "id": "ccefdfda",
   "metadata": {},
   "outputs": [],
   "source": [
    "def evaluation(predictions, truth):\n",
    "    if len(predictions) != len(truth):\n",
    "        raise ValueError(f\"Lengths of predictions ({len(predictions)}) & true values ({len(truth)}) do not match\")\n",
    "    \n",
    "    correct = 0\n",
    "    incorrect = 0\n",
    "    \n",
    "    for i in range(len(predictions)):\n",
    "        if predictions[i] == truth[i]:\n",
    "            correct += 1\n",
    "        else:\n",
    "            incorrect += 1\n",
    "    \n",
    "    if incorrect == 0:\n",
    "        return 1\n",
    "    else:\n",
    "        return correct/(correct+incorrect)"
   ]
  },
  {
   "cell_type": "code",
   "execution_count": 65,
   "id": "ce6888e2",
   "metadata": {},
   "outputs": [],
   "source": [
    "validation_data = diabetes_val.drop('Outcome', axis=1).values\n",
    "validation_labels = diabetes_val['Outcome']"
   ]
  },
  {
   "cell_type": "code",
   "execution_count": 66,
   "id": "e8634bf8",
   "metadata": {},
   "outputs": [],
   "source": [
    "# For the answers\n",
    "accuracy_k1 = evaluation(knn(validation_data, 1), validation_labels)\n",
    "accuracy_k2 = evaluation(knn(validation_data, 2), validation_labels)\n",
    "accuracy_k3 = evaluation(knn(validation_data, 3), validation_labels)\n",
    "accuracy_k4 = evaluation(knn(validation_data, 4), validation_labels)"
   ]
  },
  {
   "cell_type": "code",
   "execution_count": 58,
   "id": "173a1771",
   "metadata": {},
   "outputs": [],
   "source": [
    "def recall(actual, predicted):\n",
    "  correct = 0\n",
    "  actual_no = 0\n",
    "  for i in range(len(actual)):\n",
    "    if actual[i] == 0:\n",
    "      actual_no += 1\n",
    "      if actual[i] == predicted[i]:\n",
    "        correct += 1\n",
    "  if correct == actual_no:\n",
    "    return actual_no,correct\n",
    "  else:\n",
    "    return False"
   ]
  },
  {
   "cell_type": "code",
   "execution_count": 68,
   "id": "b0b87448",
   "metadata": {},
   "outputs": [],
   "source": [
    "predictions = knn(validation_data, 3)\n",
    "question_a_true = recall(validation_labels, predictions)"
   ]
  },
  {
   "cell_type": "code",
   "execution_count": 69,
   "id": "433da1cd",
   "metadata": {},
   "outputs": [
    {
     "name": "stdout",
     "output_type": "stream",
     "text": [
      "Question A: recall of 1 on k=3? | bool(recall == 1) = False \n",
      "Question B: k=3 higher val than k=2: False (0.693 VS 0.713)\n",
      "Question C: k=4 higher val than k=2: True (0.736 VS 0.713)\n",
      "Question D: 70.07% accuracy on k=1? | accuracy = 67.72%\n"
     ]
    }
   ],
   "source": [
    "print(f'Question A: recall of 1 on k=3? | bool(recall == 1) = {question_a_true} ')\n",
    "print(f'Question B: k=3 higher val than k=2: {accuracy_k3 > accuracy_k2} ({round(accuracy_k3, 3)} VS {round(accuracy_k2, 3)})')\n",
    "print(f'Question C: k=4 higher val than k=2: {accuracy_k4 > accuracy_k2} ({round(accuracy_k4, 3)} VS {round(accuracy_k2, 3)})')\n",
    "print(f'Question D: 70.07% accuracy on k=1? | accuracy = {round(accuracy_k1*100, 2)}%')"
   ]
  },
  {
   "cell_type": "markdown",
   "id": "4aae349b",
   "metadata": {},
   "source": [
    "We have exactly one correct answer, so **C is true**"
   ]
  },
  {
   "cell_type": "markdown",
   "id": "d0184a5a",
   "metadata": {},
   "source": [
    "# Question 4 - D\n",
    "\n",
    "Observation question, also confusion.\n",
    "\n",
    "Correct class 0's: 4/4\n",
    "\n",
    "Missed class 1's: 1/4\n",
    "\n",
    "- A is untrue, you can linearly separate this data.\n",
    "- B is untrue, considering that the data is linearly separable we should not get a classifier that fails at that.\n",
    "- C is untrue, 4/4 = 100% of zeroes is correctly classified\n",
    "- D is true, 1/4 = 25% of ones is indeed misclassified\n",
    "\n",
    "**D is true**"
   ]
  },
  {
   "cell_type": "markdown",
   "id": "91fd730d",
   "metadata": {},
   "source": [
    "# Question 5 - C"
   ]
  },
  {
   "cell_type": "code",
   "execution_count": 19,
   "id": "d9cb2181",
   "metadata": {},
   "outputs": [],
   "source": [
    "heart_train = pd.read_csv('data/heart_train_data.csv')\n",
    "heart_val = pd.read_csv('data/heart_validate_data.csv')"
   ]
  },
  {
   "cell_type": "code",
   "execution_count": 20,
   "id": "7ac13b82",
   "metadata": {},
   "outputs": [
    {
     "data": {
      "text/html": [
       "<div>\n",
       "<style scoped>\n",
       "    .dataframe tbody tr th:only-of-type {\n",
       "        vertical-align: middle;\n",
       "    }\n",
       "\n",
       "    .dataframe tbody tr th {\n",
       "        vertical-align: top;\n",
       "    }\n",
       "\n",
       "    .dataframe thead th {\n",
       "        text-align: right;\n",
       "    }\n",
       "</style>\n",
       "<table border=\"1\" class=\"dataframe\">\n",
       "  <thead>\n",
       "    <tr style=\"text-align: right;\">\n",
       "      <th></th>\n",
       "      <th>cp</th>\n",
       "      <th>exang</th>\n",
       "      <th>thal</th>\n",
       "      <th>target</th>\n",
       "    </tr>\n",
       "  </thead>\n",
       "  <tbody>\n",
       "    <tr>\n",
       "      <th>0</th>\n",
       "      <td>0</td>\n",
       "      <td>1</td>\n",
       "      <td>2</td>\n",
       "      <td>0</td>\n",
       "    </tr>\n",
       "    <tr>\n",
       "      <th>1</th>\n",
       "      <td>3</td>\n",
       "      <td>0</td>\n",
       "      <td>2</td>\n",
       "      <td>1</td>\n",
       "    </tr>\n",
       "    <tr>\n",
       "      <th>2</th>\n",
       "      <td>3</td>\n",
       "      <td>0</td>\n",
       "      <td>2</td>\n",
       "      <td>1</td>\n",
       "    </tr>\n",
       "    <tr>\n",
       "      <th>3</th>\n",
       "      <td>2</td>\n",
       "      <td>0</td>\n",
       "      <td>2</td>\n",
       "      <td>1</td>\n",
       "    </tr>\n",
       "    <tr>\n",
       "      <th>4</th>\n",
       "      <td>0</td>\n",
       "      <td>0</td>\n",
       "      <td>3</td>\n",
       "      <td>0</td>\n",
       "    </tr>\n",
       "  </tbody>\n",
       "</table>\n",
       "</div>"
      ],
      "text/plain": [
       "   cp  exang  thal  target\n",
       "0   0      1     2       0\n",
       "1   3      0     2       1\n",
       "2   3      0     2       1\n",
       "3   2      0     2       1\n",
       "4   0      0     3       0"
      ]
     },
     "execution_count": 20,
     "metadata": {},
     "output_type": "execute_result"
    }
   ],
   "source": [
    "heart_train.head()"
   ]
  },
  {
   "cell_type": "code",
   "execution_count": 21,
   "id": "b234685f",
   "metadata": {},
   "outputs": [
    {
     "data": {
      "text/html": [
       "<div>\n",
       "<style scoped>\n",
       "    .dataframe tbody tr th:only-of-type {\n",
       "        vertical-align: middle;\n",
       "    }\n",
       "\n",
       "    .dataframe tbody tr th {\n",
       "        vertical-align: top;\n",
       "    }\n",
       "\n",
       "    .dataframe thead th {\n",
       "        text-align: right;\n",
       "    }\n",
       "</style>\n",
       "<table border=\"1\" class=\"dataframe\">\n",
       "  <thead>\n",
       "    <tr style=\"text-align: right;\">\n",
       "      <th></th>\n",
       "      <th>cp</th>\n",
       "      <th>exang</th>\n",
       "      <th>thal</th>\n",
       "      <th>target</th>\n",
       "    </tr>\n",
       "  </thead>\n",
       "  <tbody>\n",
       "    <tr>\n",
       "      <th>count</th>\n",
       "      <td>210.000000</td>\n",
       "      <td>210.000000</td>\n",
       "      <td>210.000000</td>\n",
       "      <td>210.000000</td>\n",
       "    </tr>\n",
       "    <tr>\n",
       "      <th>mean</th>\n",
       "      <td>0.947619</td>\n",
       "      <td>0.323810</td>\n",
       "      <td>2.314286</td>\n",
       "      <td>0.557143</td>\n",
       "    </tr>\n",
       "    <tr>\n",
       "      <th>std</th>\n",
       "      <td>1.031615</td>\n",
       "      <td>0.469046</td>\n",
       "      <td>0.558780</td>\n",
       "      <td>0.497911</td>\n",
       "    </tr>\n",
       "    <tr>\n",
       "      <th>min</th>\n",
       "      <td>0.000000</td>\n",
       "      <td>0.000000</td>\n",
       "      <td>1.000000</td>\n",
       "      <td>0.000000</td>\n",
       "    </tr>\n",
       "    <tr>\n",
       "      <th>25%</th>\n",
       "      <td>0.000000</td>\n",
       "      <td>0.000000</td>\n",
       "      <td>2.000000</td>\n",
       "      <td>0.000000</td>\n",
       "    </tr>\n",
       "    <tr>\n",
       "      <th>50%</th>\n",
       "      <td>1.000000</td>\n",
       "      <td>0.000000</td>\n",
       "      <td>2.000000</td>\n",
       "      <td>1.000000</td>\n",
       "    </tr>\n",
       "    <tr>\n",
       "      <th>75%</th>\n",
       "      <td>2.000000</td>\n",
       "      <td>1.000000</td>\n",
       "      <td>3.000000</td>\n",
       "      <td>1.000000</td>\n",
       "    </tr>\n",
       "    <tr>\n",
       "      <th>max</th>\n",
       "      <td>3.000000</td>\n",
       "      <td>1.000000</td>\n",
       "      <td>3.000000</td>\n",
       "      <td>1.000000</td>\n",
       "    </tr>\n",
       "  </tbody>\n",
       "</table>\n",
       "</div>"
      ],
      "text/plain": [
       "               cp       exang        thal      target\n",
       "count  210.000000  210.000000  210.000000  210.000000\n",
       "mean     0.947619    0.323810    2.314286    0.557143\n",
       "std      1.031615    0.469046    0.558780    0.497911\n",
       "min      0.000000    0.000000    1.000000    0.000000\n",
       "25%      0.000000    0.000000    2.000000    0.000000\n",
       "50%      1.000000    0.000000    2.000000    1.000000\n",
       "75%      2.000000    1.000000    3.000000    1.000000\n",
       "max      3.000000    1.000000    3.000000    1.000000"
      ]
     },
     "execution_count": 21,
     "metadata": {},
     "output_type": "execute_result"
    }
   ],
   "source": [
    "heart_train.describe()"
   ]
  },
  {
   "cell_type": "code",
   "execution_count": 22,
   "id": "ce1ba8bb",
   "metadata": {},
   "outputs": [],
   "source": [
    "# My own thing, not exactly lecture code 100% literal\n",
    "def calc_probs(dataset, data_columns, target):\n",
    "    # Using a defaultdict to have a built in interpretation of accessing absent values\n",
    "    target_probs = defaultdict(lambda: 0)\n",
    "    cond_probs = {}\n",
    "    target_values = pd.unique(dataset[target])\n",
    "    nr_points = dataset.shape[0]\n",
    "    \n",
    "    for column in data_columns:\n",
    "        # Using a defaultdict to have a built in solution to accessing absent values\n",
    "        for target_value in target_values:\n",
    "            cond_probs[(column, target_value)] = defaultdict(lambda: 0)\n",
    "    \n",
    "    # Iterate over the rows, and count all occurrences of \n",
    "    #   each target value and of each (target, data_col) combination\n",
    "    for index, row in dataset.iterrows():\n",
    "        target_probs[row[target]] += 1\n",
    "        \n",
    "        for column in data_columns:\n",
    "            # Per column in this row of data, update the corresponding\n",
    "            #   (column | target) dict with +1 occurrence of this particular\n",
    "            #   target, value pair (new occurrences start at 0+1=1)\n",
    "            cond_probs[(column, row[target])][row[column]] += 1\n",
    "    \n",
    "    # Now, after seeing all rows, calculate the right probabilities\n",
    "    for col_given_target in cond_probs.keys():\n",
    "        # Because we do cond_probs first, target_probs at this point contains\n",
    "        #   the target occurrences and not yet the probabilities. We use these here.\n",
    "        target_occurrences = target_probs[col_given_target[1]]\n",
    "        \n",
    "        for column_value in cond_probs[col_given_target].keys():\n",
    "            cond_probs[col_given_target][column_value] /= target_occurrences\n",
    "    \n",
    "    # Now, lastly, convert target occurrences to target probabilities\n",
    "    for target_value in target_values:\n",
    "        target_probs[target_value] /= nr_points\n",
    "        \n",
    "    return target_probs, cond_probs"
   ]
  },
  {
   "cell_type": "code",
   "execution_count": 23,
   "id": "9da6e68e",
   "metadata": {},
   "outputs": [],
   "source": [
    "def naive_bayes_predict(dataset, target_probs, cond_probs):\n",
    "    targets = target_probs.keys()\n",
    "    data_columns = dataset.columns\n",
    "    predictions = []\n",
    "    \n",
    "    for index, row in dataset.iterrows():\n",
    "        row_predictions = {}\n",
    "        for target in targets:\n",
    "            target_prob = target_probs[target]\n",
    "            for column in data_columns:\n",
    "                target_prob *= cond_probs[(column, target)][row[column]]\n",
    "            row_predictions[target] = target_prob\n",
    "        \n",
    "#         print(f'Predictions: {row_predictions}')\n",
    "        most_likely_target = max(row_predictions, key=row_predictions.get)\n",
    "#         print(f'Most likely target: {most_likely_target}')\n",
    "        predictions.append(most_likely_target)\n",
    "    \n",
    "    return predictions"
   ]
  },
  {
   "cell_type": "code",
   "execution_count": 24,
   "id": "a980f30d",
   "metadata": {},
   "outputs": [],
   "source": [
    "target_probs, cond_probs = calc_probs(heart_train, [\"cp\", \"exang\", \"thal\"], 'target')"
   ]
  },
  {
   "cell_type": "code",
   "execution_count": 25,
   "id": "eadb0d72",
   "metadata": {},
   "outputs": [],
   "source": [
    "validation_data = heart_val.drop('target', axis=1)\n",
    "validation_target = heart_val['target']"
   ]
  },
  {
   "cell_type": "code",
   "execution_count": 26,
   "id": "970c8fd8",
   "metadata": {},
   "outputs": [
    {
     "name": "stdout",
     "output_type": "stream",
     "text": [
      "Option A: Patient predicted as NOT having heart disease (target=1)? | Prediction = [0]\n"
     ]
    }
   ],
   "source": [
    "# Question A: prediction\n",
    "question_data = pd.DataFrame(data={'cp':[3], 'exang':[1], 'thal':[1]})\n",
    "naive_bayes_prediction = naive_bayes_predict(question_data, target_probs, cond_probs)\n",
    "print(f'Option A: Patient predicted as NOT having heart disease (target=1)? | Prediction = {naive_bayes_prediction}')"
   ]
  },
  {
   "cell_type": "code",
   "execution_count": 27,
   "id": "a63dad22",
   "metadata": {},
   "outputs": [
    {
     "name": "stdout",
     "output_type": "stream",
     "text": [
      "Option B: 48% occurrence of atypical angina? | occurrence = 16.666666666666664%\n"
     ]
    }
   ],
   "source": [
    "# Question B: I need extra code to do this now...\n",
    "atypical_angina = 0\n",
    "nr_points = heart_train.shape[0]\n",
    "for index, row in heart_train.iterrows():\n",
    "    if row['cp'] == 1:\n",
    "        atypical_angina += 1\n",
    "print(f'Option B: 48% occurrence of atypical angina? | occurrence = {atypical_angina / nr_points * 100}%')"
   ]
  },
  {
   "cell_type": "code",
   "execution_count": 28,
   "id": "10d3bc5d",
   "metadata": {},
   "outputs": [
    {
     "name": "stdout",
     "output_type": "stream",
     "text": [
      "Option C: probability equal to 0.075? | probability = 0.07526881720430108\n"
     ]
    }
   ],
   "source": [
    "# Question C: singular conditional prob\n",
    "prob = cond_probs[('thal', 0)][1]\n",
    "print(f'Option C: probability equal to 0.075? | probability = {prob}')"
   ]
  },
  {
   "cell_type": "code",
   "execution_count": 29,
   "id": "5e773008",
   "metadata": {},
   "outputs": [
    {
     "name": "stdout",
     "output_type": "stream",
     "text": [
      "Option D: Accuracy on validation set 80%? | accuracy = 74.72527472527473%\n"
     ]
    }
   ],
   "source": [
    "# Question D: accuracy\n",
    "naive_bayes_prediction = naive_bayes_predict(validation_data, target_probs, cond_probs)\n",
    "accuracy = evaluation(naive_bayes_prediction, validation_target)\n",
    "print(f'Option D: Accuracy on validation set 80%? | accuracy = {accuracy*100}%')"
   ]
  },
  {
   "cell_type": "markdown",
   "id": "1dccb238",
   "metadata": {},
   "source": [
    "Turns out it is in fact **c that is the correct answer**."
   ]
  },
  {
   "cell_type": "markdown",
   "id": "bb4dcb73",
   "metadata": {},
   "source": [
    "# Question 6 - C"
   ]
  },
  {
   "cell_type": "code",
   "execution_count": 30,
   "id": "469d9c88",
   "metadata": {},
   "outputs": [],
   "source": [
    "class Node:\n",
    "    def __init__(self, data):\n",
    "        self.data = data\n",
    "        self.no_child = None\n",
    "        self.yes_child = None\n",
    "        self.decisions = self._generate_decisions(data, ['cp', 'exang', 'thal'])\n",
    "        self.decision_used = None\n",
    "        self.probabilities = self._calc_data_probs()\n",
    "        \n",
    "    def _generate_decisions(self, dataset, cols_to_generate_for):\n",
    "        decisions = []\n",
    "        for column in cols_to_generate_for:\n",
    "            values = pd.unique(dataset[column])\n",
    "            for value in values:\n",
    "                decisions.append((column, value))\n",
    "        return decisions\n",
    "    \n",
    "    def _cost(self, no_node, yes_node):\n",
    "        own_nr_points = self.data.shape[0]\n",
    "        no_nr_points  = no_node.data.shape[0]\n",
    "        yes_nr_points = yes_node.data.shape[0]\n",
    "        return ((no_nr_points/own_nr_points * no_node.calc_entropy()\n",
    "                 + yes_nr_points/own_nr_points * yes_node.calc_entropy())\n",
    "                 - self.calc_entropy())\n",
    "    \n",
    "    def _calc_data_probs(self):\n",
    "        # Binary data, so we can simplify this calculation\n",
    "        probabilities = {}\n",
    "        probabilities[1] = self.data.target.mean()\n",
    "        probabilities[0] = 1 - probabilities[1]\n",
    "        return probabilities\n",
    "    \n",
    "    def calc_entropy(self):\n",
    "        entropy = 0\n",
    "        if self.probabilities[0] == 1 or self.probabilities[1] == 1:\n",
    "            # No impurity, pure node\n",
    "            return 0\n",
    "        \n",
    "        for key in self.probabilities:\n",
    "            entropy += self.probabilities[key] * np.log(self.probabilities[key])\n",
    "        return -1 * entropy\n",
    "    \n",
    "    def split(self, depth_remaining):\n",
    "        \"\"\"Note that no intelligent stopping criterion is implemented, just 'run until depth'\"\"\"\n",
    "        if depth_remaining == 0:\n",
    "            # Pseudocode says learn p(Y), done in __init__ since self.probabilities\n",
    "            #   is also needed for cost calculations\n",
    "            return\n",
    "        \n",
    "        # For all possible decisions, calculate cost\n",
    "        lowest_cost_so_far = np.inf\n",
    "        \n",
    "        # After this for loop, the lowest cost is found and the new children are stored\n",
    "        for decision in self.decisions:\n",
    "            # Create the subsets that the children would have, and calculate the cost of this \n",
    "            #   particular decision. Then store it, so we can later choose the best one.\n",
    "            no_data   = self.data[self.data[decision[0]] != decision[1]]\n",
    "            yes_data  = self.data[self.data[decision[0]] == decision[1]]\n",
    "            no_child  = Node(no_data)\n",
    "            yes_child = Node(yes_data)\n",
    "            cost = self._cost(no_child, yes_child)\n",
    "            \n",
    "            # If this is the best cost so far, store what we built to find it\n",
    "            if cost < lowest_cost_so_far:\n",
    "                lowest_cost_so_far = cost\n",
    "                self.decision_used = decision\n",
    "                self.no_child = no_child\n",
    "                self.yes_child = yes_child\n",
    "                \n",
    "        # Now for the recursive part: the children get to split as well, up to max depth.\n",
    "        self.no_child.split(depth_remaining-1)\n",
    "        self.yes_child.split(depth_remaining-1)"
   ]
  },
  {
   "cell_type": "code",
   "execution_count": 31,
   "id": "e95ce96b",
   "metadata": {},
   "outputs": [],
   "source": [
    "def CART(dataset):\n",
    "    root = Node(dataset)\n",
    "    # Question says to have a max depth of 3, and so we do that here\n",
    "    root.split(3)\n",
    "    return root"
   ]
  },
  {
   "cell_type": "code",
   "execution_count": 32,
   "id": "d7f5b10c",
   "metadata": {},
   "outputs": [],
   "source": [
    "def predict_decision_tree(root_node, dataset):\n",
    "    predictions = []\n",
    "    \n",
    "    for index, row in dataset.iterrows():\n",
    "        node = root_node\n",
    "        while node.decision_used is not None:\n",
    "            # Navigate down the tree via the decision for each node\n",
    "            decision_column = node.decision_used[0]\n",
    "            decision_value  = node.decision_used[1]\n",
    "            if row[decision_column] == decision_value:\n",
    "                node = node.yes_child\n",
    "            else:\n",
    "                node = node.no_child\n",
    "        \n",
    "        # Leaf reached\n",
    "        row_predictions = node.probabilities\n",
    "        \n",
    "        most_likely_target = max(row_predictions, key=row_predictions.get)\n",
    "        predictions.append(most_likely_target)\n",
    "    \n",
    "    return predictions"
   ]
  },
  {
   "cell_type": "code",
   "execution_count": 33,
   "id": "00ce0c13",
   "metadata": {},
   "outputs": [],
   "source": [
    "tree_root = CART(heart_train)"
   ]
  },
  {
   "cell_type": "code",
   "execution_count": 34,
   "id": "86d3716b",
   "metadata": {},
   "outputs": [
    {
     "name": "stdout",
     "output_type": "stream",
     "text": [
      "Option A: Decision tree validation accuracy > Naive Bayes validation accuracy? | False (0.725 > 0.747)\n"
     ]
    }
   ],
   "source": [
    "# Question A\n",
    "decision_tree_predictions = predict_decision_tree(tree_root, validation_data)\n",
    "naive_bayes_val_acc = evaluation(naive_bayes_prediction, validation_target)\n",
    "decision_tree_val_acc = evaluation(decision_tree_predictions, validation_target)\n",
    "print(f\"Option A: Decision tree validation accuracy > Naive Bayes validation accuracy? | \"\n",
    "      f\"{decision_tree_val_acc > naive_bayes_val_acc} ({round(decision_tree_val_acc, 3)} > {round(naive_bayes_val_acc, 3)})\")"
   ]
  },
  {
   "cell_type": "code",
   "execution_count": 35,
   "id": "6ba623f0",
   "metadata": {},
   "outputs": [
    {
     "name": "stdout",
     "output_type": "stream",
     "text": [
      "Option B: Root decision thal == 3? | decision is cp == 0\n"
     ]
    }
   ],
   "source": [
    "# Question B\n",
    "print(f'Option B: Root decision thal == 3? | decision is {tree_root.decision_used[0]} == {tree_root.decision_used[1]}')"
   ]
  },
  {
   "cell_type": "code",
   "execution_count": 36,
   "id": "a8d6a95e",
   "metadata": {},
   "outputs": [
    {
     "name": "stdout",
     "output_type": "stream",
     "text": [
      "Option C: is this particular patient predicted to have a heart disease (target=0)? | Prediction = [0]\n"
     ]
    }
   ],
   "source": [
    "# Question C\n",
    "question_data = pd.DataFrame(data={'cp':[0], 'exang':[0], 'thal':[3]})\n",
    "decision_tree_prediction = predict_decision_tree(tree_root, question_data)\n",
    "print(f'Option C: is this particular patient predicted to have a heart disease (target=0)? '\n",
    "      f'| Prediction = {decision_tree_prediction}')"
   ]
  },
  {
   "cell_type": "code",
   "execution_count": 37,
   "id": "4542333b",
   "metadata": {},
   "outputs": [
    {
     "name": "stdout",
     "output_type": "stream",
     "text": [
      "Entropy of leaf: 0.23810973994596282\n",
      "Entropy of leaf: 0.5297061990576545\n",
      "Entropy of leaf: 0.6365141682948128\n",
      "Entropy of leaf: 0.6581099875431143\n",
      "Entropy of leaf: 0.19490868718781756\n",
      "Entropy of leaf: 0.47413931305783746\n",
      "Entropy of leaf: 0.6460905050608089\n",
      "Entropy of leaf: 0.5004024235381879\n",
      "Option D: does only one of the leaf nodes shown above have impurity == 0? | None do, so definitely not \"only one\"\n"
     ]
    }
   ],
   "source": [
    "# Question D\n",
    "def in_order_walk(tree):\n",
    "    if tree.no_child:\n",
    "        in_order_walk(tree.no_child)\n",
    "    \n",
    "    if not tree.no_child and not tree.yes_child:\n",
    "        # Only visit leaves\n",
    "        print(f\"Entropy of leaf: {tree.calc_entropy()}\")\n",
    "    \n",
    "    if tree.yes_child:\n",
    "        in_order_walk(tree.yes_child)\n",
    "\n",
    "in_order_walk(tree_root)\n",
    "print('Option D: does only one of the leaf nodes shown above have impurity == 0? | None do, so definitely not \"only one\"')"
   ]
  },
  {
   "cell_type": "markdown",
   "id": "680096be",
   "metadata": {},
   "source": [
    "Seems like only C is true, which is a good sign. **Answer C it is!**"
   ]
  }
 ],
 "metadata": {
  "kernelspec": {
   "display_name": "Python 3",
   "language": "python",
   "name": "python3"
  },
  "language_info": {
   "codemirror_mode": {
    "name": "ipython",
    "version": 3
   },
   "file_extension": ".py",
   "mimetype": "text/x-python",
   "name": "python",
   "nbconvert_exporter": "python",
   "pygments_lexer": "ipython3",
   "version": "3.8.10"
  }
 },
 "nbformat": 4,
 "nbformat_minor": 5
}
